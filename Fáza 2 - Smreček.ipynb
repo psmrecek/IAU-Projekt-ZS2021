{
 "cells": [
  {
   "cell_type": "markdown",
   "metadata": {},
   "source": [
    "# IAU Projekt"
   ]
  },
  {
   "cell_type": "markdown",
   "metadata": {},
   "source": [
    "# Fáza 2 - predspracovanie údajov"
   ]
  },
  {
   "cell_type": "markdown",
   "metadata": {},
   "source": [
    "V tejto fáze sa od Vás očakáva:\n",
    "* Realizujte predspracovanie údajov pre strojové učenie. Výsledkom bude upravená dátová sada vo formáte csv alebo tsv, kde jedno pozorovanie musí byť opísané jedným riadkom.\n",
    "* V 3. fáze budeme pracovať s algoritmami strojového učenia, ktorých implementácia v scikit-learn podporuje len numerické dáta. To vedie k tomu že treba niečo spraviť s nenumerickými dátami.\n",
    "* Replikovateľnosť predspracovania na trénovacej a testovacej množine dát.\n",
    "\n",
    "Keď sa predspracovaním mohol zmeniť tvar a charakteristiky dát (počet atribútov, distribúcie hodnôt a pod.), je možné že treba znovu zrealizovať podstatné časti prieskumnej analýzy a opakovane podľa Vašej potreby. Bodovanie znovu za EDA už nebudeme, zmeny ale zdokumentujte. Problém s dátami môžete riešiť iteratívne v každej fáze aj vo všetkých fázach podľa vlastnej potreby.\n"
   ]
  },
  {
   "cell_type": "markdown",
   "metadata": {},
   "source": [
    "### **// alebo dať už upravenú tabuľku?**"
   ]
  },
  {
   "cell_type": "code",
   "execution_count": 1,
   "metadata": {},
   "outputs": [],
   "source": [
    "import matplotlib.pyplot as plt\n",
    "import seaborn as sns\n",
    "import pandas as pd\n",
    "import numpy as np\n",
    "import scipy.stats as stats"
   ]
  },
  {
   "cell_type": "code",
   "execution_count": 2,
   "metadata": {},
   "outputs": [
    {
     "data": {
      "text/html": [
       "<div>\n",
       "<style scoped>\n",
       "    .dataframe tbody tr th:only-of-type {\n",
       "        vertical-align: middle;\n",
       "    }\n",
       "\n",
       "    .dataframe tbody tr th {\n",
       "        vertical-align: top;\n",
       "    }\n",
       "\n",
       "    .dataframe thead th {\n",
       "        text-align: right;\n",
       "    }\n",
       "</style>\n",
       "<table border=\"1\" class=\"dataframe\">\n",
       "  <thead>\n",
       "    <tr style=\"text-align: right;\">\n",
       "      <th></th>\n",
       "      <th>Unnamed: 0</th>\n",
       "      <th>weight</th>\n",
       "      <th>ssn</th>\n",
       "      <th>hemoglobin</th>\n",
       "      <th>alp</th>\n",
       "      <th>etytr</th>\n",
       "      <th>alt</th>\n",
       "      <th>erytrocyty</th>\n",
       "      <th>hbver</th>\n",
       "      <th>name</th>\n",
       "      <th>hematokrit</th>\n",
       "      <th>indicator</th>\n",
       "      <th>er-cv</th>\n",
       "      <th>leukocyty</th>\n",
       "      <th>smoker</th>\n",
       "      <th>relationship</th>\n",
       "      <th>ast</th>\n",
       "      <th>trombocyty</th>\n",
       "    </tr>\n",
       "  </thead>\n",
       "  <tbody>\n",
       "    <tr>\n",
       "      <th>0</th>\n",
       "      <td>0</td>\n",
       "      <td>12.35740</td>\n",
       "      <td>803-27-3974</td>\n",
       "      <td>5.94182</td>\n",
       "      <td>86.80991</td>\n",
       "      <td>7.12559</td>\n",
       "      <td>2.18482</td>\n",
       "      <td>7.53345</td>\n",
       "      <td>7.51373</td>\n",
       "      <td>Kayla Rodriguez</td>\n",
       "      <td>6.98497</td>\n",
       "      <td>1.0</td>\n",
       "      <td>57.08422</td>\n",
       "      <td>7.21726</td>\n",
       "      <td>Y</td>\n",
       "      <td>married</td>\n",
       "      <td>77.99546</td>\n",
       "      <td>7.98017</td>\n",
       "    </tr>\n",
       "    <tr>\n",
       "      <th>1</th>\n",
       "      <td>1</td>\n",
       "      <td>118.10209</td>\n",
       "      <td>205-46-9278</td>\n",
       "      <td>6.45407</td>\n",
       "      <td>79.22919</td>\n",
       "      <td>5.34025</td>\n",
       "      <td>1.60706</td>\n",
       "      <td>6.53048</td>\n",
       "      <td>7.30977</td>\n",
       "      <td>Diane Holt</td>\n",
       "      <td>8.65706</td>\n",
       "      <td>1.0</td>\n",
       "      <td>63.49068</td>\n",
       "      <td>9.35320</td>\n",
       "      <td>no</td>\n",
       "      <td>widowed</td>\n",
       "      <td>31.27623</td>\n",
       "      <td>9.27384</td>\n",
       "    </tr>\n",
       "    <tr>\n",
       "      <th>2</th>\n",
       "      <td>2</td>\n",
       "      <td>89.97897</td>\n",
       "      <td>507-12-0831</td>\n",
       "      <td>9.73090</td>\n",
       "      <td>17.97254</td>\n",
       "      <td>9.49744</td>\n",
       "      <td>1.75153</td>\n",
       "      <td>5.96430</td>\n",
       "      <td>8.02289</td>\n",
       "      <td>David Bryant MD</td>\n",
       "      <td>7.46431</td>\n",
       "      <td>1.0</td>\n",
       "      <td>66.64176</td>\n",
       "      <td>7.36311</td>\n",
       "      <td>no</td>\n",
       "      <td>nop</td>\n",
       "      <td>52.03928</td>\n",
       "      <td>8.18942</td>\n",
       "    </tr>\n",
       "    <tr>\n",
       "      <th>3</th>\n",
       "      <td>3</td>\n",
       "      <td>137.89307</td>\n",
       "      <td>328-79-8098</td>\n",
       "      <td>8.65753</td>\n",
       "      <td>19.63713</td>\n",
       "      <td>8.90814</td>\n",
       "      <td>5.80869</td>\n",
       "      <td>8.47758</td>\n",
       "      <td>7.37768</td>\n",
       "      <td>Joshua Hickman</td>\n",
       "      <td>9.15039</td>\n",
       "      <td>1.0</td>\n",
       "      <td>62.03448</td>\n",
       "      <td>6.50476</td>\n",
       "      <td>no</td>\n",
       "      <td>single</td>\n",
       "      <td>63.20161</td>\n",
       "      <td>6.22091</td>\n",
       "    </tr>\n",
       "    <tr>\n",
       "      <th>4</th>\n",
       "      <td>4</td>\n",
       "      <td>95.55653</td>\n",
       "      <td>307-37-5739</td>\n",
       "      <td>5.96644</td>\n",
       "      <td>82.63100</td>\n",
       "      <td>6.84092</td>\n",
       "      <td>3.16471</td>\n",
       "      <td>7.38053</td>\n",
       "      <td>8.07490</td>\n",
       "      <td>Frank Glover</td>\n",
       "      <td>9.55976</td>\n",
       "      <td>1.0</td>\n",
       "      <td>79.48715</td>\n",
       "      <td>9.45322</td>\n",
       "      <td>N</td>\n",
       "      <td>married</td>\n",
       "      <td>28.53852</td>\n",
       "      <td>7.38761</td>\n",
       "    </tr>\n",
       "  </tbody>\n",
       "</table>\n",
       "</div>"
      ],
      "text/plain": [
       "   Unnamed: 0     weight          ssn  hemoglobin       alp    etytr      alt  \\\n",
       "0           0   12.35740  803-27-3974     5.94182  86.80991  7.12559  2.18482   \n",
       "1           1  118.10209  205-46-9278     6.45407  79.22919  5.34025  1.60706   \n",
       "2           2   89.97897  507-12-0831     9.73090  17.97254  9.49744  1.75153   \n",
       "3           3  137.89307  328-79-8098     8.65753  19.63713  8.90814  5.80869   \n",
       "4           4   95.55653  307-37-5739     5.96644  82.63100  6.84092  3.16471   \n",
       "\n",
       "   erytrocyty    hbver             name  hematokrit  indicator     er-cv  \\\n",
       "0     7.53345  7.51373  Kayla Rodriguez     6.98497        1.0  57.08422   \n",
       "1     6.53048  7.30977       Diane Holt     8.65706        1.0  63.49068   \n",
       "2     5.96430  8.02289  David Bryant MD     7.46431        1.0  66.64176   \n",
       "3     8.47758  7.37768   Joshua Hickman     9.15039        1.0  62.03448   \n",
       "4     7.38053  8.07490     Frank Glover     9.55976        1.0  79.48715   \n",
       "\n",
       "   leukocyty smoker relationship       ast  trombocyty  \n",
       "0    7.21726      Y      married  77.99546     7.98017  \n",
       "1    9.35320     no      widowed  31.27623     9.27384  \n",
       "2    7.36311     no          nop  52.03928     8.18942  \n",
       "3    6.50476     no       single  63.20161     6.22091  \n",
       "4    9.45322      N      married  28.53852     7.38761  "
      ]
     },
     "execution_count": 2,
     "metadata": {},
     "output_type": "execute_result"
    }
   ],
   "source": [
    "filename_labor = \"046/labor.csv\"\n",
    "labor = pd.read_csv(filename_labor, sep='\\t')\n",
    "labor.head()"
   ]
  },
  {
   "cell_type": "code",
   "execution_count": 3,
   "metadata": {
    "scrolled": true
   },
   "outputs": [
    {
     "data": {
      "text/html": [
       "<div>\n",
       "<style scoped>\n",
       "    .dataframe tbody tr th:only-of-type {\n",
       "        vertical-align: middle;\n",
       "    }\n",
       "\n",
       "    .dataframe tbody tr th {\n",
       "        vertical-align: top;\n",
       "    }\n",
       "\n",
       "    .dataframe thead th {\n",
       "        text-align: right;\n",
       "    }\n",
       "</style>\n",
       "<table border=\"1\" class=\"dataframe\">\n",
       "  <thead>\n",
       "    <tr style=\"text-align: right;\">\n",
       "      <th></th>\n",
       "      <th>Unnamed: 0</th>\n",
       "      <th>race</th>\n",
       "      <th>residence</th>\n",
       "      <th>job</th>\n",
       "      <th>birthdate</th>\n",
       "      <th>company</th>\n",
       "      <th>blood_group</th>\n",
       "      <th>sex</th>\n",
       "      <th>ssn</th>\n",
       "      <th>name</th>\n",
       "    </tr>\n",
       "  </thead>\n",
       "  <tbody>\n",
       "    <tr>\n",
       "      <th>0</th>\n",
       "      <td>0</td>\n",
       "      <td>White</td>\n",
       "      <td>108 Pham Loaf\\nNew Shelby, IN 31526</td>\n",
       "      <td>Magazine features editor</td>\n",
       "      <td>2007/09/11</td>\n",
       "      <td>Reynolds, Stewart and Tanner</td>\n",
       "      <td>O+</td>\n",
       "      <td>F</td>\n",
       "      <td>087-49-2961</td>\n",
       "      <td>Laura Valentine</td>\n",
       "    </tr>\n",
       "    <tr>\n",
       "      <th>1</th>\n",
       "      <td>1</td>\n",
       "      <td>Asian</td>\n",
       "      <td>2246 Tammy Cliffs Apt. 057\\nNorth Kim, MI 55878</td>\n",
       "      <td>Investment banker, operational</td>\n",
       "      <td>1971/05/20</td>\n",
       "      <td>Mcdonald-White</td>\n",
       "      <td>A-</td>\n",
       "      <td>F</td>\n",
       "      <td>704-69-2733</td>\n",
       "      <td>Angela Sullivan</td>\n",
       "    </tr>\n",
       "    <tr>\n",
       "      <th>2</th>\n",
       "      <td>2</td>\n",
       "      <td>White</td>\n",
       "      <td>12245 Maxwell Island\\nNorth Benjamin, KY 38697</td>\n",
       "      <td>Charity fundraiser</td>\n",
       "      <td>09 Oct 1945</td>\n",
       "      <td>Waters, Davis and Mcintyre</td>\n",
       "      <td>AB+</td>\n",
       "      <td>F</td>\n",
       "      <td>787-12-1516</td>\n",
       "      <td>Haley Ramirez</td>\n",
       "    </tr>\n",
       "    <tr>\n",
       "      <th>3</th>\n",
       "      <td>3</td>\n",
       "      <td>White</td>\n",
       "      <td>17000 Saunders Circles Apt. 457\\nDonaldhaven, ...</td>\n",
       "      <td>Engineer, production</td>\n",
       "      <td>04/25/2006, 00:00:00</td>\n",
       "      <td>Watson and Sons</td>\n",
       "      <td>A+</td>\n",
       "      <td>F</td>\n",
       "      <td>127-86-0135</td>\n",
       "      <td>Mary Harris</td>\n",
       "    </tr>\n",
       "    <tr>\n",
       "      <th>4</th>\n",
       "      <td>4</td>\n",
       "      <td>Hawaiian</td>\n",
       "      <td>43712 Andrea Expressway\\nNorth Mckenzie, AZ 31049</td>\n",
       "      <td>IT consultant</td>\n",
       "      <td>1936-03-01</td>\n",
       "      <td>Alvarez PLC</td>\n",
       "      <td>B+</td>\n",
       "      <td>M</td>\n",
       "      <td>875-46-1555</td>\n",
       "      <td>Jeremy James</td>\n",
       "    </tr>\n",
       "  </tbody>\n",
       "</table>\n",
       "</div>"
      ],
      "text/plain": [
       "   Unnamed: 0      race                                          residence  \\\n",
       "0           0     White                108 Pham Loaf\\nNew Shelby, IN 31526   \n",
       "1           1     Asian    2246 Tammy Cliffs Apt. 057\\nNorth Kim, MI 55878   \n",
       "2           2     White     12245 Maxwell Island\\nNorth Benjamin, KY 38697   \n",
       "3           3     White  17000 Saunders Circles Apt. 457\\nDonaldhaven, ...   \n",
       "4           4  Hawaiian  43712 Andrea Expressway\\nNorth Mckenzie, AZ 31049   \n",
       "\n",
       "                              job             birthdate  \\\n",
       "0        Magazine features editor            2007/09/11   \n",
       "1  Investment banker, operational            1971/05/20   \n",
       "2              Charity fundraiser           09 Oct 1945   \n",
       "3            Engineer, production  04/25/2006, 00:00:00   \n",
       "4                   IT consultant            1936-03-01   \n",
       "\n",
       "                        company blood_group sex          ssn             name  \n",
       "0  Reynolds, Stewart and Tanner          O+   F  087-49-2961  Laura Valentine  \n",
       "1                Mcdonald-White          A-   F  704-69-2733  Angela Sullivan  \n",
       "2    Waters, Davis and Mcintyre         AB+   F  787-12-1516    Haley Ramirez  \n",
       "3               Watson and Sons          A+   F  127-86-0135      Mary Harris  \n",
       "4                   Alvarez PLC          B+   M  875-46-1555     Jeremy James  "
      ]
     },
     "execution_count": 3,
     "metadata": {},
     "output_type": "execute_result"
    }
   ],
   "source": [
    "filename_profiles = \"046/profiles.csv\"\n",
    "profiles = pd.read_csv(filename_profiles, sep='\\t')\n",
    "profiles.head()"
   ]
  },
  {
   "cell_type": "markdown",
   "metadata": {},
   "source": [
    "## 1. Integrácia a čistenie dát (5b)"
   ]
  },
  {
   "cell_type": "markdown",
   "metadata": {},
   "source": [
    "Transformujte dáta na vhodný formát pre strojové učenie t.j. jedno pozorovanie musí byť opísané jedným riadkom a každý atribút musí byť v numerickom formáte. \n",
    "* Pri riešení chýbajúcich hodnôt (missing values) vyskúšajte rôzne stratégie z nasledujúcich podskupín:\n",
    "    * odstránenie pozorovaní s chýbajúcimi údajmi\n",
    "    * nahradenie chýbajúcej hodnoty mediánom, priemerom, pomerom (ku korelovanému atribútu), alebo pomocou lineárnej regresie resp. kNN\n",
    "* Podobne postupujte aj pri riešení vychýlených hodnôt (outlier detection):\n",
    "    * odstránenie vychýlených (odľahlých) pozorovaní\n",
    "    * nahradenie vychýlenej hodnoty hraničnými hodnotami rozdelenia (5% resp. 95%)"
   ]
  },
  {
   "cell_type": "code",
   "execution_count": null,
   "metadata": {},
   "outputs": [],
   "source": []
  },
  {
   "cell_type": "code",
   "execution_count": null,
   "metadata": {},
   "outputs": [],
   "source": []
  },
  {
   "cell_type": "code",
   "execution_count": null,
   "metadata": {},
   "outputs": [],
   "source": []
  },
  {
   "cell_type": "markdown",
   "metadata": {},
   "source": [
    "## 2. Realizácia predspracovania dát (5b)\n"
   ]
  },
  {
   "cell_type": "markdown",
   "metadata": {},
   "source": [
    "* Transformované dáta pre strojové učenie si rozdeľuje na trénovaciu a testovaciu množinu (train and test dataset) podľa vami preddefinovaným pomerom. Naďalej pracujte len s trénovacím datasetom.\n",
    "* Transformujte atribútov dát pre strojové učenie podľa dostupných techník (minimálne 2 techniky) ako scaling, transformers a ďalšie.\n",
    "* Zdôvodnite Vašu voľby/rozhodnutie pre realizáciu (t.j. zdokumentovanie)"
   ]
  },
  {
   "cell_type": "code",
   "execution_count": null,
   "metadata": {},
   "outputs": [],
   "source": []
  },
  {
   "cell_type": "code",
   "execution_count": null,
   "metadata": {},
   "outputs": [],
   "source": []
  },
  {
   "cell_type": "code",
   "execution_count": null,
   "metadata": {},
   "outputs": [],
   "source": []
  },
  {
   "cell_type": "markdown",
   "metadata": {},
   "source": [
    "## 3. Výber atribútov pre strojové učenie (5b)"
   ]
  },
  {
   "cell_type": "markdown",
   "metadata": {},
   "source": [
    "* Zistite ktoré atribúty (features) vo vašich dátach pre strojové učenie sú informatívne k atribútu “indikator”. Zoradíte tie atribúty v poradí podľa dôležitosti. \n",
    "* Zdôvodnite Vašu voľby/rozhodnutie pre realizáciu (t.j. zdokumentovanie)"
   ]
  },
  {
   "cell_type": "code",
   "execution_count": null,
   "metadata": {},
   "outputs": [],
   "source": []
  },
  {
   "cell_type": "code",
   "execution_count": null,
   "metadata": {},
   "outputs": [],
   "source": []
  },
  {
   "cell_type": "code",
   "execution_count": null,
   "metadata": {},
   "outputs": [],
   "source": []
  },
  {
   "cell_type": "markdown",
   "metadata": {},
   "source": [
    "## 4. Replikovateľnosť predspracovania (5b)"
   ]
  },
  {
   "cell_type": "markdown",
   "metadata": {},
   "source": [
    "* Upravte váš kód realizujúci predspracovanie trénovacej množiny tak, aby ho bolo možné bez ďalších úprav znovu použiť na predspracovanie testovacej množiny (napr. pomocou funkcie/í)\n",
    "* Očakáva sa aj využitie možnosti sklearn.pipeline"
   ]
  },
  {
   "cell_type": "code",
   "execution_count": null,
   "metadata": {},
   "outputs": [],
   "source": []
  },
  {
   "cell_type": "code",
   "execution_count": null,
   "metadata": {},
   "outputs": [],
   "source": []
  },
  {
   "cell_type": "code",
   "execution_count": null,
   "metadata": {},
   "outputs": [],
   "source": []
  },
  {
   "cell_type": "markdown",
   "metadata": {},
   "source": [
    "Správa sa odovzdáva v 9. týždni semestra\n",
    "\n",
    "Na cvičení, dvojica svojmu cvičiacemu odprezentuje vykonanú prieskumnú analýzu v Jupyter Notebooku.\n",
    "Správu elektronicky odovzdá jeden člen z dvojice do systému AIS do nedele 21.11.2021 23:59."
   ]
  }
 ],
 "metadata": {
  "interpreter": {
   "hash": "3521e35cbe2b1cdbbd5d08630a6e651e4449715cd00a47fe09d73258a6c84e53"
  },
  "kernelspec": {
   "display_name": "Python 3 (ipykernel)",
   "language": "python",
   "name": "python3"
  },
  "language_info": {
   "codemirror_mode": {
    "name": "ipython",
    "version": 3
   },
   "file_extension": ".py",
   "mimetype": "text/x-python",
   "name": "python",
   "nbconvert_exporter": "python",
   "pygments_lexer": "ipython3",
   "version": "3.9.7"
  }
 },
 "nbformat": 4,
 "nbformat_minor": 2
}
