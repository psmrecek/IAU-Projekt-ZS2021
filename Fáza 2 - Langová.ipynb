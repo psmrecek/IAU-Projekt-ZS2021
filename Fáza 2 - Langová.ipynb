{
 "cells": [
  {
   "cell_type": "markdown",
   "metadata": {},
   "source": [
    "# IAU Projekt"
   ]
  },
  {
   "cell_type": "markdown",
   "metadata": {},
   "source": [
    "# Fáza 2 - predspracovanie údajov"
   ]
  },
  {
   "cell_type": "markdown",
   "metadata": {},
   "source": [
    "V tejto fáze sa od Vás očakáva:\n",
    "* Realizujte predspracovanie údajov pre strojové učenie. Výsledkom bude upravená dátová sada vo formáte csv alebo tsv, kde jedno pozorovanie musí byť opísané jedným riadkom.\n",
    "* V 3. fáze budeme pracovať s algoritmami strojového učenia, ktorých implementácia v scikit-learn podporuje len numerické dáta. To vedie k tomu že treba niečo spraviť s nenumerickými dátami.\n",
    "* Replikovateľnosť predspracovania na trénovacej a testovacej množine dát.\n",
    "\n",
    "Keď sa predspracovaním mohol zmeniť tvar a charakteristiky dát (počet atribútov, distribúcie hodnôt a pod.), je možné že treba znovu zrealizovať podstatné časti prieskumnej analýzy a opakovane podľa Vašej potreby. Bodovanie znovu za EDA už nebudeme, zmeny ale zdokumentujte. Problém s dátami môžete riešiť iteratívne v každej fáze aj vo všetkých fázach podľa vlastnej potreby.\n"
   ]
  },
  {
   "cell_type": "code",
   "execution_count": 2,
   "metadata": {},
   "outputs": [],
   "source": [
    "%run faza1.py"
   ]
  },
  {
   "cell_type": "code",
   "execution_count": 3,
   "metadata": {},
   "outputs": [
    {
     "data": {
      "text/html": [
       "<div>\n",
       "<style scoped>\n",
       "    .dataframe tbody tr th:only-of-type {\n",
       "        vertical-align: middle;\n",
       "    }\n",
       "\n",
       "    .dataframe tbody tr th {\n",
       "        vertical-align: top;\n",
       "    }\n",
       "\n",
       "    .dataframe thead th {\n",
       "        text-align: right;\n",
       "    }\n",
       "</style>\n",
       "<table border=\"1\" class=\"dataframe\">\n",
       "  <thead>\n",
       "    <tr style=\"text-align: right;\">\n",
       "      <th></th>\n",
       "      <th>index</th>\n",
       "      <th>weight</th>\n",
       "      <th>ssn</th>\n",
       "      <th>hemoglobin</th>\n",
       "      <th>alp</th>\n",
       "      <th>etytr</th>\n",
       "      <th>alt</th>\n",
       "      <th>erytrocyty</th>\n",
       "      <th>hbver</th>\n",
       "      <th>name</th>\n",
       "      <th>hematokrit</th>\n",
       "      <th>indicator</th>\n",
       "      <th>er-cv</th>\n",
       "      <th>leukocyty</th>\n",
       "      <th>smoker</th>\n",
       "      <th>relationship</th>\n",
       "      <th>ast</th>\n",
       "      <th>trombocyty</th>\n",
       "    </tr>\n",
       "  </thead>\n",
       "  <tbody>\n",
       "    <tr>\n",
       "      <th>0</th>\n",
       "      <td>0</td>\n",
       "      <td>12.35740</td>\n",
       "      <td>803-27-3974</td>\n",
       "      <td>5.94182</td>\n",
       "      <td>86.80991</td>\n",
       "      <td>7.12559</td>\n",
       "      <td>2.18482</td>\n",
       "      <td>7.53345</td>\n",
       "      <td>7.51373</td>\n",
       "      <td>Kayla Rodriguez</td>\n",
       "      <td>6.98497</td>\n",
       "      <td>1.0</td>\n",
       "      <td>57.08422</td>\n",
       "      <td>7.21726</td>\n",
       "      <td>1</td>\n",
       "      <td>married</td>\n",
       "      <td>77.99546</td>\n",
       "      <td>7.98017</td>\n",
       "    </tr>\n",
       "    <tr>\n",
       "      <th>1</th>\n",
       "      <td>1</td>\n",
       "      <td>118.10209</td>\n",
       "      <td>205-46-9278</td>\n",
       "      <td>6.45407</td>\n",
       "      <td>79.22919</td>\n",
       "      <td>5.34025</td>\n",
       "      <td>1.60706</td>\n",
       "      <td>6.53048</td>\n",
       "      <td>7.30977</td>\n",
       "      <td>Diane Holt</td>\n",
       "      <td>8.65706</td>\n",
       "      <td>1.0</td>\n",
       "      <td>63.49068</td>\n",
       "      <td>9.35320</td>\n",
       "      <td>0</td>\n",
       "      <td>widowed</td>\n",
       "      <td>31.27623</td>\n",
       "      <td>9.27384</td>\n",
       "    </tr>\n",
       "    <tr>\n",
       "      <th>2</th>\n",
       "      <td>2</td>\n",
       "      <td>89.97897</td>\n",
       "      <td>507-12-0831</td>\n",
       "      <td>9.73090</td>\n",
       "      <td>17.97254</td>\n",
       "      <td>9.49744</td>\n",
       "      <td>1.75153</td>\n",
       "      <td>5.96430</td>\n",
       "      <td>8.02289</td>\n",
       "      <td>David Bryant MD</td>\n",
       "      <td>7.46431</td>\n",
       "      <td>1.0</td>\n",
       "      <td>66.64176</td>\n",
       "      <td>7.36311</td>\n",
       "      <td>0</td>\n",
       "      <td>nop</td>\n",
       "      <td>52.03928</td>\n",
       "      <td>8.18942</td>\n",
       "    </tr>\n",
       "    <tr>\n",
       "      <th>3</th>\n",
       "      <td>3</td>\n",
       "      <td>137.89307</td>\n",
       "      <td>328-79-8098</td>\n",
       "      <td>8.65753</td>\n",
       "      <td>19.63713</td>\n",
       "      <td>8.90814</td>\n",
       "      <td>5.80869</td>\n",
       "      <td>8.47758</td>\n",
       "      <td>7.37768</td>\n",
       "      <td>Joshua Hickman</td>\n",
       "      <td>9.15039</td>\n",
       "      <td>1.0</td>\n",
       "      <td>62.03448</td>\n",
       "      <td>6.50476</td>\n",
       "      <td>0</td>\n",
       "      <td>single</td>\n",
       "      <td>63.20161</td>\n",
       "      <td>6.22091</td>\n",
       "    </tr>\n",
       "    <tr>\n",
       "      <th>4</th>\n",
       "      <td>4</td>\n",
       "      <td>95.55653</td>\n",
       "      <td>307-37-5739</td>\n",
       "      <td>5.96644</td>\n",
       "      <td>82.63100</td>\n",
       "      <td>6.84092</td>\n",
       "      <td>3.16471</td>\n",
       "      <td>7.38053</td>\n",
       "      <td>8.07490</td>\n",
       "      <td>Frank Glover</td>\n",
       "      <td>9.55976</td>\n",
       "      <td>1.0</td>\n",
       "      <td>79.48715</td>\n",
       "      <td>9.45322</td>\n",
       "      <td>0</td>\n",
       "      <td>married</td>\n",
       "      <td>28.53852</td>\n",
       "      <td>7.38761</td>\n",
       "    </tr>\n",
       "  </tbody>\n",
       "</table>\n",
       "</div>"
      ],
      "text/plain": [
       "   index     weight          ssn  hemoglobin       alp    etytr      alt  \\\n",
       "0      0   12.35740  803-27-3974     5.94182  86.80991  7.12559  2.18482   \n",
       "1      1  118.10209  205-46-9278     6.45407  79.22919  5.34025  1.60706   \n",
       "2      2   89.97897  507-12-0831     9.73090  17.97254  9.49744  1.75153   \n",
       "3      3  137.89307  328-79-8098     8.65753  19.63713  8.90814  5.80869   \n",
       "4      4   95.55653  307-37-5739     5.96644  82.63100  6.84092  3.16471   \n",
       "\n",
       "   erytrocyty    hbver             name  hematokrit  indicator     er-cv  \\\n",
       "0     7.53345  7.51373  Kayla Rodriguez     6.98497        1.0  57.08422   \n",
       "1     6.53048  7.30977       Diane Holt     8.65706        1.0  63.49068   \n",
       "2     5.96430  8.02289  David Bryant MD     7.46431        1.0  66.64176   \n",
       "3     8.47758  7.37768   Joshua Hickman     9.15039        1.0  62.03448   \n",
       "4     7.38053  8.07490     Frank Glover     9.55976        1.0  79.48715   \n",
       "\n",
       "   leukocyty  smoker relationship       ast  trombocyty  \n",
       "0    7.21726       1      married  77.99546     7.98017  \n",
       "1    9.35320       0      widowed  31.27623     9.27384  \n",
       "2    7.36311       0          nop  52.03928     8.18942  \n",
       "3    6.50476       0       single  63.20161     6.22091  \n",
       "4    9.45322       0      married  28.53852     7.38761  "
      ]
     },
     "execution_count": 3,
     "metadata": {},
     "output_type": "execute_result"
    }
   ],
   "source": [
    "labor.head()"
   ]
  },
  {
   "cell_type": "code",
   "execution_count": 4,
   "metadata": {
    "scrolled": true
   },
   "outputs": [
    {
     "data": {
      "text/html": [
       "<div>\n",
       "<style scoped>\n",
       "    .dataframe tbody tr th:only-of-type {\n",
       "        vertical-align: middle;\n",
       "    }\n",
       "\n",
       "    .dataframe tbody tr th {\n",
       "        vertical-align: top;\n",
       "    }\n",
       "\n",
       "    .dataframe thead th {\n",
       "        text-align: right;\n",
       "    }\n",
       "</style>\n",
       "<table border=\"1\" class=\"dataframe\">\n",
       "  <thead>\n",
       "    <tr style=\"text-align: right;\">\n",
       "      <th></th>\n",
       "      <th>Unnamed: 0</th>\n",
       "      <th>race</th>\n",
       "      <th>residence</th>\n",
       "      <th>job</th>\n",
       "      <th>birthdate</th>\n",
       "      <th>company</th>\n",
       "      <th>blood_group</th>\n",
       "      <th>sex</th>\n",
       "      <th>ssn</th>\n",
       "      <th>name</th>\n",
       "    </tr>\n",
       "  </thead>\n",
       "  <tbody>\n",
       "    <tr>\n",
       "      <th>0</th>\n",
       "      <td>0</td>\n",
       "      <td>White</td>\n",
       "      <td>108 Pham Loaf\\r\\nNew Shelby, IN 31526</td>\n",
       "      <td>Magazine features editor</td>\n",
       "      <td>2007-09-11</td>\n",
       "      <td>Reynolds, Stewart and Tanner</td>\n",
       "      <td>O+</td>\n",
       "      <td>F</td>\n",
       "      <td>087-49-2961</td>\n",
       "      <td>Laura Valentine</td>\n",
       "    </tr>\n",
       "    <tr>\n",
       "      <th>1</th>\n",
       "      <td>1</td>\n",
       "      <td>Asian</td>\n",
       "      <td>2246 Tammy Cliffs Apt. 057\\r\\nNorth Kim, MI 55878</td>\n",
       "      <td>Investment banker, operational</td>\n",
       "      <td>1971-05-20</td>\n",
       "      <td>Mcdonald-White</td>\n",
       "      <td>A-</td>\n",
       "      <td>F</td>\n",
       "      <td>704-69-2733</td>\n",
       "      <td>Angela Sullivan</td>\n",
       "    </tr>\n",
       "    <tr>\n",
       "      <th>2</th>\n",
       "      <td>2</td>\n",
       "      <td>White</td>\n",
       "      <td>12245 Maxwell Island\\r\\nNorth Benjamin, KY 38697</td>\n",
       "      <td>Charity fundraiser</td>\n",
       "      <td>1945-10-09</td>\n",
       "      <td>Waters, Davis and Mcintyre</td>\n",
       "      <td>AB+</td>\n",
       "      <td>F</td>\n",
       "      <td>787-12-1516</td>\n",
       "      <td>Haley Ramirez</td>\n",
       "    </tr>\n",
       "    <tr>\n",
       "      <th>3</th>\n",
       "      <td>3</td>\n",
       "      <td>White</td>\n",
       "      <td>17000 Saunders Circles Apt. 457\\r\\nDonaldhaven...</td>\n",
       "      <td>Engineer, production</td>\n",
       "      <td>2006-04-25</td>\n",
       "      <td>Watson and Sons</td>\n",
       "      <td>A+</td>\n",
       "      <td>F</td>\n",
       "      <td>127-86-0135</td>\n",
       "      <td>Mary Harris</td>\n",
       "    </tr>\n",
       "    <tr>\n",
       "      <th>4</th>\n",
       "      <td>4</td>\n",
       "      <td>Hawaiian</td>\n",
       "      <td>43712 Andrea Expressway\\r\\nNorth Mckenzie, AZ ...</td>\n",
       "      <td>IT consultant</td>\n",
       "      <td>1936-03-01</td>\n",
       "      <td>Alvarez PLC</td>\n",
       "      <td>B+</td>\n",
       "      <td>M</td>\n",
       "      <td>875-46-1555</td>\n",
       "      <td>Jeremy James</td>\n",
       "    </tr>\n",
       "  </tbody>\n",
       "</table>\n",
       "</div>"
      ],
      "text/plain": [
       "   Unnamed: 0      race                                          residence  \\\n",
       "0           0     White              108 Pham Loaf\\r\\nNew Shelby, IN 31526   \n",
       "1           1     Asian  2246 Tammy Cliffs Apt. 057\\r\\nNorth Kim, MI 55878   \n",
       "2           2     White   12245 Maxwell Island\\r\\nNorth Benjamin, KY 38697   \n",
       "3           3     White  17000 Saunders Circles Apt. 457\\r\\nDonaldhaven...   \n",
       "4           4  Hawaiian  43712 Andrea Expressway\\r\\nNorth Mckenzie, AZ ...   \n",
       "\n",
       "                              job  birthdate                       company  \\\n",
       "0        Magazine features editor 2007-09-11  Reynolds, Stewart and Tanner   \n",
       "1  Investment banker, operational 1971-05-20                Mcdonald-White   \n",
       "2              Charity fundraiser 1945-10-09    Waters, Davis and Mcintyre   \n",
       "3            Engineer, production 2006-04-25               Watson and Sons   \n",
       "4                   IT consultant 1936-03-01                   Alvarez PLC   \n",
       "\n",
       "  blood_group sex          ssn             name  \n",
       "0          O+   F  087-49-2961  Laura Valentine  \n",
       "1          A-   F  704-69-2733  Angela Sullivan  \n",
       "2         AB+   F  787-12-1516    Haley Ramirez  \n",
       "3          A+   F  127-86-0135      Mary Harris  \n",
       "4          B+   M  875-46-1555     Jeremy James  "
      ]
     },
     "execution_count": 4,
     "metadata": {},
     "output_type": "execute_result"
    }
   ],
   "source": [
    "profiles.head()"
   ]
  },
  {
   "cell_type": "code",
   "execution_count": 5,
   "metadata": {},
   "outputs": [
    {
     "data": {
      "text/html": [
       "<div>\n",
       "<style scoped>\n",
       "    .dataframe tbody tr th:only-of-type {\n",
       "        vertical-align: middle;\n",
       "    }\n",
       "\n",
       "    .dataframe tbody tr th {\n",
       "        vertical-align: top;\n",
       "    }\n",
       "\n",
       "    .dataframe thead th {\n",
       "        text-align: right;\n",
       "    }\n",
       "</style>\n",
       "<table border=\"1\" class=\"dataframe\">\n",
       "  <thead>\n",
       "    <tr style=\"text-align: right;\">\n",
       "      <th></th>\n",
       "      <th>Unnamed: 0</th>\n",
       "      <th>race</th>\n",
       "      <th>birthdate</th>\n",
       "      <th>blood_group</th>\n",
       "      <th>sex</th>\n",
       "      <th>ssn</th>\n",
       "      <th>weight</th>\n",
       "      <th>hemoglobin</th>\n",
       "      <th>alp</th>\n",
       "      <th>etytr</th>\n",
       "      <th>...</th>\n",
       "      <th>erytrocyty</th>\n",
       "      <th>hbver</th>\n",
       "      <th>hematokrit</th>\n",
       "      <th>indicator</th>\n",
       "      <th>er-cv</th>\n",
       "      <th>leukocyty</th>\n",
       "      <th>smoker</th>\n",
       "      <th>relationship</th>\n",
       "      <th>ast</th>\n",
       "      <th>trombocyty</th>\n",
       "    </tr>\n",
       "  </thead>\n",
       "  <tbody>\n",
       "    <tr>\n",
       "      <th>0</th>\n",
       "      <td>0</td>\n",
       "      <td>White</td>\n",
       "      <td>2007-09-11</td>\n",
       "      <td>O+</td>\n",
       "      <td>F</td>\n",
       "      <td>087-49-2961</td>\n",
       "      <td>68.64852</td>\n",
       "      <td>7.26815</td>\n",
       "      <td>68.18352</td>\n",
       "      <td>5.81889</td>\n",
       "      <td>...</td>\n",
       "      <td>6.93051</td>\n",
       "      <td>6.07205</td>\n",
       "      <td>11.27999</td>\n",
       "      <td>0.0</td>\n",
       "      <td>44.47642</td>\n",
       "      <td>8.86713</td>\n",
       "      <td>0</td>\n",
       "      <td>married</td>\n",
       "      <td>26.77151</td>\n",
       "      <td>5.62532</td>\n",
       "    </tr>\n",
       "    <tr>\n",
       "      <th>1</th>\n",
       "      <td>0</td>\n",
       "      <td>White</td>\n",
       "      <td>2007-09-11</td>\n",
       "      <td>O+</td>\n",
       "      <td>F</td>\n",
       "      <td>087-49-2961</td>\n",
       "      <td>39.27363</td>\n",
       "      <td>5.09400</td>\n",
       "      <td>58.42059</td>\n",
       "      <td>5.99564</td>\n",
       "      <td>...</td>\n",
       "      <td>6.54612</td>\n",
       "      <td>9.31958</td>\n",
       "      <td>11.65206</td>\n",
       "      <td>1.0</td>\n",
       "      <td>57.12059</td>\n",
       "      <td>10.57140</td>\n",
       "      <td>0</td>\n",
       "      <td>widowed</td>\n",
       "      <td>38.28069</td>\n",
       "      <td>6.59275</td>\n",
       "    </tr>\n",
       "    <tr>\n",
       "      <th>2</th>\n",
       "      <td>0</td>\n",
       "      <td>White</td>\n",
       "      <td>2007-09-11</td>\n",
       "      <td>O+</td>\n",
       "      <td>F</td>\n",
       "      <td>087-49-2961</td>\n",
       "      <td>61.21115</td>\n",
       "      <td>9.10298</td>\n",
       "      <td>14.51194</td>\n",
       "      <td>10.27253</td>\n",
       "      <td>...</td>\n",
       "      <td>6.91541</td>\n",
       "      <td>5.98328</td>\n",
       "      <td>9.13539</td>\n",
       "      <td>1.0</td>\n",
       "      <td>16.95110</td>\n",
       "      <td>7.30150</td>\n",
       "      <td>0</td>\n",
       "      <td>single</td>\n",
       "      <td>52.93857</td>\n",
       "      <td>8.58363</td>\n",
       "    </tr>\n",
       "    <tr>\n",
       "      <th>3</th>\n",
       "      <td>0</td>\n",
       "      <td>White</td>\n",
       "      <td>2007-09-11</td>\n",
       "      <td>O+</td>\n",
       "      <td>F</td>\n",
       "      <td>087-49-2961</td>\n",
       "      <td>121.34568</td>\n",
       "      <td>9.03854</td>\n",
       "      <td>11.04396</td>\n",
       "      <td>5.55113</td>\n",
       "      <td>...</td>\n",
       "      <td>6.49755</td>\n",
       "      <td>6.91512</td>\n",
       "      <td>8.46192</td>\n",
       "      <td>0.0</td>\n",
       "      <td>63.86999</td>\n",
       "      <td>8.47060</td>\n",
       "      <td>0</td>\n",
       "      <td>single</td>\n",
       "      <td>48.94005</td>\n",
       "      <td>7.28386</td>\n",
       "    </tr>\n",
       "    <tr>\n",
       "      <th>4</th>\n",
       "      <td>1</td>\n",
       "      <td>Asian</td>\n",
       "      <td>1971-05-20</td>\n",
       "      <td>A-</td>\n",
       "      <td>F</td>\n",
       "      <td>704-69-2733</td>\n",
       "      <td>107.36307</td>\n",
       "      <td>7.43673</td>\n",
       "      <td>68.85609</td>\n",
       "      <td>5.90077</td>\n",
       "      <td>...</td>\n",
       "      <td>7.88035</td>\n",
       "      <td>7.00488</td>\n",
       "      <td>5.96198</td>\n",
       "      <td>1.0</td>\n",
       "      <td>42.66862</td>\n",
       "      <td>6.25355</td>\n",
       "      <td>0</td>\n",
       "      <td>nop</td>\n",
       "      <td>60.53571</td>\n",
       "      <td>9.03697</td>\n",
       "    </tr>\n",
       "  </tbody>\n",
       "</table>\n",
       "<p>5 rows × 21 columns</p>\n",
       "</div>"
      ],
      "text/plain": [
       "   Unnamed: 0   race  birthdate blood_group sex          ssn     weight  \\\n",
       "0           0  White 2007-09-11          O+   F  087-49-2961   68.64852   \n",
       "1           0  White 2007-09-11          O+   F  087-49-2961   39.27363   \n",
       "2           0  White 2007-09-11          O+   F  087-49-2961   61.21115   \n",
       "3           0  White 2007-09-11          O+   F  087-49-2961  121.34568   \n",
       "4           1  Asian 1971-05-20          A-   F  704-69-2733  107.36307   \n",
       "\n",
       "   hemoglobin       alp     etytr  ...  erytrocyty    hbver  hematokrit  \\\n",
       "0     7.26815  68.18352   5.81889  ...     6.93051  6.07205    11.27999   \n",
       "1     5.09400  58.42059   5.99564  ...     6.54612  9.31958    11.65206   \n",
       "2     9.10298  14.51194  10.27253  ...     6.91541  5.98328     9.13539   \n",
       "3     9.03854  11.04396   5.55113  ...     6.49755  6.91512     8.46192   \n",
       "4     7.43673  68.85609   5.90077  ...     7.88035  7.00488     5.96198   \n",
       "\n",
       "   indicator     er-cv  leukocyty  smoker  relationship       ast  trombocyty  \n",
       "0        0.0  44.47642    8.86713       0       married  26.77151     5.62532  \n",
       "1        1.0  57.12059   10.57140       0       widowed  38.28069     6.59275  \n",
       "2        1.0  16.95110    7.30150       0        single  52.93857     8.58363  \n",
       "3        0.0  63.86999    8.47060       0        single  48.94005     7.28386  \n",
       "4        1.0  42.66862    6.25355       0           nop  60.53571     9.03697  \n",
       "\n",
       "[5 rows x 21 columns]"
      ]
     },
     "execution_count": 5,
     "metadata": {},
     "output_type": "execute_result"
    }
   ],
   "source": [
    "merged.head()"
   ]
  },
  {
   "cell_type": "markdown",
   "metadata": {},
   "source": [
    "## 1. Integrácia a čistenie dát (5b)"
   ]
  },
  {
   "cell_type": "markdown",
   "metadata": {},
   "source": [
    "Transformujte dáta na vhodný formát pre strojové učenie t.j. jedno pozorovanie musí byť opísané jedným riadkom a každý atribút musí byť v numerickom formáte. \n",
    "* Pri riešení chýbajúcich hodnôt (missing values) vyskúšajte rôzne stratégie z nasledujúcich podskupín:\n",
    "    * odstránenie pozorovaní s chýbajúcimi údajmi\n",
    "    * nahradenie chýbajúcej hodnoty mediánom, priemerom, pomerom (ku korelovanému atribútu), alebo pomocou lineárnej regresie resp. kNN\n",
    "* Podobne postupujte aj pri riešení vychýlených hodnôt (outlier detection):\n",
    "    * odstránenie vychýlených (odľahlých) pozorovaní\n",
    "    * nahradenie vychýlenej hodnoty hraničnými hodnotami rozdelenia (5% resp. 95%)"
   ]
  },
  {
   "cell_type": "markdown",
   "metadata": {},
   "source": [
    "1. race"
   ]
  },
  {
   "cell_type": "code",
   "execution_count": 6,
   "metadata": {},
   "outputs": [],
   "source": [
    "import category_encoders as ce\n",
    "ce_ordinal = ce.OrdinalEncoder(cols=['race'])\n",
    "profiles = ce_ordinal.fit_transform(profiles)"
   ]
  },
  {
   "cell_type": "markdown",
   "metadata": {},
   "source": [
    "2. residence\n",
    "\n",
    "Tento atribút je až príliš a nepotrebne detailný pre spracovanie dát, preto transformujeme využitím generalizácie bydlisko na štát. Aby sme z celého textu bydliska získali štát, je potrebné NLP a to pomocou regex výrazov. Na obídenie nesprávnych výsledkov využijeme fakt, že názov štátu je zapísaný ako skratka s PSČ.\n",
    "\n",
    "Počet výsledkov je zhodný s počtom záznamov v datasete a po manuálnej kontrole všetky výsledky patria nejakej krajine s PSČ."
   ]
  },
  {
   "cell_type": "code",
   "execution_count": 7,
   "metadata": {},
   "outputs": [
    {
     "data": {
      "text/plain": [
       "54"
      ]
     },
     "execution_count": 7,
     "metadata": {},
     "output_type": "execute_result"
    }
   ],
   "source": [
    "import re\n",
    "import category_encoders as ce\n",
    "\n",
    "for i in profiles['residence'].index:\n",
    "    country_code = re.findall('[A-Z]{2} [0-9]{5}', str(profiles['residence'][i]))[0]\n",
    "    profiles.at[i, 'state']=re.findall('[A-Z]{2}', country_code)[0]\n",
    "len(profiles['state'].value_counts())\n"
   ]
  },
  {
   "cell_type": "markdown",
   "metadata": {},
   "source": [
    "Počet unikátnych krajín je správny, keď vychádzame z pravidiel v USA. 54 štátov dokopy predstavuje 51 štátov v USA plus 3 \"military states\" (AA, AE, AP)."
   ]
  },
  {
   "cell_type": "code",
   "execution_count": 8,
   "metadata": {},
   "outputs": [
    {
     "data": {
      "text/plain": [
       "<AxesSubplot:>"
      ]
     },
     "execution_count": 8,
     "metadata": {},
     "output_type": "execute_result"
    },
    {
     "data": {
      "image/png": "[encoded data removed]",
      "text/plain": [
       "<Figure size 1440x360 with 1 Axes>"
      ]
     },
     "metadata": {
      "needs_background": "light"
     },
     "output_type": "display_data"
    }
   ],
   "source": [
    "profiles['state'].value_counts().plot(kind='bar', figsize=(20, 5))"
   ]
  },
  {
   "cell_type": "code",
   "execution_count": 9,
   "metadata": {},
   "outputs": [],
   "source": [
    "ce_ordinal = ce.OrdinalEncoder(cols=['state'])\n",
    "profiles = ce_ordinal.fit_transform(profiles)"
   ]
  },
  {
   "cell_type": "markdown",
   "metadata": {},
   "source": [
    "3. blood_group"
   ]
  },
  {
   "cell_type": "code",
   "execution_count": 10,
   "metadata": {},
   "outputs": [],
   "source": [
    "ce_ordinal = ce.OrdinalEncoder(cols=['blood_group'])\n",
    "profiles = ce_ordinal.fit_transform(profiles)"
   ]
  },
  {
   "cell_type": "markdown",
   "metadata": {},
   "source": [
    "4. sex"
   ]
  },
  {
   "cell_type": "code",
   "execution_count": 11,
   "metadata": {},
   "outputs": [],
   "source": [
    "ce_OHE = ce.OneHotEncoder(cols=['sex'], use_cat_names=True)\n",
    "profiles = ce_OHE.fit_transform(profiles)"
   ]
  },
  {
   "cell_type": "code",
   "execution_count": 12,
   "metadata": {},
   "outputs": [],
   "source": [
    "import datetime\n",
    "def frombirthtoage(born):\n",
    "    now = datetime.date.today()\n",
    "    return now.year - born.year - ((now.month, now.day) < (born.month, born.day))\n",
    "ages = profiles['birthdate'].apply(lambda d: frombirthtoage(d))\n",
    "profiles = profiles.assign(age=ages.values)"
   ]
  },
  {
   "cell_type": "code",
   "execution_count": 25,
   "metadata": {},
   "outputs": [
    {
     "data": {
      "text/plain": [
       "<AxesSubplot:>"
      ]
     },
     "execution_count": 25,
     "metadata": {},
     "output_type": "execute_result"
    },
    {
     "data": {
      "image/png": "[encoded data removed]",
      "text/plain": [
       "<Figure size 432x288 with 1 Axes>"
      ]
     },
     "metadata": {
      "needs_background": "light"
     },
     "output_type": "display_data"
    }
   ],
   "source": [
    "profiles.age.hist(bins=25)"
   ]
  },
  {
   "cell_type": "code",
   "execution_count": 13,
   "metadata": {},
   "outputs": [
    {
     "data": {
      "text/html": [
       "<div>\n",
       "<style scoped>\n",
       "    .dataframe tbody tr th:only-of-type {\n",
       "        vertical-align: middle;\n",
       "    }\n",
       "\n",
       "    .dataframe tbody tr th {\n",
       "        vertical-align: top;\n",
       "    }\n",
       "\n",
       "    .dataframe thead th {\n",
       "        text-align: right;\n",
       "    }\n",
       "</style>\n",
       "<table border=\"1\" class=\"dataframe\">\n",
       "  <thead>\n",
       "    <tr style=\"text-align: right;\">\n",
       "      <th></th>\n",
       "      <th>Unnamed: 0</th>\n",
       "      <th>race</th>\n",
       "      <th>residence</th>\n",
       "      <th>job</th>\n",
       "      <th>birthdate</th>\n",
       "      <th>company</th>\n",
       "      <th>blood_group</th>\n",
       "      <th>sex_F</th>\n",
       "      <th>sex_M</th>\n",
       "      <th>ssn</th>\n",
       "      <th>name</th>\n",
       "      <th>state</th>\n",
       "      <th>age</th>\n",
       "    </tr>\n",
       "  </thead>\n",
       "  <tbody>\n",
       "    <tr>\n",
       "      <th>0</th>\n",
       "      <td>0</td>\n",
       "      <td>1</td>\n",
       "      <td>108 Pham Loaf\\r\\nNew Shelby, IN 31526</td>\n",
       "      <td>Magazine features editor</td>\n",
       "      <td>2007-09-11</td>\n",
       "      <td>Reynolds, Stewart and Tanner</td>\n",
       "      <td>1</td>\n",
       "      <td>1</td>\n",
       "      <td>0</td>\n",
       "      <td>087-49-2961</td>\n",
       "      <td>Laura Valentine</td>\n",
       "      <td>1</td>\n",
       "      <td>14</td>\n",
       "    </tr>\n",
       "    <tr>\n",
       "      <th>1</th>\n",
       "      <td>1</td>\n",
       "      <td>2</td>\n",
       "      <td>2246 Tammy Cliffs Apt. 057\\r\\nNorth Kim, MI 55878</td>\n",
       "      <td>Investment banker, operational</td>\n",
       "      <td>1971-05-20</td>\n",
       "      <td>Mcdonald-White</td>\n",
       "      <td>2</td>\n",
       "      <td>1</td>\n",
       "      <td>0</td>\n",
       "      <td>704-69-2733</td>\n",
       "      <td>Angela Sullivan</td>\n",
       "      <td>2</td>\n",
       "      <td>50</td>\n",
       "    </tr>\n",
       "    <tr>\n",
       "      <th>2</th>\n",
       "      <td>2</td>\n",
       "      <td>1</td>\n",
       "      <td>12245 Maxwell Island\\r\\nNorth Benjamin, KY 38697</td>\n",
       "      <td>Charity fundraiser</td>\n",
       "      <td>1945-10-09</td>\n",
       "      <td>Waters, Davis and Mcintyre</td>\n",
       "      <td>3</td>\n",
       "      <td>1</td>\n",
       "      <td>0</td>\n",
       "      <td>787-12-1516</td>\n",
       "      <td>Haley Ramirez</td>\n",
       "      <td>3</td>\n",
       "      <td>76</td>\n",
       "    </tr>\n",
       "    <tr>\n",
       "      <th>3</th>\n",
       "      <td>3</td>\n",
       "      <td>1</td>\n",
       "      <td>17000 Saunders Circles Apt. 457\\r\\nDonaldhaven...</td>\n",
       "      <td>Engineer, production</td>\n",
       "      <td>2006-04-25</td>\n",
       "      <td>Watson and Sons</td>\n",
       "      <td>4</td>\n",
       "      <td>1</td>\n",
       "      <td>0</td>\n",
       "      <td>127-86-0135</td>\n",
       "      <td>Mary Harris</td>\n",
       "      <td>4</td>\n",
       "      <td>15</td>\n",
       "    </tr>\n",
       "    <tr>\n",
       "      <th>4</th>\n",
       "      <td>4</td>\n",
       "      <td>3</td>\n",
       "      <td>43712 Andrea Expressway\\r\\nNorth Mckenzie, AZ ...</td>\n",
       "      <td>IT consultant</td>\n",
       "      <td>1936-03-01</td>\n",
       "      <td>Alvarez PLC</td>\n",
       "      <td>5</td>\n",
       "      <td>0</td>\n",
       "      <td>1</td>\n",
       "      <td>875-46-1555</td>\n",
       "      <td>Jeremy James</td>\n",
       "      <td>5</td>\n",
       "      <td>85</td>\n",
       "    </tr>\n",
       "  </tbody>\n",
       "</table>\n",
       "</div>"
      ],
      "text/plain": [
       "   Unnamed: 0  race                                          residence  \\\n",
       "0           0     1              108 Pham Loaf\\r\\nNew Shelby, IN 31526   \n",
       "1           1     2  2246 Tammy Cliffs Apt. 057\\r\\nNorth Kim, MI 55878   \n",
       "2           2     1   12245 Maxwell Island\\r\\nNorth Benjamin, KY 38697   \n",
       "3           3     1  17000 Saunders Circles Apt. 457\\r\\nDonaldhaven...   \n",
       "4           4     3  43712 Andrea Expressway\\r\\nNorth Mckenzie, AZ ...   \n",
       "\n",
       "                              job  birthdate                       company  \\\n",
       "0        Magazine features editor 2007-09-11  Reynolds, Stewart and Tanner   \n",
       "1  Investment banker, operational 1971-05-20                Mcdonald-White   \n",
       "2              Charity fundraiser 1945-10-09    Waters, Davis and Mcintyre   \n",
       "3            Engineer, production 2006-04-25               Watson and Sons   \n",
       "4                   IT consultant 1936-03-01                   Alvarez PLC   \n",
       "\n",
       "   blood_group  sex_F  sex_M          ssn             name  state  age  \n",
       "0            1      1      0  087-49-2961  Laura Valentine      1   14  \n",
       "1            2      1      0  704-69-2733  Angela Sullivan      2   50  \n",
       "2            3      1      0  787-12-1516    Haley Ramirez      3   76  \n",
       "3            4      1      0  127-86-0135      Mary Harris      4   15  \n",
       "4            5      0      1  875-46-1555     Jeremy James      5   85  "
      ]
     },
     "execution_count": 13,
     "metadata": {},
     "output_type": "execute_result"
    }
   ],
   "source": [
    "profiles.head()"
   ]
  },
  {
   "cell_type": "markdown",
   "metadata": {},
   "source": [
    "## 2. Realizácia predspracovania dát (5b)\n"
   ]
  },
  {
   "cell_type": "markdown",
   "metadata": {},
   "source": [
    "* Transformované dáta pre strojové učenie si rozdeľuje na trénovaciu a testovaciu množinu (train and test dataset) podľa vami preddefinovaným pomerom. Naďalej pracujte len s trénovacím datasetom.\n",
    "* Transformujte atribútov dát pre strojové učenie podľa dostupných techník (minimálne 2 techniky) ako scaling, transformers a ďalšie.\n",
    "* Zdôvodnite Vašu voľby/rozhodnutie pre realizáciu (t.j. zdokumentovanie)"
   ]
  },
  {
   "cell_type": "code",
   "execution_count": 14,
   "metadata": {},
   "outputs": [
    {
     "data": {
      "text/html": [
       "<div>\n",
       "<style scoped>\n",
       "    .dataframe tbody tr th:only-of-type {\n",
       "        vertical-align: middle;\n",
       "    }\n",
       "\n",
       "    .dataframe tbody tr th {\n",
       "        vertical-align: top;\n",
       "    }\n",
       "\n",
       "    .dataframe thead th {\n",
       "        text-align: right;\n",
       "    }\n",
       "</style>\n",
       "<table border=\"1\" class=\"dataframe\">\n",
       "  <thead>\n",
       "    <tr style=\"text-align: right;\">\n",
       "      <th></th>\n",
       "      <th>index</th>\n",
       "      <th>weight</th>\n",
       "      <th>ssn</th>\n",
       "      <th>hemoglobin</th>\n",
       "      <th>alp</th>\n",
       "      <th>etytr</th>\n",
       "      <th>alt</th>\n",
       "      <th>erytrocyty</th>\n",
       "      <th>hbver</th>\n",
       "      <th>name</th>\n",
       "      <th>hematokrit</th>\n",
       "      <th>indicator</th>\n",
       "      <th>er-cv</th>\n",
       "      <th>leukocyty</th>\n",
       "      <th>smoker</th>\n",
       "      <th>relationship</th>\n",
       "      <th>ast</th>\n",
       "      <th>trombocyty</th>\n",
       "    </tr>\n",
       "  </thead>\n",
       "  <tbody>\n",
       "    <tr>\n",
       "      <th>0</th>\n",
       "      <td>0</td>\n",
       "      <td>12.35740</td>\n",
       "      <td>803-27-3974</td>\n",
       "      <td>5.94182</td>\n",
       "      <td>86.80991</td>\n",
       "      <td>7.12559</td>\n",
       "      <td>2.18482</td>\n",
       "      <td>7.53345</td>\n",
       "      <td>7.51373</td>\n",
       "      <td>Kayla Rodriguez</td>\n",
       "      <td>6.98497</td>\n",
       "      <td>1.0</td>\n",
       "      <td>57.08422</td>\n",
       "      <td>7.21726</td>\n",
       "      <td>1</td>\n",
       "      <td>married</td>\n",
       "      <td>77.99546</td>\n",
       "      <td>7.98017</td>\n",
       "    </tr>\n",
       "    <tr>\n",
       "      <th>1</th>\n",
       "      <td>1</td>\n",
       "      <td>118.10209</td>\n",
       "      <td>205-46-9278</td>\n",
       "      <td>6.45407</td>\n",
       "      <td>79.22919</td>\n",
       "      <td>5.34025</td>\n",
       "      <td>1.60706</td>\n",
       "      <td>6.53048</td>\n",
       "      <td>7.30977</td>\n",
       "      <td>Diane Holt</td>\n",
       "      <td>8.65706</td>\n",
       "      <td>1.0</td>\n",
       "      <td>63.49068</td>\n",
       "      <td>9.35320</td>\n",
       "      <td>0</td>\n",
       "      <td>widowed</td>\n",
       "      <td>31.27623</td>\n",
       "      <td>9.27384</td>\n",
       "    </tr>\n",
       "    <tr>\n",
       "      <th>2</th>\n",
       "      <td>2</td>\n",
       "      <td>89.97897</td>\n",
       "      <td>507-12-0831</td>\n",
       "      <td>9.73090</td>\n",
       "      <td>17.97254</td>\n",
       "      <td>9.49744</td>\n",
       "      <td>1.75153</td>\n",
       "      <td>5.96430</td>\n",
       "      <td>8.02289</td>\n",
       "      <td>David Bryant MD</td>\n",
       "      <td>7.46431</td>\n",
       "      <td>1.0</td>\n",
       "      <td>66.64176</td>\n",
       "      <td>7.36311</td>\n",
       "      <td>0</td>\n",
       "      <td>nop</td>\n",
       "      <td>52.03928</td>\n",
       "      <td>8.18942</td>\n",
       "    </tr>\n",
       "    <tr>\n",
       "      <th>3</th>\n",
       "      <td>3</td>\n",
       "      <td>137.89307</td>\n",
       "      <td>328-79-8098</td>\n",
       "      <td>8.65753</td>\n",
       "      <td>19.63713</td>\n",
       "      <td>8.90814</td>\n",
       "      <td>5.80869</td>\n",
       "      <td>8.47758</td>\n",
       "      <td>7.37768</td>\n",
       "      <td>Joshua Hickman</td>\n",
       "      <td>9.15039</td>\n",
       "      <td>1.0</td>\n",
       "      <td>62.03448</td>\n",
       "      <td>6.50476</td>\n",
       "      <td>0</td>\n",
       "      <td>single</td>\n",
       "      <td>63.20161</td>\n",
       "      <td>6.22091</td>\n",
       "    </tr>\n",
       "    <tr>\n",
       "      <th>4</th>\n",
       "      <td>4</td>\n",
       "      <td>95.55653</td>\n",
       "      <td>307-37-5739</td>\n",
       "      <td>5.96644</td>\n",
       "      <td>82.63100</td>\n",
       "      <td>6.84092</td>\n",
       "      <td>3.16471</td>\n",
       "      <td>7.38053</td>\n",
       "      <td>8.07490</td>\n",
       "      <td>Frank Glover</td>\n",
       "      <td>9.55976</td>\n",
       "      <td>1.0</td>\n",
       "      <td>79.48715</td>\n",
       "      <td>9.45322</td>\n",
       "      <td>0</td>\n",
       "      <td>married</td>\n",
       "      <td>28.53852</td>\n",
       "      <td>7.38761</td>\n",
       "    </tr>\n",
       "  </tbody>\n",
       "</table>\n",
       "</div>"
      ],
      "text/plain": [
       "   index     weight          ssn  hemoglobin       alp    etytr      alt  \\\n",
       "0      0   12.35740  803-27-3974     5.94182  86.80991  7.12559  2.18482   \n",
       "1      1  118.10209  205-46-9278     6.45407  79.22919  5.34025  1.60706   \n",
       "2      2   89.97897  507-12-0831     9.73090  17.97254  9.49744  1.75153   \n",
       "3      3  137.89307  328-79-8098     8.65753  19.63713  8.90814  5.80869   \n",
       "4      4   95.55653  307-37-5739     5.96644  82.63100  6.84092  3.16471   \n",
       "\n",
       "   erytrocyty    hbver             name  hematokrit  indicator     er-cv  \\\n",
       "0     7.53345  7.51373  Kayla Rodriguez     6.98497        1.0  57.08422   \n",
       "1     6.53048  7.30977       Diane Holt     8.65706        1.0  63.49068   \n",
       "2     5.96430  8.02289  David Bryant MD     7.46431        1.0  66.64176   \n",
       "3     8.47758  7.37768   Joshua Hickman     9.15039        1.0  62.03448   \n",
       "4     7.38053  8.07490     Frank Glover     9.55976        1.0  79.48715   \n",
       "\n",
       "   leukocyty  smoker relationship       ast  trombocyty  \n",
       "0    7.21726       1      married  77.99546     7.98017  \n",
       "1    9.35320       0      widowed  31.27623     9.27384  \n",
       "2    7.36311       0          nop  52.03928     8.18942  \n",
       "3    6.50476       0       single  63.20161     6.22091  \n",
       "4    9.45322       0      married  28.53852     7.38761  "
      ]
     },
     "execution_count": 14,
     "metadata": {},
     "output_type": "execute_result"
    }
   ],
   "source": [
    "labor.head()"
   ]
  },
  {
   "cell_type": "markdown",
   "metadata": {},
   "source": [
    "**Rozdelenie na trénovaciu a testovaciu množinu**\n",
    "\n",
    "Dataset labor rozdelíme v pomere 33% pre testovaciu množinu a 66% pre trénovaciu množinu."
   ]
  },
  {
   "cell_type": "code",
   "execution_count": 15,
   "metadata": {},
   "outputs": [],
   "source": [
    "from sklearn.model_selection import train_test_split\n",
    "\n",
    "train, test = train_test_split(labor, test_size=0.33)\n"
   ]
  },
  {
   "cell_type": "markdown",
   "metadata": {},
   "source": [
    "**alt** "
   ]
  },
  {
   "cell_type": "code",
   "execution_count": 16,
   "metadata": {},
   "outputs": [
    {
     "data": {
      "text/plain": [
       "(array([  2.,   2.,   3.,   5.,  11.,  20.,  37.,  65., 132., 215., 370.,\n",
       "        597., 716., 799., 827., 699., 617., 516., 360., 312., 190., 103.,\n",
       "         54.,  23.,   4.]),\n",
       " array([-4.39046371, -4.0891695 , -3.78787529, -3.48658109, -3.18528688,\n",
       "        -2.88399268, -2.58269847, -2.28140427, -1.98011006, -1.67881585,\n",
       "        -1.37752165, -1.07622744, -0.77493324, -0.47363903, -0.17234482,\n",
       "         0.12894938,  0.43024359,  0.73153779,  1.032832  ,  1.3341262 ,\n",
       "         1.63542041,  1.93671462,  2.23800882,  2.53930303,  2.84059723,\n",
       "         3.14189144]),\n",
       " <BarContainer object of 25 artists>)"
      ]
     },
     "execution_count": 16,
     "metadata": {},
     "output_type": "execute_result"
    },
    {
     "data": {
      "image/png": "[encoded data removed]",
      "text/plain": [
       "<Figure size 432x288 with 1 Axes>"
      ]
     },
     "metadata": {
      "needs_background": "light"
     },
     "output_type": "display_data"
    }
   ],
   "source": [
    "from matplotlib import pyplot\n",
    "from sklearn.preprocessing import PowerTransformer\n",
    "\n",
    "pyplot.hist(train['alt'], bins=25)\n",
    "power = PowerTransformer(method='yeo-johnson', standardize=True) \n",
    "alt_trans = power.fit_transform(train[['alt']])\n",
    "pyplot.hist(alt_trans, bins=25)\n",
    "# train[['alt']] = alt_trans\n"
   ]
  },
  {
   "cell_type": "markdown",
   "metadata": {},
   "source": [
    "Hodnoty atribútu alt neboli veľmi rovnomerne rozdelené, preto sme využili Power Transformer."
   ]
  },
  {
   "cell_type": "code",
   "execution_count": 17,
   "metadata": {},
   "outputs": [
    {
     "data": {
      "text/plain": [
       "array([[<AxesSubplot:title={'center':'hemoglobin'}>,\n",
       "        <AxesSubplot:title={'center':'hemoglobin_s'}>,\n",
       "        <AxesSubplot:title={'center':'alp'}>,\n",
       "        <AxesSubplot:title={'center':'alp_s'}>,\n",
       "        <AxesSubplot:title={'center':'etytr'}>],\n",
       "       [<AxesSubplot:title={'center':'etytr_s'}>,\n",
       "        <AxesSubplot:title={'center':'alt'}>,\n",
       "        <AxesSubplot:title={'center':'alt_s'}>,\n",
       "        <AxesSubplot:title={'center':'erytrocyty'}>,\n",
       "        <AxesSubplot:title={'center':'erytrocyty_s'}>],\n",
       "       [<AxesSubplot:title={'center':'hbver'}>,\n",
       "        <AxesSubplot:title={'center':'hbver_s'}>,\n",
       "        <AxesSubplot:title={'center':'hematokrit'}>,\n",
       "        <AxesSubplot:title={'center':'hematokrit_s'}>,\n",
       "        <AxesSubplot:title={'center':'er-cv'}>],\n",
       "       [<AxesSubplot:title={'center':'er-cv_s'}>,\n",
       "        <AxesSubplot:title={'center':'leukocyty'}>,\n",
       "        <AxesSubplot:title={'center':'leukocyty_s'}>,\n",
       "        <AxesSubplot:title={'center':'ast'}>,\n",
       "        <AxesSubplot:title={'center':'ast_s'}>],\n",
       "       [<AxesSubplot:title={'center':'trombocyty'}>,\n",
       "        <AxesSubplot:title={'center':'trombocyty_s'}>, <AxesSubplot:>,\n",
       "        <AxesSubplot:>, <AxesSubplot:>]], dtype=object)"
      ]
     },
     "execution_count": 17,
     "metadata": {},
     "output_type": "execute_result"
    },
    {
     "data": {
      "image/png": "[encoded data removed]",
      "text/plain": [
       "<Figure size 1440x1440 with 25 Axes>"
      ]
     },
     "metadata": {
      "needs_background": "light"
     },
     "output_type": "display_data"
    }
   ],
   "source": [
    "from sklearn.preprocessing import  StandardScaler, QuantileTransformer\n",
    "from pandas import DataFrame\n",
    "\n",
    "power = PowerTransformer(method='yeo-johnson', standardize=True) \n",
    "sscaler = StandardScaler()\n",
    "\n",
    "trans = DataFrame()\n",
    "for column in ['hemoglobin', 'alp', 'etytr', 'alt', 'erytrocyty', 'hbver', 'hematokrit', 'er-cv', 'leukocyty', 'ast', 'trombocyty']:\n",
    "    # train['alp'].fillna(0, inplace=True)\n",
    "    powered = power.fit_transform(train[[column]])\n",
    "    trans[column] = DataFrame(powered)\n",
    "    trans[f'{column}_s'] = DataFrame(sscaler.fit_transform(train[[column]]) )\n",
    "    # pyplot.hist(powered, bins=25)\n",
    "    # sscaled = sscaler.fit_transform(train[[column]]) \n",
    "    # pyplot.hist(sscaled, bins=25)\n",
    "\n",
    "trans.hist(bins=25, figsize=(20,20))\n"
   ]
  },
  {
   "cell_type": "code",
   "execution_count": 18,
   "metadata": {},
   "outputs": [
    {
     "data": {
      "text/plain": [
       "(array([ 24., 281., 500., 277., 266., 281., 266., 251., 278., 276., 246.,\n",
       "        280., 252., 259., 256., 264., 275., 235., 286., 263., 266., 280.,\n",
       "        584., 222.,  12.]),\n",
       " array([0.  , 0.04, 0.08, 0.12, 0.16, 0.2 , 0.24, 0.28, 0.32, 0.36, 0.4 ,\n",
       "        0.44, 0.48, 0.52, 0.56, 0.6 , 0.64, 0.68, 0.72, 0.76, 0.8 , 0.84,\n",
       "        0.88, 0.92, 0.96, 1.  ]),\n",
       " <BarContainer object of 25 artists>)"
      ]
     },
     "execution_count": 18,
     "metadata": {},
     "output_type": "execute_result"
    },
    {
     "data": {
      "image/png": "[encoded data removed]",
      "text/plain": [
       "<Figure size 432x288 with 1 Axes>"
      ]
     },
     "metadata": {
      "needs_background": "light"
     },
     "output_type": "display_data"
    }
   ],
   "source": [
    "from sklearn.preprocessing import  QuantileTransformer, MinMaxScaler\n",
    "\n",
    "scaler = MinMaxScaler()\n",
    "scaled = scaler.fit_transform(train[['alp']]) \n",
    "pyplot.hist(scaled, bins=25)\n",
    "scalera = QuantileTransformer(n_quantiles=10, random_state=0)\n",
    "scaleda = scalera.fit_transform(train[['alp']]) \n",
    "pyplot.hist(scaleda, bins=25)"
   ]
  },
  {
   "cell_type": "code",
   "execution_count": 19,
   "metadata": {},
   "outputs": [],
   "source": [
    "ce_ordinal = ce.OrdinalEncoder(cols=['relationship'])\n",
    "labor = ce_ordinal.fit_transform(labor)"
   ]
  },
  {
   "cell_type": "markdown",
   "metadata": {},
   "source": [
    "dátum narodenia -> vek -> data bucketing (vid 6.21)\n",
    "\n",
    "job ~NLP\n",
    "\n",
    "company??"
   ]
  },
  {
   "cell_type": "code",
   "execution_count": 20,
   "metadata": {},
   "outputs": [
    {
     "data": {
      "text/html": [
       "<div>\n",
       "<style scoped>\n",
       "    .dataframe tbody tr th:only-of-type {\n",
       "        vertical-align: middle;\n",
       "    }\n",
       "\n",
       "    .dataframe tbody tr th {\n",
       "        vertical-align: top;\n",
       "    }\n",
       "\n",
       "    .dataframe thead th {\n",
       "        text-align: right;\n",
       "    }\n",
       "</style>\n",
       "<table border=\"1\" class=\"dataframe\">\n",
       "  <thead>\n",
       "    <tr style=\"text-align: right;\">\n",
       "      <th></th>\n",
       "      <th>Unnamed: 0</th>\n",
       "      <th>race</th>\n",
       "      <th>residence</th>\n",
       "      <th>job</th>\n",
       "      <th>birthdate</th>\n",
       "      <th>company</th>\n",
       "      <th>blood_group</th>\n",
       "      <th>sex_F</th>\n",
       "      <th>sex_M</th>\n",
       "      <th>ssn</th>\n",
       "      <th>name</th>\n",
       "      <th>state</th>\n",
       "      <th>age</th>\n",
       "    </tr>\n",
       "  </thead>\n",
       "  <tbody>\n",
       "    <tr>\n",
       "      <th>2008</th>\n",
       "      <td>2008</td>\n",
       "      <td>1</td>\n",
       "      <td>Unit 8939 Box 0391\\r\\nDPO AA 32291</td>\n",
       "      <td>Art gallery manager</td>\n",
       "      <td>1983-01-20</td>\n",
       "      <td>Mayo, Brown and Schmitt</td>\n",
       "      <td>7</td>\n",
       "      <td>1</td>\n",
       "      <td>0</td>\n",
       "      <td>830-16-7156</td>\n",
       "      <td>Lauren Long</td>\n",
       "      <td>25</td>\n",
       "      <td>38</td>\n",
       "    </tr>\n",
       "  </tbody>\n",
       "</table>\n",
       "</div>"
      ],
      "text/plain": [
       "      Unnamed: 0  race                           residence  \\\n",
       "2008        2008     1  Unit 8939 Box 0391\\r\\nDPO AA 32291   \n",
       "\n",
       "                      job  birthdate                  company  blood_group  \\\n",
       "2008  Art gallery manager 1983-01-20  Mayo, Brown and Schmitt            7   \n",
       "\n",
       "      sex_F  sex_M          ssn         name  state  age  \n",
       "2008      1      0  830-16-7156  Lauren Long     25   38  "
      ]
     },
     "execution_count": 20,
     "metadata": {},
     "output_type": "execute_result"
    }
   ],
   "source": [
    "profiles.loc[profiles['ssn'] == '830-16-7156']"
   ]
  },
  {
   "cell_type": "markdown",
   "metadata": {},
   "source": [
    "## 3. Výber atribútov pre strojové učenie (5b)"
   ]
  },
  {
   "cell_type": "markdown",
   "metadata": {},
   "source": [
    "* Zistite ktoré atribúty (features) vo vašich dátach pre strojové učenie sú informatívne k atribútu “indikator”. Zoradíte tie atribúty v poradí podľa dôležitosti. \n",
    "* Zdôvodnite Vašu voľby/rozhodnutie pre realizáciu (t.j. zdokumentovanie)"
   ]
  },
  {
   "cell_type": "code",
   "execution_count": null,
   "metadata": {},
   "outputs": [],
   "source": []
  },
  {
   "cell_type": "code",
   "execution_count": null,
   "metadata": {},
   "outputs": [],
   "source": []
  },
  {
   "cell_type": "code",
   "execution_count": null,
   "metadata": {},
   "outputs": [],
   "source": []
  },
  {
   "cell_type": "markdown",
   "metadata": {},
   "source": [
    "## 4. Replikovateľnosť predspracovania (5b)"
   ]
  },
  {
   "cell_type": "markdown",
   "metadata": {},
   "source": [
    "* Upravte váš kód realizujúci predspracovanie trénovacej množiny tak, aby ho bolo možné bez ďalších úprav znovu použiť na predspracovanie testovacej množiny (napr. pomocou funkcie/í)\n",
    "* Očakáva sa aj využitie možnosti sklearn.pipeline"
   ]
  },
  {
   "cell_type": "code",
   "execution_count": null,
   "metadata": {},
   "outputs": [],
   "source": []
  },
  {
   "cell_type": "code",
   "execution_count": null,
   "metadata": {},
   "outputs": [],
   "source": []
  },
  {
   "cell_type": "code",
   "execution_count": null,
   "metadata": {},
   "outputs": [],
   "source": []
  },
  {
   "cell_type": "markdown",
   "metadata": {},
   "source": [
    "Správa sa odovzdáva v 9. týždni semestra\n",
    "\n",
    "Na cvičení, dvojica svojmu cvičiacemu odprezentuje vykonanú prieskumnú analýzu v Jupyter Notebooku.\n",
    "Správu elektronicky odovzdá jeden člen z dvojice do systému AIS do nedele 21.11.2021 23:59."
   ]
  }
 ],
 "metadata": {
  "interpreter": {
   "hash": "3521e35cbe2b1cdbbd5d08630a6e651e4449715cd00a47fe09d73258a6c84e53"
  },
  "kernelspec": {
   "display_name": "Python 3 (ipykernel)",
   "language": "python",
   "name": "python3"
  },
  "language_info": {
   "codemirror_mode": {
    "name": "ipython",
    "version": 3
   },
   "file_extension": ".py",
   "mimetype": "text/x-python",
   "name": "python",
   "nbconvert_exporter": "python",
   "pygments_lexer": "ipython3",
   "version": "3.9.0"
  }
 },
 "nbformat": 4,
 "nbformat_minor": 2
}
