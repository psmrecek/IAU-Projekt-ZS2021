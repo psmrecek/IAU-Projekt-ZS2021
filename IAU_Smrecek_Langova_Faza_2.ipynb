{
 "cells": [
  {
   "cell_type": "markdown",
   "metadata": {},
   "source": [
    "# IAU Projekt"
   ]
  },
  {
   "cell_type": "markdown",
   "metadata": {},
   "source": [
    "# Fáza 2 - predspracovanie údajov"
   ]
  },
  {
   "cell_type": "markdown",
   "metadata": {},
   "source": [
    "V tejto fáze sa od Vás očakáva:\n",
    "* Realizujte predspracovanie údajov pre strojové učenie. Výsledkom bude upravená dátová sada vo formáte csv alebo tsv, kde jedno pozorovanie musí byť opísané jedným riadkom.\n",
    "* V 3. fáze budeme pracovať s algoritmami strojového učenia, ktorých implementácia v scikit-learn podporuje len numerické dáta. To vedie k tomu že treba niečo spraviť s nenumerickými dátami.\n",
    "* Replikovateľnosť predspracovania na trénovacej a testovacej množine dát.\n",
    "\n",
    "Keď sa predspracovaním mohol zmeniť tvar a charakteristiky dát (počet atribútov, distribúcie hodnôt a pod.), je možné že treba znovu zrealizovať podstatné časti prieskumnej analýzy a opakovane podľa Vašej potreby. Bodovanie znovu za EDA už nebudeme, zmeny ale zdokumentujte. Problém s dátami môžete riešiť iteratívne v každej fáze aj vo všetkých fázach podľa vlastnej potreby.\n"
   ]
  },
  {
   "cell_type": "code",
   "execution_count": null,
   "metadata": {},
   "outputs": [],
   "source": [
    "import matplotlib.pyplot as plt\n",
    "import seaborn as sns\n",
    "import pandas as pd\n",
    "import numpy as np\n",
    "import scipy.stats as stats\n",
    "import statsmodels.api as sm\n",
    "import statsmodels.stats.api as sms\n",
    "import statsmodels.stats as sm_stats\n",
    "\n",
    "import datetime\n",
    "import re\n",
    "import category_encoders as ce\n",
    "from sklearn.impute import SimpleImputer, KNNImputer\n",
    "from numpy import percentile\n",
    "\n",
    "import matplotlib.pyplot as plt\n",
    "from sklearn.preprocessing import PowerTransformer, QuantileTransformer\n",
    "\n",
    "from sklearn.feature_selection import VarianceThreshold, SelectKBest, SelectPercentile, SelectFromModel\n",
    "from sklearn.feature_selection import mutual_info_regression, chi2, f_regression, f_classif\n",
    "from sklearn.ensemble import RandomForestClassifier\n",
    "\n",
    "from sklearn.preprocessing import StandardScaler, MinMaxScaler\n",
    "import matplotlib.pyplot as plt\n",
    "\n",
    "from sklearn.base import TransformerMixin\n",
    "from sklearn.pipeline import Pipeline\n",
    "from sklearn.model_selection import train_test_split"
   ]
  },
  {
   "cell_type": "markdown",
   "metadata": {},
   "source": [
    "## Predspracovanie z fázy 1"
   ]
  },
  {
   "cell_type": "code",
   "execution_count": null,
   "metadata": {},
   "outputs": [],
   "source": [
    "labor = pd.read_csv(\"046/labor.csv\", sep='\\t')\n",
    "labor.rename(columns = {\"Unnamed: 0\": \"index\"}, inplace = True)\n",
    "labor = labor.drop([\"index\", \"name\"], axis=1)\n",
    "smoker_encoding = {\"Y\": 1, \"N\": 0, \"yes\": 1, \"no\": 0}\n",
    "labor[\"smoker\"].replace(smoker_encoding, inplace=True)\n",
    "\n",
    "profiles = pd.read_csv(\"046/profiles.csv\", sep='\\t')\n",
    "profiles.rename(columns = {\"Unnamed: 0\": \"index\"}, inplace = True)\n",
    "profiles = profiles.drop([\"index\"], axis=1)\n",
    "profiles[\"race\"].replace({\"black\": \"Black\", \"white\": \"White\", \"blsck\": \"Black\"}, inplace=True)\n",
    "profiles[\"birthdate\"] = pd.to_datetime(profiles['birthdate'], utc=False)\n",
    "\n",
    "merged = pd.merge(profiles, labor, how='outer', on='ssn')\n",
    "merged = merged.drop([\"ssn\"], axis=1)"
   ]
  },
  {
   "cell_type": "markdown",
   "metadata": {},
   "source": [
    "## Základné úpravy dát pred začiatkom druhej fázy"
   ]
  },
  {
   "cell_type": "markdown",
   "metadata": {},
   "source": [
    "### Kódovanie kategorických atribútov pre strojové učenie"
   ]
  },
  {
   "cell_type": "markdown",
   "metadata": {},
   "source": [
    "#### 1. race"
   ]
  },
  {
   "cell_type": "code",
   "execution_count": null,
   "metadata": {},
   "outputs": [
    {
     "name": "stderr",
     "output_type": "stream",
     "text": [
      "C:\\Users\\PeterSmrecek\\Documents\\IAU-repository\\IAU-virtual\\lib\\site-packages\\category_encoders\\utils.py:21: FutureWarning: is_categorical is deprecated and will be removed in a future version.  Use is_categorical_dtype instead\n",
      "  elif pd.api.types.is_categorical(cols):\n"
     ]
    }
   ],
   "source": [
    "ce_ordinal = ce.OrdinalEncoder(cols=['race'])\n",
    "merged = ce_ordinal.fit_transform(merged)"
   ]
  },
  {
   "cell_type": "markdown",
   "metadata": {},
   "source": [
    "#### 2. residence\n",
    "\n",
    "Tento atribút je až príliš a nepotrebne detailný pre spracovanie dát, preto transformujeme využitím generalizácie bydlisko na štát. Aby sme z celého textu bydliska získali štát, je potrebné NLP a to pomocou regex výrazov. Na obídenie nesprávnych výsledkov využijeme fakt, že názov štátu je zapísaný ako skratka s PSČ.\n",
    "\n",
    "Počet výsledkov je zhodný s počtom záznamov v datasete a po manuálnej kontrole všetky výsledky patria nejakej krajine s PSČ."
   ]
  },
  {
   "cell_type": "code",
   "execution_count": null,
   "metadata": {},
   "outputs": [],
   "source": [
    "for i in merged['residence'].index:\n",
    "    country_code = re.findall('[A-Z]{2} [0-9]{5}', str(merged['residence'][i]))[0]\n",
    "    merged.at[i, 'state']=re.findall('[A-Z]{2}', country_code)[0]\n",
    "len(merged['state'].value_counts())"
   ]
  },
  {
   "cell_type": "markdown",
   "metadata": {},
   "source": [
    "Počet unikátnych krajín je správny, keď vychádzame z pravidiel v USA. 54 štátov dokopy predstavuje 51 štátov v USA plus 3 \"military states\" (AA, AE, AP)."
   ]
  },
  {
   "cell_type": "code",
   "execution_count": null,
   "metadata": {},
   "outputs": [],
   "source": [
    "merged['state'].value_counts().plot(kind='bar', figsize=(20, 5))"
   ]
  },
  {
   "cell_type": "code",
   "execution_count": null,
   "metadata": {},
   "outputs": [],
   "source": [
    "ce_ordinal = ce.OrdinalEncoder(cols=['state'])\n",
    "merged = ce_ordinal.fit_transform(merged)"
   ]
  },
  {
   "cell_type": "markdown",
   "metadata": {},
   "source": [
    "#### 3. blood_group"
   ]
  },
  {
   "cell_type": "code",
   "execution_count": null,
   "metadata": {},
   "outputs": [],
   "source": [
    "ce_ordinal = ce.OrdinalEncoder(cols=['blood_group'])\n",
    "merged = ce_ordinal.fit_transform(merged)"
   ]
  },
  {
   "cell_type": "markdown",
   "metadata": {},
   "source": [
    "#### 4. sex"
   ]
  },
  {
   "cell_type": "code",
   "execution_count": null,
   "metadata": {},
   "outputs": [],
   "source": [
    "ce_OHE = ce.OneHotEncoder(cols=['sex'], use_cat_names=True)\n",
    "merged = ce_OHE.fit_transform(merged)"
   ]
  },
  {
   "cell_type": "markdown",
   "metadata": {},
   "source": [
    "#### 5. birthday"
   ]
  },
  {
   "cell_type": "code",
   "execution_count": null,
   "metadata": {},
   "outputs": [],
   "source": [
    "def frombirthtoage(born):\n",
    "    now = datetime.date.today()\n",
    "    return now.year - born.year - ((now.month, now.day) < (born.month, born.day))\n",
    "ages = merged['birthdate'].apply(lambda d: frombirthtoage(d))\n",
    "merged = merged.assign(age=ages.values)"
   ]
  },
  {
   "cell_type": "code",
   "execution_count": null,
   "metadata": {},
<<<<<<< Updated upstream
   "outputs": [
    {
     "data": {
      "text/plain": [
       "<AxesSubplot:>"
      ]
     },
     "execution_count": 10,
     "metadata": {},
     "output_type": "execute_result"
    },
    {
     "data": {
      "image/png": "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\n",
      "text/plain": [
       "<Figure size 432x288 with 1 Axes>"
      ]
     },
     "metadata": {
      "needs_background": "light"
     },
     "output_type": "display_data"
    }
   ],
=======
   "outputs": [],
>>>>>>> Stashed changes
   "source": [
    "merged.age.hist(bins=25)"
   ]
  },
  {
   "cell_type": "markdown",
   "metadata": {},
   "source": [
    "#### 6. relationship"
   ]
  },
  {
   "cell_type": "code",
   "execution_count": null,
   "metadata": {},
   "outputs": [],
   "source": [
    "ce_ordinal = ce.OrdinalEncoder(cols=['relationship'])\n",
    "merged = ce_ordinal.fit_transform(merged)"
   ]
  },
  {
   "cell_type": "code",
   "execution_count": null,
   "metadata": {
    "scrolled": true
   },
<<<<<<< Updated upstream
   "outputs": [
    {
     "data": {
      "text/html": [
       "<div>\n",
       "<style scoped>\n",
       "    .dataframe tbody tr th:only-of-type {\n",
       "        vertical-align: middle;\n",
       "    }\n",
       "\n",
       "    .dataframe tbody tr th {\n",
       "        vertical-align: top;\n",
       "    }\n",
       "\n",
       "    .dataframe thead th {\n",
       "        text-align: right;\n",
       "    }\n",
       "</style>\n",
       "<table border=\"1\" class=\"dataframe\">\n",
       "  <thead>\n",
       "    <tr style=\"text-align: right;\">\n",
       "      <th></th>\n",
       "      <th>race</th>\n",
       "      <th>residence</th>\n",
       "      <th>job</th>\n",
       "      <th>birthdate</th>\n",
       "      <th>company</th>\n",
       "      <th>blood_group</th>\n",
       "      <th>sex_F</th>\n",
       "      <th>sex_M</th>\n",
       "      <th>name</th>\n",
       "      <th>weight</th>\n",
       "      <th>...</th>\n",
       "      <th>hematokrit</th>\n",
       "      <th>indicator</th>\n",
       "      <th>er-cv</th>\n",
       "      <th>leukocyty</th>\n",
       "      <th>smoker</th>\n",
       "      <th>relationship</th>\n",
       "      <th>ast</th>\n",
       "      <th>trombocyty</th>\n",
       "      <th>state</th>\n",
       "      <th>age</th>\n",
       "    </tr>\n",
       "  </thead>\n",
       "  <tbody>\n",
       "    <tr>\n",
       "      <th>0</th>\n",
       "      <td>1</td>\n",
       "      <td>108 Pham Loaf\\nNew Shelby, IN 31526</td>\n",
       "      <td>Magazine features editor</td>\n",
       "      <td>2007-09-11</td>\n",
       "      <td>Reynolds, Stewart and Tanner</td>\n",
       "      <td>1</td>\n",
       "      <td>1</td>\n",
       "      <td>0</td>\n",
       "      <td>Laura Valentine</td>\n",
       "      <td>68.64852</td>\n",
       "      <td>...</td>\n",
       "      <td>11.27999</td>\n",
       "      <td>0.0</td>\n",
       "      <td>44.47642</td>\n",
       "      <td>8.86713</td>\n",
       "      <td>0</td>\n",
       "      <td>1</td>\n",
       "      <td>26.77151</td>\n",
       "      <td>5.62532</td>\n",
       "      <td>1</td>\n",
       "      <td>14</td>\n",
       "    </tr>\n",
       "    <tr>\n",
       "      <th>1</th>\n",
       "      <td>1</td>\n",
       "      <td>108 Pham Loaf\\nNew Shelby, IN 31526</td>\n",
       "      <td>Magazine features editor</td>\n",
       "      <td>2007-09-11</td>\n",
       "      <td>Reynolds, Stewart and Tanner</td>\n",
       "      <td>1</td>\n",
       "      <td>1</td>\n",
       "      <td>0</td>\n",
       "      <td>Laura Valentine</td>\n",
       "      <td>39.27363</td>\n",
       "      <td>...</td>\n",
       "      <td>11.65206</td>\n",
       "      <td>1.0</td>\n",
       "      <td>57.12059</td>\n",
       "      <td>10.57140</td>\n",
       "      <td>0</td>\n",
       "      <td>2</td>\n",
       "      <td>38.28069</td>\n",
       "      <td>6.59275</td>\n",
       "      <td>1</td>\n",
       "      <td>14</td>\n",
       "    </tr>\n",
       "    <tr>\n",
       "      <th>2</th>\n",
       "      <td>1</td>\n",
       "      <td>108 Pham Loaf\\nNew Shelby, IN 31526</td>\n",
       "      <td>Magazine features editor</td>\n",
       "      <td>2007-09-11</td>\n",
       "      <td>Reynolds, Stewart and Tanner</td>\n",
       "      <td>1</td>\n",
       "      <td>1</td>\n",
       "      <td>0</td>\n",
       "      <td>Laura Valentine</td>\n",
       "      <td>61.21115</td>\n",
       "      <td>...</td>\n",
       "      <td>9.13539</td>\n",
       "      <td>1.0</td>\n",
       "      <td>16.95110</td>\n",
       "      <td>7.30150</td>\n",
       "      <td>0</td>\n",
       "      <td>3</td>\n",
       "      <td>52.93857</td>\n",
       "      <td>8.58363</td>\n",
       "      <td>1</td>\n",
       "      <td>14</td>\n",
       "    </tr>\n",
       "    <tr>\n",
       "      <th>3</th>\n",
       "      <td>1</td>\n",
       "      <td>108 Pham Loaf\\nNew Shelby, IN 31526</td>\n",
       "      <td>Magazine features editor</td>\n",
       "      <td>2007-09-11</td>\n",
       "      <td>Reynolds, Stewart and Tanner</td>\n",
       "      <td>1</td>\n",
       "      <td>1</td>\n",
       "      <td>0</td>\n",
       "      <td>Laura Valentine</td>\n",
       "      <td>121.34568</td>\n",
       "      <td>...</td>\n",
       "      <td>8.46192</td>\n",
       "      <td>0.0</td>\n",
       "      <td>63.86999</td>\n",
       "      <td>8.47060</td>\n",
       "      <td>0</td>\n",
       "      <td>3</td>\n",
       "      <td>48.94005</td>\n",
       "      <td>7.28386</td>\n",
       "      <td>1</td>\n",
       "      <td>14</td>\n",
       "    </tr>\n",
       "    <tr>\n",
       "      <th>4</th>\n",
       "      <td>2</td>\n",
       "      <td>2246 Tammy Cliffs Apt. 057\\nNorth Kim, MI 55878</td>\n",
       "      <td>Investment banker, operational</td>\n",
       "      <td>1971-05-20</td>\n",
       "      <td>Mcdonald-White</td>\n",
       "      <td>2</td>\n",
       "      <td>1</td>\n",
       "      <td>0</td>\n",
       "      <td>Angela Sullivan</td>\n",
       "      <td>107.36307</td>\n",
       "      <td>...</td>\n",
       "      <td>5.96198</td>\n",
       "      <td>1.0</td>\n",
       "      <td>42.66862</td>\n",
       "      <td>6.25355</td>\n",
       "      <td>0</td>\n",
       "      <td>4</td>\n",
       "      <td>60.53571</td>\n",
       "      <td>9.03697</td>\n",
       "      <td>2</td>\n",
       "      <td>50</td>\n",
       "    </tr>\n",
       "  </tbody>\n",
       "</table>\n",
       "<p>5 rows × 26 columns</p>\n",
       "</div>"
      ],
      "text/plain": [
       "   race                                        residence  \\\n",
       "0     1              108 Pham Loaf\\nNew Shelby, IN 31526   \n",
       "1     1              108 Pham Loaf\\nNew Shelby, IN 31526   \n",
       "2     1              108 Pham Loaf\\nNew Shelby, IN 31526   \n",
       "3     1              108 Pham Loaf\\nNew Shelby, IN 31526   \n",
       "4     2  2246 Tammy Cliffs Apt. 057\\nNorth Kim, MI 55878   \n",
       "\n",
       "                              job  birthdate                       company  \\\n",
       "0        Magazine features editor 2007-09-11  Reynolds, Stewart and Tanner   \n",
       "1        Magazine features editor 2007-09-11  Reynolds, Stewart and Tanner   \n",
       "2        Magazine features editor 2007-09-11  Reynolds, Stewart and Tanner   \n",
       "3        Magazine features editor 2007-09-11  Reynolds, Stewart and Tanner   \n",
       "4  Investment banker, operational 1971-05-20                Mcdonald-White   \n",
       "\n",
       "   blood_group  sex_F  sex_M             name     weight  ...  hematokrit  \\\n",
       "0            1      1      0  Laura Valentine   68.64852  ...    11.27999   \n",
       "1            1      1      0  Laura Valentine   39.27363  ...    11.65206   \n",
       "2            1      1      0  Laura Valentine   61.21115  ...     9.13539   \n",
       "3            1      1      0  Laura Valentine  121.34568  ...     8.46192   \n",
       "4            2      1      0  Angela Sullivan  107.36307  ...     5.96198   \n",
       "\n",
       "   indicator     er-cv  leukocyty  smoker  relationship       ast  trombocyty  \\\n",
       "0        0.0  44.47642    8.86713       0             1  26.77151     5.62532   \n",
       "1        1.0  57.12059   10.57140       0             2  38.28069     6.59275   \n",
       "2        1.0  16.95110    7.30150       0             3  52.93857     8.58363   \n",
       "3        0.0  63.86999    8.47060       0             3  48.94005     7.28386   \n",
       "4        1.0  42.66862    6.25355       0             4  60.53571     9.03697   \n",
       "\n",
       "   state  age  \n",
       "0      1   14  \n",
       "1      1   14  \n",
       "2      1   14  \n",
       "3      1   14  \n",
       "4      2   50  \n",
       "\n",
       "[5 rows x 26 columns]"
      ]
     },
     "execution_count": 12,
     "metadata": {},
     "output_type": "execute_result"
    }
   ],
=======
   "outputs": [],
>>>>>>> Stashed changes
   "source": [
    "merged.head()"
   ]
  },
  {
   "cell_type": "markdown",
   "metadata": {},
   "source": [
    "## 1. Integrácia a čistenie dát (5b)"
   ]
  },
  {
   "cell_type": "markdown",
   "metadata": {},
   "source": [
    "Transformujte dáta na vhodný formát pre strojové učenie t.j. jedno pozorovanie musí byť opísané jedným riadkom a každý atribút musí byť v numerickom formáte. \n",
    "* Pri riešení chýbajúcich hodnôt (missing values) vyskúšajte rôzne stratégie z nasledujúcich podskupín:\n",
    "    * odstránenie pozorovaní s chýbajúcimi údajmi\n",
    "    * nahradenie chýbajúcej hodnoty mediánom, priemerom, pomerom (ku korelovanému atribútu), alebo pomocou lineárnej regresie resp. kNN\n",
    "* Podobne postupujte aj pri riešení vychýlených hodnôt (outlier detection):\n",
    "    * odstránenie vychýlených (odľahlých) pozorovaní\n",
    "    * nahradenie vychýlenej hodnoty hraničnými hodnotami rozdelenia (5% resp. 95%)"
   ]
  },
  {
   "cell_type": "markdown",
   "metadata": {},
   "source": [
    "### Chýbajúce dáta"
   ]
  },
  {
   "cell_type": "code",
   "execution_count": null,
   "metadata": {},
   "outputs": [],
   "source": [
    "merged.info()"
   ]
  },
  {
   "cell_type": "code",
   "execution_count": null,
   "metadata": {},
   "outputs": [],
   "source": [
    "merged.shape[0] - merged.dropna().shape[0]"
   ]
  },
  {
   "cell_type": "code",
   "execution_count": null,
   "metadata": {},
   "outputs": [],
   "source": [
    "merged.isnull().sum()"
   ]
  },
  {
   "cell_type": "code",
   "execution_count": null,
   "metadata": {},
   "outputs": [],
   "source": [
    "merged.isnull().sum().sum()"
   ]
  },
  {
   "cell_type": "code",
   "execution_count": null,
   "metadata": {},
   "outputs": [],
   "source": [
    "print(\"Chýbajúce dáta tvoria {:.3f}% dát\".format(merged.isnull().sum().sum() / merged.shape[0] * 100))"
   ]
  },
  {
   "cell_type": "markdown",
   "metadata": {},
   "source": [
    "#### Odstránenie pozorovaní s chýbajúcimi údajmi"
   ]
  },
  {
   "cell_type": "code",
   "execution_count": null,
   "metadata": {},
   "outputs": [],
   "source": [
    "def removeNA(merged):\n",
    "    return merged.dropna()"
   ]
  },
  {
   "cell_type": "code",
   "execution_count": null,
   "metadata": {},
   "outputs": [],
   "source": [
    "merged_withoutNA = removeNA(merged)"
   ]
  },
  {
   "cell_type": "code",
   "execution_count": null,
   "metadata": {
    "scrolled": true
   },
   "outputs": [],
   "source": [
    "merged_withoutNA.info()"
   ]
  },
  {
   "cell_type": "code",
   "execution_count": null,
   "metadata": {},
<<<<<<< Updated upstream
   "outputs": [
    {
     "data": {
      "text/plain": [
       "<AxesSubplot:>"
      ]
     },
     "execution_count": 21,
     "metadata": {},
     "output_type": "execute_result"
    },
    {
     "data": {
      "image/png": "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\n",
      "text/plain": [
       "<Figure size 1080x864 with 2 Axes>"
      ]
     },
     "metadata": {
      "needs_background": "light"
     },
     "output_type": "display_data"
    }
   ],
=======
   "outputs": [],
>>>>>>> Stashed changes
   "source": [
    "fig, ax = plt.subplots(figsize=(15,12))\n",
    "sns.heatmap(merged.corr(), ax=ax, annot=True, fmt=\".3f\")"
   ]
  },
  {
   "cell_type": "code",
   "execution_count": null,
   "metadata": {},
<<<<<<< Updated upstream
   "outputs": [
    {
     "data": {
      "text/plain": [
       "<AxesSubplot:>"
      ]
     },
     "execution_count": 22,
     "metadata": {},
     "output_type": "execute_result"
    },
    {
     "data": {
      "image/png": "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\n",
      "text/plain": [
       "<Figure size 1080x864 with 2 Axes>"
      ]
     },
     "metadata": {
      "needs_background": "light"
     },
     "output_type": "display_data"
    }
   ],
=======
   "outputs": [],
>>>>>>> Stashed changes
   "source": [
    "fig, ax = plt.subplots(figsize=(15,12))\n",
    "sns.heatmap(merged_withoutNA.corr(), ax=ax, annot=True, fmt=\".3f\")"
   ]
  },
  {
   "cell_type": "markdown",
   "metadata": {},
   "source": [
    "Po odstránení chýbajúcich hodnôt sa nič významné nezmienilo"
   ]
  },
  {
   "cell_type": "markdown",
   "metadata": {},
   "source": [
    "#### Nahradenie chýbajúcej hodnoty mediánom, priemerom, pomerom (ku korelovanému atribútu), alebo pomocou lineárnej regresie resp. kNN"
   ]
  },
  {
   "cell_type": "code",
   "execution_count": null,
   "metadata": {},
   "outputs": [],
   "source": [
    "def getNAcols(merged):\n",
    "    return merged.columns[merged.isnull().any()].tolist()"
   ]
  },
  {
   "cell_type": "code",
   "execution_count": null,
   "metadata": {},
   "outputs": [],
   "source": [
    "# na_cols = [\"hemoglobin\", \"alp\", \"etytr\", \"alt\", \"erytrocyty\", \"hbver\", \"hematokrit\", \"er-cv\", \"leukocyty\", \"ast\", \"trombocyty\"] \n",
    "na_cols = getNAcols(merged)"
   ]
  },
  {
   "cell_type": "code",
   "execution_count": null,
   "metadata": {},
   "outputs": [],
   "source": [
    "def replaceNaN(original_merged, strategy, na_cols):\n",
    "    new_merged = original_merged.copy()\n",
    "    if strategy == \"kNN\":\n",
    "        imp_strategy = KNNImputer(n_neighbors=5, weights='uniform', metric='nan_euclidean')\n",
    "#         imp_strategy = KNNImputer()\n",
    "    elif strategy == \"mean\" or strategy == \"median\":    \n",
    "        imp_strategy = SimpleImputer(missing_values=np.nan, strategy=strategy)\n",
    "    else:\n",
    "        raise Exception(\"Chybny argument strategy\")\n",
    "    for col in na_cols:\n",
    "        new_merged[col] = imp_strategy.fit_transform(new_merged[[col]])\n",
    "    return new_merged"
   ]
  },
  {
   "cell_type": "markdown",
   "metadata": {},
   "source": [
    "##### Nahradenie priemerom"
   ]
  },
  {
   "cell_type": "code",
   "execution_count": null,
   "metadata": {},
   "outputs": [],
   "source": [
    "merged_mean = replaceNaN(merged, \"mean\", na_cols)\n",
    "merged_mean.info()"
   ]
  },
  {
   "cell_type": "code",
   "execution_count": null,
   "metadata": {},
   "outputs": [],
   "source": [
    "fig, ax = plt.subplots(figsize=(15,12))\n",
    "sns.heatmap(merged_mean.corr(), ax=ax, annot=True, fmt=\".3f\")"
   ]
  },
  {
   "cell_type": "markdown",
   "metadata": {},
   "source": [
    "##### Nahradenie mediánom"
   ]
  },
  {
   "cell_type": "code",
   "execution_count": null,
   "metadata": {},
   "outputs": [],
   "source": [
    "merged_median = replaceNaN(merged, \"median\", na_cols)\n",
    "merged_median.info()"
   ]
  },
  {
   "cell_type": "code",
   "execution_count": null,
   "metadata": {},
   "outputs": [],
   "source": [
    "fig, ax = plt.subplots(figsize=(15,12))\n",
    "sns.heatmap(merged_median.corr(), ax=ax, annot=True, fmt=\".3f\")"
   ]
  },
  {
   "cell_type": "markdown",
   "metadata": {},
   "source": [
    "##### Nahradenie kNN"
   ]
  },
  {
   "cell_type": "code",
   "execution_count": null,
   "metadata": {},
   "outputs": [],
   "source": [
    "merged_knn = replaceNaN(merged, \"mean\", na_cols)\n",
    "merged_knn.info()"
   ]
  },
  {
   "cell_type": "code",
   "execution_count": null,
   "metadata": {},
   "outputs": [],
   "source": [
    "fig, ax = plt.subplots(figsize=(15,12))\n",
    "sns.heatmap(merged_knn.corr(), ax=ax, annot=True, fmt=\".3f\")"
   ]
  },
  {
   "cell_type": "code",
   "execution_count": null,
   "metadata": {},
   "outputs": [],
   "source": [
    "merged_mean.corr() - merged_median.corr()"
   ]
  },
  {
   "cell_type": "code",
   "execution_count": null,
   "metadata": {},
   "outputs": [],
   "source": [
    "merged_mean.corr() - merged_knn.corr()"
   ]
  },
  {
   "cell_type": "code",
   "execution_count": null,
   "metadata": {},
   "outputs": [],
   "source": [
    "merged_median.corr() - merged_knn.corr()"
<<<<<<< Updated upstream
   ]
  },
  {
   "cell_type": "markdown",
   "metadata": {},
   "source": [
    "### Vychýlené dáta"
=======
>>>>>>> Stashed changes
   ]
  },
  {
   "cell_type": "code",
   "execution_count": null,
   "metadata": {},
   "outputs": [],
   "source": [
<<<<<<< Updated upstream
    "def onlyNumCols(merged_withoutNA):\n",
    "    return merged_withoutNA.drop([\"residence\", \"job\", \"company\", \"name\", \"birthdate\"], axis=1)"
=======
    "### Vychýlené dáta"
>>>>>>> Stashed changes
   ]
  },
  {
   "cell_type": "code",
   "execution_count": null,
   "metadata": {},
   "outputs": [],
   "source": [
<<<<<<< Updated upstream
    "merged_num_only = onlyNumCols(merged_withoutNA)"
   ]
  },
  {
   "cell_type": "code",
   "execution_count": null,
   "metadata": {},
   "outputs": [],
   "source": [
    "merged_num_only.info()"
=======
    "def onlyNumCols(merged_withoutNA):\n",
    "    return merged_withoutNA.drop([\"residence\", \"job\", \"company\", \"name\", \"birthdate\"], axis=1)"
>>>>>>> Stashed changes
   ]
  },
  {
   "cell_type": "code",
   "execution_count": null,
<<<<<<< Updated upstream
   "metadata": {
    "scrolled": true
   },
   "outputs": [],
   "source": [
    "merged_num_only.plot(kind='box', subplots=True, layout=(7, 3), sharex=False, sharey=False, figsize=(20, 60))"
   ]
  },
  {
   "cell_type": "markdown",
   "metadata": {},
   "source": [
    "#### Identifikácia vychýlených hodnôt"
=======
   "metadata": {},
   "outputs": [],
   "source": [
    "merged_num_only = onlyNumCols(merged_withoutNA)"
>>>>>>> Stashed changes
   ]
  },
  {
   "cell_type": "code",
   "execution_count": null,
   "metadata": {},
   "outputs": [],
<<<<<<< Updated upstream
   "source": [
    "def identify_outliers(merged):\n",
    "    suma = 0;\n",
    "    for col in merged.columns:\n",
    "        q25, q75 = percentile(merged[col], 25), percentile(merged[col], 75)\n",
    "        iqr = q75 - q25\n",
    "        cut_off = iqr * 1.5\n",
    "        lower, upper = q25 - cut_off, q75 + cut_off\n",
    "        outliers = merged[((merged[col] < lower) | (merged[col] > upper))] \n",
    "        print(col, 'Identified outliers: %d' % len(outliers))\n",
    "        suma += len(outliers)\n",
    "    print('Sum of identified outliers: %d' % suma)"
   ]
  },
  {
   "cell_type": "code",
   "execution_count": null,
   "metadata": {
    "scrolled": true
   },
   "outputs": [],
   "source": [
    "identify_outliers(merged_num_only)"
=======
   "source": [
    "merged_num_only.info()"
   ]
  },
  {
   "cell_type": "code",
   "execution_count": null,
   "metadata": {
    "scrolled": true
   },
   "outputs": [],
   "source": [
    "merged_num_only.plot(kind='box', subplots=True, layout=(7, 3), sharex=False, sharey=False, figsize=(20, 60))"
>>>>>>> Stashed changes
   ]
  },
  {
   "cell_type": "markdown",
   "metadata": {},
   "source": [
<<<<<<< Updated upstream
    "#### Odstránenie vychýlených (odľahlých) pozorovaní"
=======
    "#### Identifikácia vychýlených hodnôt"
>>>>>>> Stashed changes
   ]
  },
  {
   "cell_type": "code",
   "execution_count": null,
   "metadata": {},
   "outputs": [],
   "source": [
<<<<<<< Updated upstream
    "def remove_outliers(merged):\n",
    "    newMerged = merged.copy()\n",
    "    for col in newMerged.columns:\n",
    "        q25, q75 = percentile(newMerged[col], 25), percentile(newMerged[col], 75)\n",
    "        iqr = q75 - q25\n",
    "        cut_off = iqr * 1.5\n",
    "        lower, upper = q25 - cut_off, q75 + cut_off\n",
    "        newMerged = newMerged[((newMerged[col] >= lower) & (newMerged[col] <= upper))] \n",
    "    return newMerged"
=======
    "def identify_outliers(merged):\n",
    "    suma = 0;\n",
    "    for col in merged.columns:\n",
    "        q25, q75 = percentile(merged[col], 25), percentile(merged[col], 75)\n",
    "        iqr = q75 - q25\n",
    "        cut_off = iqr * 1.5\n",
    "        lower, upper = q25 - cut_off, q75 + cut_off\n",
    "        outliers = merged[((merged[col] < lower) | (merged[col] > upper))] \n",
    "        print(col, 'Identified outliers: %d' % len(outliers))\n",
    "        suma += len(outliers)\n",
    "    print('Sum of identified outliers: %d' % suma)"
>>>>>>> Stashed changes
   ]
  },
  {
   "cell_type": "code",
   "execution_count": null,
<<<<<<< Updated upstream
   "metadata": {},
   "outputs": [],
   "source": [
    "merged_withoutOut = remove_outliers(merged_num_only)\n",
    "merged_withoutOut.info()"
   ]
  },
  {
   "cell_type": "code",
   "execution_count": null,
   "metadata": {},
   "outputs": [],
   "source": [
    "fig, ax = plt.subplots(figsize=(15,12))\n",
    "sns.heatmap(merged_withoutOut.corr(), ax=ax, annot=True, fmt=\".3f\")"
=======
   "metadata": {
    "scrolled": true
   },
   "outputs": [],
   "source": [
    "identify_outliers(merged_num_only)"
   ]
  },
  {
   "cell_type": "markdown",
   "metadata": {},
   "source": [
    "#### Odstránenie vychýlených (odľahlých) pozorovaní"
>>>>>>> Stashed changes
   ]
  },
  {
   "cell_type": "code",
   "execution_count": null,
   "metadata": {},
   "outputs": [],
   "source": [
<<<<<<< Updated upstream
    "merged_num_only.corr() - merged_withoutOut.corr()"
   ]
  },
  {
   "cell_type": "markdown",
   "metadata": {},
   "source": [
    "#### Nahradenie vychýlenej hodnoty hraničnými hodnotami rozdelenia (5% resp. 95%)"
=======
    "def remove_outliers(merged):\n",
    "    newMerged = merged.copy()\n",
    "    for col in newMerged.columns:\n",
    "        q25, q75 = percentile(newMerged[col], 25), percentile(newMerged[col], 75)\n",
    "        iqr = q75 - q25\n",
    "        cut_off = iqr * 1.5\n",
    "        lower, upper = q25 - cut_off, q75 + cut_off\n",
    "        newMerged = newMerged[((newMerged[col] >= lower) & (newMerged[col] <= upper))] \n",
    "    return newMerged"
   ]
  },
  {
   "cell_type": "code",
   "execution_count": null,
   "metadata": {},
   "outputs": [],
   "source": [
    "merged_withoutOut = remove_outliers(merged_num_only)\n",
    "merged_withoutOut.info()"
>>>>>>> Stashed changes
   ]
  },
  {
   "cell_type": "code",
   "execution_count": null,
   "metadata": {},
   "outputs": [],
   "source": [
<<<<<<< Updated upstream
    "def replace_outliers(merged):\n",
    "    newMerged = merged.copy()\n",
    "    for col in newMerged.columns:\n",
    "        q05, q95 = percentile(newMerged[col], 5), percentile(newMerged[col], 95)\n",
    "        newMerged[col] = np.where(newMerged[col] < q05, q05, newMerged[col])\n",
    "        newMerged[col] = np.where(newMerged[col] > q95, q95, newMerged[col])\n",
    "    return newMerged"
=======
    "fig, ax = plt.subplots(figsize=(15,12))\n",
    "sns.heatmap(merged_withoutOut.corr(), ax=ax, annot=True, fmt=\".3f\")"
>>>>>>> Stashed changes
   ]
  },
  {
   "cell_type": "code",
   "execution_count": null,
   "metadata": {},
   "outputs": [],
   "source": [
<<<<<<< Updated upstream
=======
    "merged_num_only.corr() - merged_withoutOut.corr()"
   ]
  },
  {
   "cell_type": "markdown",
   "metadata": {},
   "source": [
    "#### Nahradenie vychýlenej hodnoty hraničnými hodnotami rozdelenia (5% resp. 95%)"
   ]
  },
  {
   "cell_type": "code",
   "execution_count": null,
   "metadata": {},
   "outputs": [],
   "source": [
    "def replace_outliers(merged):\n",
    "    newMerged = merged.copy()\n",
    "    for col in newMerged.columns:\n",
    "        q05, q95 = percentile(newMerged[col], 5), percentile(newMerged[col], 95)\n",
    "        newMerged[col] = np.where(newMerged[col] < q05, q05, newMerged[col])\n",
    "        newMerged[col] = np.where(newMerged[col] > q95, q95, newMerged[col])\n",
    "    return newMerged"
   ]
  },
  {
   "cell_type": "code",
   "execution_count": null,
   "metadata": {},
   "outputs": [],
   "source": [
>>>>>>> Stashed changes
    "merged_replacedOut = replace_outliers(merged_num_only)"
   ]
  },
  {
   "cell_type": "code",
   "execution_count": null,
   "metadata": {},
   "outputs": [],
   "source": [
    "merged_replacedOut.info()"
   ]
  },
  {
   "cell_type": "code",
   "execution_count": null,
   "metadata": {},
   "outputs": [],
   "source": [
    "identify_outliers(merged_replacedOut)"
   ]
  },
  {
   "cell_type": "code",
   "execution_count": null,
   "metadata": {
    "scrolled": true
   },
   "outputs": [],
   "source": [
    "merged_replacedOut.plot(kind='box', subplots=True, layout=(7, 3), sharex=False, sharey=False, figsize=(20, 60))"
   ]
  },
  {
   "cell_type": "code",
   "execution_count": null,
   "metadata": {},
   "outputs": [],
   "source": [
    "fig, ax = plt.subplots(figsize=(15,12))\n",
    "sns.heatmap(merged_replacedOut.corr(), ax=ax, annot=True, fmt=\".3f\")"
   ]
  },
  {
   "cell_type": "code",
   "execution_count": null,
   "metadata": {
    "scrolled": false
   },
   "outputs": [],
   "source": [
    "merged_num_only.corr() - merged_replacedOut.corr()"
   ]
  },
  {
   "cell_type": "markdown",
   "metadata": {},
   "source": [
    "### Váha"
   ]
  },
  {
   "cell_type": "code",
   "execution_count": null,
   "metadata": {},
   "outputs": [],
   "source": [
    "merged_num_only_weight = merged_num_only.copy()"
   ]
  },
  {
   "cell_type": "code",
   "execution_count": null,
   "metadata": {
    "scrolled": true
   },
   "outputs": [],
   "source": [
    "merged_num_only_weight[\"weight\"].describe()"
   ]
  },
  {
   "cell_type": "code",
   "execution_count": null,
   "metadata": {},
   "outputs": [],
   "source": [
    "merged_num_only_weight[\"weight\"].hist()"
   ]
  },
  {
   "cell_type": "code",
   "execution_count": null,
   "metadata": {},
   "outputs": [],
   "source": [
    "merged_num_only_weight2 = merged_num_only_weight.copy()\n",
    "q05, q95 = percentile(merged_num_only_weight2[\"weight\"], 5), percentile(merged_num_only_weight2[\"weight\"], 95)\n",
    "merged_num_only_weight2[\"weight\"] = np.where(merged_num_only_weight2[\"weight\"] < q05, q05, merged_num_only_weight2[\"weight\"])\n",
    "merged_num_only_weight2[\"weight\"] = np.where(merged_num_only_weight2[\"weight\"] > q95, q95, merged_num_only_weight2[\"weight\"])"
   ]
  },
  {
   "cell_type": "code",
   "execution_count": null,
   "metadata": {},
   "outputs": [],
   "source": [
    "merged_num_only_weight2[\"weight\"].hist()"
   ]
  },
  {
   "cell_type": "code",
   "execution_count": null,
   "metadata": {},
   "outputs": [],
   "source": [
    "merged_num_only_weight[\"weight\"] = abs(merged_num_only_weight[\"weight\"])"
   ]
  },
  {
   "cell_type": "code",
   "execution_count": null,
   "metadata": {},
   "outputs": [],
   "source": [
    "merged_num_only_weight[\"weight\"].describe()"
   ]
  },
  {
   "cell_type": "code",
   "execution_count": null,
   "metadata": {},
   "outputs": [],
   "source": [
    "merged_num_only_weight[\"weight\"].hist()"
   ]
  },
  {
   "cell_type": "markdown",
   "metadata": {},
   "source": [
    "### Záver integrácie a čistenia dát"
   ]
  },
  {
   "cell_type": "markdown",
   "metadata": {},
   "source": [
    "Chýbajúcich dát je celkovo 330. Pri stĺpcoch ktoré majú 10000+ záznamov to je irelevantné číslo. Chýbajúce dáta tvoria iba 3,3% dát, preto je bezpečné ich odstrániť s minimálnou hrozbou výrazného ovplyvnenia výsledkov. Vyskúšali sme nahradiť chýbajúce hodnoty priemerom, mediánom a kNN, ale zmeny v koreláciách boli minimálne. Preto sme sa rozhodli naďalej pokračovať s datasetom z ktorého vychýlené hodnoty odstránime.\n",
    "\n",
    "Vychýlené hodnoty sú prítomné, ide ale o medicínske dáta ľudí s rôznym zdravotným stavom. To, či sú nejaké hodnoty z krvných testov nezmyselné, nedokážeme posúdiť z dôvodu nedostatku doménových znalostí. Vyskúšali sme vychýlené dáta odstrániť, prípadne ich nahradiť hraničnými hodnotami rozdelenia (5% resp. 95%). Zmeny v koreláciách boli prítomné, avšak podľa nášho názoru manipulácia s výchýlenými dátami nie je bezpečná, keďže nevieme, či sú dáta vychýlené z dôvodu chyby, alebo z dôvodu skutočne vychýlenej hodnoty. Naďalej budeme predpolkadať, že dáta sú vychýlené preto, lebo boli tak namerané aj v skutočnosti. Preto ich nebudeme odstraňovať ani nahrádzať. "
   ]
  },
  {
   "cell_type": "markdown",
   "metadata": {},
   "source": [
    "Ďalej budeme pracovať s dátami, kde boli chýbajúce dáta odstránené a vychýlené hodnoty neboli nijako ošetrené. V *merged_withoutNA* sa nachádzajú všetky dáta z *merged* a NA hodnoty sú odstránené. V *merged_num_only* sa nachádzajú všetky dáta z *merged_withoutNA* s tým, že sú odstránené nenumerické stĺpce *residence, job, company, name, birthdate*."
   ]
  },
  {
   "cell_type": "markdown",
   "metadata": {},
   "source": [
    "## 2. Realizácia predspracovania dát (5b)\n"
   ]
  },
  {
   "cell_type": "markdown",
   "metadata": {},
   "source": [
    "* Transformované dáta pre strojové učenie si rozdeľuje na trénovaciu a testovaciu množinu (train and test mergedset) podľa vami preddefinovaným pomerom. Naďalej pracujte len s trénovacím mergedsetom.\n",
    "* Transformujte atribútov dát pre strojové učenie podľa dostupných techník (minimálne 2 techniky) ako scaling, transformers a ďalšie.\n",
    "* Zdôvodnite Vašu voľby/rozhodnutie pre realizáciu (t.j. zdokumentovanie)"
   ]
  },
  {
   "cell_type": "markdown",
   "metadata": {},
   "source": [
    "### Kódovanie kategorických atribútov pre strojové učenie\n",
    "\n",
    "Vykonali sme to na začiatku pre zjednodušenie práce."
   ]
  },
  {
   "cell_type": "markdown",
   "metadata": {},
   "source": [
    "### Transformácia atribútov pre strojové učenie"
   ]
  },
  {
   "cell_type": "markdown",
   "metadata": {},
   "source": [
    "#### Transfromácia na normálne rozdelenie (\"make data more Gaussian\")"
   ]
  },
  {
   "cell_type": "code",
   "execution_count": null,
   "metadata": {
    "scrolled": true
   },
   "outputs": [],
   "source": [
    "power = PowerTransformer(method='yeo-johnson', standardize=True)\n",
    "quan = QuantileTransformer(n_quantiles=10, random_state=0)\n",
    "\n",
    "m_col = ['hemoglobin', 'alp', 'etytr', 'alt', 'erytrocyty', 'hbver', 'hematokrit', 'er-cv', 'leukocyty', 'ast', 'trombocyty']\n",
    "fig, axs = plt.subplots(2, 2, figsize=(15,24))\n",
    "for num, col_name in enumerate(m_col):\n",
    "    plt.subplot(6, 2, num+1)\n",
    "    plt.hist(merged[col_name], bins=25)\n",
    "    pow_trans = power.fit_transform(merged[[col_name]])\n",
    "    plt.hist(pow_trans, bins=25)\n",
    "    q_trans = quan.fit_transform(merged[[col_name]])\n",
    "    plt.hist(q_trans, bins=25)\n",
    "    plt.grid()\n",
    "    plt.title(col_name)\n",
    "    plt.legend(['origin', 'power_t', 'quan_t'])"
   ]
  },
  {
   "cell_type": "markdown",
   "metadata": {},
   "source": [
    "Podľa grafov vidno, že power transformácia pomohla dáta upraviť na normálny tvar ako napr. pre atribút alt. Naopak quantile transformácia nebola veľmi užitočná a dokonca ešte aj v niektorých prípadoch normálne rozdelenie pokazila."
   ]
  },
  {
   "cell_type": "markdown",
   "metadata": {},
   "source": [
    "#### Škálovanie dát"
   ]
  },
  {
   "cell_type": "code",
   "execution_count": null,
   "metadata": {
    "scrolled": true
   },
   "outputs": [],
   "source": [
    "stan_s = StandardScaler()\n",
    "norm_s = MinMaxScaler()\n",
    "\n",
    "m_col = ['hemoglobin', 'alp', 'etytr', 'alt', 'erytrocyty', 'hbver', 'hematokrit', 'er-cv', 'leukocyty', 'ast', 'trombocyty']\n",
    "fig, axs = plt.subplots(2, 2, figsize=(18,24))\n",
    "for num, col_name in enumerate(m_col):\n",
    "    plt.subplot(6, 2, num+1)\n",
    "    plt.hist(merged[col_name], bins=25)\n",
    "    s_scaled = stan_s.fit_transform(merged[[col_name]])\n",
    "    plt.hist(s_scaled, bins=25)\n",
    "    n_scaled = norm_s.fit_transform(merged[[col_name]])\n",
    "    plt.hist(n_scaled, bins=25)\n",
    "    plt.grid()\n",
    "    plt.title(col_name)\n",
    "    plt.legend(['origin', 'stan_s', 'norm_s'])\n"
   ]
  },
  {
   "cell_type": "markdown",
   "metadata": {},
   "source": [
    "Ani jedno škálovanie atribútu alt neupravilo dostatočne hodnoty voči ostatným atribútom."
   ]
  },
  {
   "cell_type": "markdown",
   "metadata": {},
   "source": [
    "### Rozdelenie na trénovaciu a testovaciu množinu\n",
    "\n",
    "Dataset merged rozdelíme v pomere 1/3 pre testovaciu množinu a 2/3 pre trénovaciu množinu pre indikátor (y) a pre všetky ostatné atribúty (X)."
   ]
  },
  {
   "cell_type": "code",
   "execution_count": null,
   "metadata": {},
   "outputs": [],
   "source": [
    "X_train, X_test, y_train, y_test = train_test_split(merged.drop([\"indicator\"], axis=1), merged['indicator'], test_size=0.33)"
   ]
  },
  {
   "cell_type": "markdown",
   "metadata": {},
   "source": [
    "### Záver realizácie predspracovania dát "
   ]
  },
  {
   "cell_type": "markdown",
   "metadata": {},
   "source": [
    "Kategorické dáta sme zakódovali, resp. transformovali dvoma spôsobmi, Ordinal a One-hot. One-hot sme použili pre pohlavie, kde pri dvoch typoch atribútov ide o rozumné rozšírenie tabuľkových dát. Vďaka tomuto rozdeleniu bude možné hneď pozorovať vplyv pohlavia na stav pacienta. Ostatné všetky kategorické atribúty sme transformovali pomocou Ordinal. Ide o klasický spôsob, ktorým sme mohli rozdeliť väčšiu základnú množinu typov dát. Pre strojové učenie by bolo vhodnejšie, keby každá hodnota kategorického atribútu mala samostatný stĺpec s binárnou hodnotou, ale to by príliš drasticky zvýšilo počet stĺpcov. Pre zachovanie prehľadnosti teda používame Ordinal.\n",
    "\n",
    "Niektoré spôsoby (napr. binary encoding) sme kvôli rôznorodosti nepoužili, lebo by vzniklo príliš veľa redundantných stĺpcov. Alebo iné spôsoby (napr. leave one out) neboli pre nás zaujímave.\n",
    "\n",
    "Škálovanie dát dopadlo predvídateľne. Vyskúšali sme MinMaxScaler a StandardScaler. Dalo sa očakávať, že dáta boli preškálované okolo základného rozsahu, ale ani jeden spôsob nevyriešil problém s vychýlenými hodnotami pre atribút alt, preto sme sa rozhodli tento typ predspracovania nepoužiť.\n",
    "\n",
    "Transformáciu číselných dát, aby sa viac podobali Gaussovmu rozdeleniu, sme v našej práce tiež vyskúšali. Ako vidno v grafoch Quantile Transformer tiež nebol užitočný, a dokonca pokazil niektoré rozdelenia. Power Transformer upravil hodnoty atribútu alt a priblížil rozdelenie k normálnemu rozdeleniu a aj početnosť je v približne rovnakom rozsahu ako je to u ostatných atribútov. Kvôli výstpu transformácie podľa dát sme sa rozhodli vybrať si práve Power Transformer pre ďalšie pracovanie a realizáciu.\n"
   ]
  },
  {
   "cell_type": "markdown",
   "metadata": {},
   "source": [
    "## 3. Výber atribútov pre strojové učenie (5b)"
   ]
  },
  {
   "cell_type": "markdown",
   "metadata": {},
   "source": [
    "* Zistite ktoré atribúty (features) vo vašich dátach pre strojové učenie sú informatívne k atribútu “indikator”. Zoradíte tie atribúty v poradí podľa dôležitosti. \n",
    "* Zdôvodnite Vašu voľby/rozhodnutie pre realizáciu (t.j. zdokumentovanie)"
   ]
  },
  {
   "cell_type": "code",
   "execution_count": null,
   "metadata": {},
   "outputs": [],
   "source": [
    "X = merged_num_only_weight.drop([\"indicator\"], axis=1)\n",
    "y = merged_num_only_weight.indicator"
   ]
  },
  {
   "cell_type": "markdown",
   "metadata": {},
   "source": [
    "Vzhľadom na to, že indikátor používame ako target množinu, z dát ho odstraňujeme."
   ]
  },
  {
   "cell_type": "markdown",
   "metadata": {},
   "source": [
    "### Variance Threshold"
   ]
  },
  {
   "cell_type": "markdown",
   "metadata": {},
   "source": [
    "Pred výberom atribútov vyskúšame odstrániť atribúty s nízkou varianciou, konkrétne ak zhoda je v 80% a viac vzorkách."
   ]
  },
  {
   "cell_type": "code",
   "execution_count": null,
   "metadata": {},
   "outputs": [],
   "source": [
    "sel = VarianceThreshold(threshold=(.8 * (1 - .8)))\n",
    "colsVT = sel.fit_transform(X)\n",
    "colsVT[0].size"
   ]
  },
  {
   "cell_type": "markdown",
   "metadata": {},
   "source": [
    "Výsledok ukazuje počet stĺpcov pre jedno pozorovanie (jeden riadok v Data frame). Pred týmto krokom bolo dokopy atribútov 20, takže to znamená, že v dátach nemáme atribúty s príliš nízkou varianciou a teda nie sú až dostatočne výpovedné."
   ]
  },
  {
   "cell_type": "markdown",
   "metadata": {},
   "source": [
    "### Výber K najlepších (SelectKBest)\n",
    "Výber je založený na tom, že vyberie k najlepších výsledkov. Preto sme pomocou funkcie selectKbestToDf() vybrali i najlepších a pomocou funkcie orderColumns() sme zoradili získané výsledky."
   ]
  },
  {
   "cell_type": "code",
   "execution_count": null,
   "metadata": {},
   "outputs": [],
   "source": [
<<<<<<< Updated upstream
=======
    "def selectKbestToDf(X, y, typeOfSelection, k = 10):\n",
    "    selected = SelectKBest(typeOfSelection, k = k)\n",
    "    X_selected = selected.fit_transform(X, y)\n",
    "    column_names = X.columns[selected.get_support()]\n",
    "    df_new = pd.DataFrame(X_selected, columns = column_names)\n",
    "    return df_new"
   ]
  },
  {
   "cell_type": "code",
   "execution_count": null,
   "metadata": {
    "scrolled": true
   },
   "outputs": [],
   "source": [
>>>>>>> Stashed changes
    "def orderColumns(X, y, typeOfSelection):\n",
    "    selector = SelectKBest(typeOfSelection, k ='all')\n",
    "    X_selected = selector.fit_transform(X, y)\n",
    "    scores = selector.scores_\n",
    "    column_names = X.columns[selector.get_support()]\n",
    "    indices = [x for _,x in sorted(zip(scores,column_names), reverse=True)]\n",
    "    \n",
    "    return indices"
   ]
  },
  {
   "cell_type": "markdown",
   "metadata": {},
   "source": [
    "#### Typy skórovacích funkcií:\n",
    "##### 1. mutual_info_regression"
   ]
  },
  {
   "cell_type": "code",
   "execution_count": null,
   "metadata": {},
   "outputs": [],
   "source": [
    "MI_column_order = orderColumns(X, y, mutual_info_regression)\n",
    "print(MI_column_order)"
   ]
  },
  {
   "cell_type": "markdown",
   "metadata": {},
   "source": [
    "##### 2. chi2"
   ]
  },
  {
   "cell_type": "code",
   "execution_count": null,
   "metadata": {},
   "outputs": [],
   "source": [
    "Chi2_column_order = orderColumns(X, y, chi2)\n",
    "print(Chi2_column_order)"
   ]
  },
  {
   "cell_type": "markdown",
   "metadata": {},
   "source": [
    "##### 3. f_regression"
   ]
  },
  {
   "cell_type": "code",
   "execution_count": null,
   "metadata": {},
   "outputs": [],
   "source": [
    "Fv_column_order = orderColumns(X, y, f_regression)\n",
    "print(Fv_column_order)"
   ]
  },
  {
   "cell_type": "markdown",
   "metadata": {},
   "source": [
    "### Výber podľa percentilu (SelectPercentile)\n",
    "Výber je založený na tom, že podľa percentilu vyberie n najlepších výsledkov. Preto sme pomocou funkcie selectPercentileToDf() vybrali i najlepších a pomocou funkcie orderColumnsPrc() sme zoradili získané výsledky."
   ]
  },
  {
   "cell_type": "code",
   "execution_count": null,
   "metadata": {},
   "outputs": [],
   "source": [
    "def orderColumnsPrc(X, y, estimator):\n",
    "    selector = SelectPercentile(estimator, percentile=100)\n",
    "    X_selected = selector.fit_transform(X, y)\n",
    "    scores = selector.scores_\n",
    "    column_names = X.columns[selector.get_support()]\n",
<<<<<<< Updated upstream
    "    indices = [x for _,x in sorted(zip(scores,column_names), reverse=True)]\n",
    "    \n",
    "    return indices"
=======
    "    df_new = pd.DataFrame(X_selected, columns = column_names)\n",
    "    return df_new"
   ]
  },
  {
   "cell_type": "code",
   "execution_count": null,
   "metadata": {},
   "outputs": [],
   "source": [
    "def orderColumnsPrc(X, y, func):\n",
    "    columns_list = []\n",
    "    for i in range(0, X.shape[1]):\n",
    "        cols_returned = selectPercentileToDf(X, y, func, i*5+5).columns\n",
    "        for column in cols_returned:\n",
    "            if column not in columns_list:\n",
    "                columns_list.append(column)\n",
    "    for column in cols_returned:\n",
    "        if column not in columns_list:\n",
    "            columns_list.append(column)\n",
    "    return columns_list"
>>>>>>> Stashed changes
   ]
  },
  {
   "cell_type": "markdown",
   "metadata": {},
   "source": [
    "#### Typy skórovacích funkcií:\n",
    "##### 1. chi2"
   ]
  },
  {
   "cell_type": "code",
   "execution_count": null,
   "metadata": {},
   "outputs": [],
   "source": [
    "PrcCH_column_order = orderColumnsPrc(X, y, chi2)\n",
    "print(PrcCH_column_order)"
   ]
  },
  {
   "cell_type": "markdown",
   "metadata": {},
   "source": [
    "##### 2. f_classif"
   ]
  },
  {
   "cell_type": "code",
   "execution_count": null,
   "metadata": {},
   "outputs": [],
   "source": [
    "PrcFCL_column_order = orderColumnsPrc(X, y, f_classif)\n",
    "print(PrcFCL_column_order)"
   ]
  },
  {
   "cell_type": "markdown",
   "metadata": {},
   "source": [
    "##### 3. f_regression"
   ]
  },
  {
   "cell_type": "code",
   "execution_count": null,
   "metadata": {},
   "outputs": [],
   "source": [
    "PrcFRE_column_order = orderColumnsPrc(X, y, f_regression)\n",
    "print(PrcFRE_column_order)"
   ]
  },
  {
   "cell_type": "markdown",
   "metadata": {},
   "source": [
    "### Výber z modelu (SelectFromModel)\n",
    "Vyberajú sa atribúty, ktoré sú najlepšie podľa estimátora. Ukážeme výber podľa RandomForestClassifier, ktorým sa vyberajú stromovým spôsobom tie hodnoty, ktoré nie sú irelevantné."
   ]
  },
  {
   "cell_type": "code",
   "execution_count": null,
<<<<<<< Updated upstream
   "metadata": {},
=======
   "metadata": {
    "scrolled": true
   },
>>>>>>> Stashed changes
   "outputs": [],
   "source": [
    "selectorSFM = SelectFromModel(RandomForestClassifier())\n",
    "SFM_selected = selectorSFM.fit_transform(X, y)\n",
    "column_names = X.columns[selectorSFM.get_support()]\n",
    "pd.DataFrame(SFM_selected, columns = column_names).columns"
   ]
  },
  {
   "cell_type": "markdown",
   "metadata": {},
   "source": [
    "**Na záver** sme z atribútov získaných z metód výberu atribútov (K najlepších a podľa percentilu) ohodnotili ich poradie, aby sme vytvorili poradie najdôležitejších atribútov celkovo."
   ]
  },
  {
   "cell_type": "code",
   "execution_count": null,
   "metadata": {},
   "outputs": [],
   "source": [
    "def orderLists(X, list_of_list):\n",
    "    x_columns = X.columns\n",
    "    x_weights = [0 for i in range(len(x_columns))]\n",
    "    for lst in list_of_list:\n",
    "        for i in range(len(x_columns)):\n",
    "            x_weights[i] += lst.index(x_columns[i])         \n",
    "    map_of_cols = [q for _, q in sorted(zip(x_weights, x_columns))]\n",
    "    return map_of_cols    "
   ]
  },
  {
   "cell_type": "code",
   "execution_count": null,
   "metadata": {},
   "outputs": [],
   "source": [
    "list_of_list = [MI_column_order, Chi2_column_order, Fv_column_order, PrcCH_column_order, PrcFCL_column_order, PrcFRE_column_order]\n",
    "orderLists(X, list_of_list)"
   ]
  },
  {
   "cell_type": "markdown",
   "metadata": {},
   "source": [
    "### Záver výberu atribútov pre strojové učenie"
   ]
  },
  {
   "cell_type": "markdown",
   "metadata": {},
   "source": [
    "Vyskúšali sme viacero metód na výber atribútov strojového učenia. Každou z týchto metód sme vytvorili poradie atribútov podľa dôležitosti a následne sme tieto atribúty zoradili celkovo.\n",
    "\n",
    "Výsledné poradie ktoré nám vrátila naša hodnotiaca funkcia:\n",
    "\n",
    "*'leukocyty', 'etytr', 'hematokrit', 'state', 'alp', 'ast', 'blood_group', 'race', 'weight', 'erytrocyty', 'sex_M', 'smoker', 'age', 'er-cv', 'alt', 'sex_F', 'hbver', 'relationship', 'hemoglobin', 'trombocyty'*\n",
    "\n",
    "Ako vidíme, hodnoty 'leukocyty', 'etytr' a 'hematokrit' sú najdôležitejšie. Prekapivo, atribút 'state' sa taktiež umiestnil pomerne vysoko. Môže to byť spôsobené použitím Ordinal encodingom kategorických dát. Preto k tomuto atribútu pristupujeme zdržanlivo. Rovnako, ako k podobným kategorickám atribútom, ako 'blood_group', 'race' a 'relationship'. V nasledujúcej fáze projektu na základe krížovej validácie overíme, či je vplyv kategorických atribútov dôležitý, alebo nie.\n",
    "\n",
    "Hoci atrubút 'weight' sa javí ako pomerne dôležitý, vzhľadom na našu doménovú znalosť ľudskej váhy, rozhodli sme sa tento atribút pre jeho neobyčajné hodnoty úplne vyradiť."
   ]
  },
  {
   "cell_type": "markdown",
   "metadata": {},
   "source": [
    "## 4. Replikovateľnosť predspracovania (5b)"
   ]
  },
  {
   "cell_type": "markdown",
   "metadata": {},
   "source": [
    "* Upravte váš kód realizujúci predspracovanie trénovacej množiny tak, aby ho bolo možné bez ďalších úprav znovu použiť na predspracovanie testovacej množiny (napr. pomocou funkcie/í)\n",
    "* Očakáva sa aj využitie možnosti sklearn.pipeline"
   ]
  },
  {
   "cell_type": "markdown",
   "metadata": {},
   "source": [
    "### Importy"
   ]
  },
  {
   "cell_type": "code",
<<<<<<< Updated upstream
   "execution_count": null,
=======
   "execution_count": 1,
>>>>>>> Stashed changes
   "metadata": {},
   "outputs": [],
   "source": [
    "import matplotlib.pyplot as plt\n",
    "import seaborn as sns\n",
    "import pandas as pd\n",
    "import numpy as np\n",
    "import scipy.stats as stats\n",
    "import statsmodels.api as sm\n",
    "import statsmodels.stats.api as sms\n",
    "import statsmodels.stats as sm_stats\n",
    "\n",
    "import datetime\n",
    "import re\n",
    "import category_encoders as ce\n",
    "from sklearn.impute import SimpleImputer, KNNImputer\n",
    "from numpy import percentile\n",
    "\n",
    "import matplotlib.pyplot as plt\n",
    "from sklearn.preprocessing import PowerTransformer, QuantileTransformer\n",
    "\n",
    "from sklearn.feature_selection import VarianceThreshold, SelectKBest, SelectPercentile, SelectFromModel\n",
    "from sklearn.feature_selection import mutual_info_regression, chi2, f_regression, f_classif\n",
    "from sklearn.ensemble import RandomForestClassifier\n",
    "\n",
    "from sklearn.preprocessing import StandardScaler, MinMaxScaler\n",
    "import matplotlib.pyplot as plt\n",
    "\n",
    "from sklearn.base import TransformerMixin\n",
    "from sklearn.pipeline import Pipeline\n",
    "from sklearn.model_selection import train_test_split"
   ]
  },
  {
   "cell_type": "markdown",
   "metadata": {},
   "source": [
    "### Predspracovanie z fázy 1"
   ]
  },
  {
   "cell_type": "code",
<<<<<<< Updated upstream
   "execution_count": null,
=======
   "execution_count": 2,
>>>>>>> Stashed changes
   "metadata": {},
   "outputs": [],
   "source": [
    "def phase1():\n",
    "    labor = pd.read_csv(\"046/labor.csv\", sep='\\t')\n",
    "    labor.rename(columns = {\"Unnamed: 0\": \"index\"}, inplace = True)\n",
    "    labor = labor.drop([\"index\", \"name\"], axis=1)\n",
    "    smoker_encoding = {\"Y\": 1, \"N\": 0, \"yes\": 1, \"no\": 0}\n",
    "    labor[\"smoker\"].replace(smoker_encoding, inplace=True)\n",
    "\n",
    "    profiles = pd.read_csv(\"046/profiles.csv\", sep='\\t')\n",
    "    profiles.rename(columns = {\"Unnamed: 0\": \"index\"}, inplace = True)\n",
    "    profiles = profiles.drop([\"index\"], axis=1)\n",
    "    profiles[\"race\"].replace({\"black\": \"Black\", \"white\": \"White\", \"blsck\": \"Black\"}, inplace=True)\n",
    "    profiles[\"birthdate\"] = pd.to_datetime(profiles['birthdate'], utc=False)\n",
    "\n",
    "    merged = pd.merge(profiles, labor, how='outer', on='ssn')\n",
    "    merged = merged.drop([\"ssn\"], axis=1)\n",
    "    return merged"
   ]
  },
  {
   "cell_type": "markdown",
   "metadata": {},
   "source": [
    "### 2.1 Integrácia a čistenie dát"
   ]
  },
  {
   "cell_type": "code",
<<<<<<< Updated upstream
   "execution_count": null,
=======
   "execution_count": 3,
>>>>>>> Stashed changes
   "metadata": {},
   "outputs": [],
   "source": [
    "class handleNA(TransformerMixin):\n",
    "    def __init__(self, method, strategy=None):\n",
    "        self.method = method\n",
    "        self.strategy = strategy\n",
    "        \n",
    "    def removeNA(self, merged):\n",
    "        return merged.dropna()\n",
    "\n",
    "    def getNAcols(self, merged):\n",
    "        return merged.columns[merged.isnull().any()].tolist()\n",
    "\n",
    "    def replaceNaN(self, original_merged):\n",
    "        na_cols = self.getNAcols(original_merged)\n",
    "        strategy = self.strategy\n",
    "        new_merged = original_merged.copy()\n",
    "        if strategy == \"kNN\":\n",
    "            imp_strategy = KNNImputer(n_neighbors=5, weights='uniform', metric='nan_euclidean')\n",
    "    #         imp_strategy = KNNImputer()\n",
    "        elif strategy == \"mean\" or strategy == \"median\":    \n",
    "            imp_strategy = SimpleImputer(missing_values=np.nan, strategy=strategy)\n",
    "        else:\n",
    "            raise Exception(\"Unsupported strategy\")\n",
    "        for col in na_cols:\n",
    "            new_merged[col] = imp_strategy.fit_transform(new_merged[[col]])\n",
    "        return new_merged\n",
    "    \n",
    "    def fit(self, X):\n",
    "        return self\n",
    "    \n",
    "    def transform(self, X):\n",
    "        if self.method == 'nothing':\n",
    "            return X\n",
    "        elif self.method == 'remove':\n",
    "            return self.removeNA(X);\n",
    "        elif self.method == 'replace':\n",
    "            return self.replaceNaN(X)\n",
    "        else:\n",
    "            raise Exception(\"Unsupported method\")"
   ]
  },
  {
   "cell_type": "code",
<<<<<<< Updated upstream
   "execution_count": null,
=======
   "execution_count": 4,
>>>>>>> Stashed changes
   "metadata": {},
   "outputs": [],
   "source": [
    "class handleOutliers(TransformerMixin):\n",
    "    def __init__(self, method):\n",
    "        self.method = method\n",
    "        \n",
    "    def onlyNumCols(self, merged):\n",
    "        return merged.drop([\"residence\", \"job\", \"company\", \"name\", \"birthdate\"], axis=1, errors='ignore')\n",
    "\n",
    "    def identify_outliers(self, merged):\n",
    "        suma = 0;\n",
    "        for col in merged.columns:\n",
    "            q25, q75 = percentile(merged[col], 25), percentile(merged[col], 75)\n",
    "            iqr = q75 - q25\n",
    "            cut_off = iqr * 1.5\n",
    "            lower, upper = q25 - cut_off, q75 + cut_off\n",
    "            outliers = merged[((merged[col] < lower) | (merged[col] > upper))] \n",
    "            print(col, 'Identified outliers: %d' % len(outliers))\n",
    "            suma += len(outliers)\n",
    "        print('Sum of identified outliers: %d' % suma)\n",
    "\n",
    "    def remove_outliers(self, merged):\n",
    "        newMerged = merged.copy()\n",
    "        for col in newMerged.columns:\n",
    "            q25, q75 = percentile(newMerged[col], 25), percentile(newMerged[col], 75)\n",
    "            iqr = q75 - q25\n",
    "            cut_off = iqr * 1.5\n",
    "            lower, upper = q25 - cut_off, q75 + cut_off\n",
    "            newMerged = newMerged[((newMerged[col] >= lower) & (newMerged[col] <= upper))] \n",
    "        return newMerged\n",
    "\n",
    "    def replace_outliers(self, merged):\n",
    "        newMerged = merged.copy()\n",
    "        for col in newMerged.columns:\n",
    "            q05, q95 = percentile(newMerged[col], 5), percentile(newMerged[col], 95)\n",
    "            newMerged[col] = np.where(newMerged[col] < q05, q05, newMerged[col])\n",
    "            newMerged[col] = np.where(newMerged[col] > q95, q95, newMerged[col])\n",
    "        return newMerged\n",
    "    \n",
    "    def fit(self, X):\n",
    "        return self\n",
    "    \n",
    "    def transform(self, X):\n",
    "        if self.method == 'nothing':\n",
    "            return self.onlyNumCols(X)\n",
    "        elif self.method == 'remove':\n",
    "            return self.remove_outliers(self.onlyNumCols(X))\n",
    "        elif self.method == 'replace':\n",
    "            return self.replace_outliers(self.onlyNumCols(X))\n",
    "        else:\n",
    "            raise Exception(\"Unsupported method\")"
   ]
  },
  {
   "cell_type": "markdown",
   "metadata": {},
   "source": [
    "### 2.2 Realizácia predspracovania dát"
   ]
  },
  {
   "cell_type": "code",
<<<<<<< Updated upstream
   "execution_count": null,
=======
   "execution_count": 5,
>>>>>>> Stashed changes
   "metadata": {},
   "outputs": [],
   "source": [
    "class handleCategorical(TransformerMixin):\n",
    "    def transformResidenceNLP(self, merged):\n",
    "        for i in merged['residence'].index:\n",
    "            country_code = re.findall('[A-Z]{2} [0-9]{5}', str(merged['residence'][i]))[0]\n",
    "            merged.at[i, 'state']=re.findall('[A-Z]{2}', country_code)[0]\n",
    "        len(merged['state'].value_counts())\n",
    "        return merged.drop('residence', axis=1)\n",
    "\n",
    "    def encodeOrdinal(self, merged):\n",
    "        transformed = self.transformResidenceNLP(merged)\n",
    "        ce_ordinal = ce.OrdinalEncoder(cols=['race', 'state', 'blood_group', 'relationship'])\n",
    "        encoded = ce_ordinal.fit_transform(transformed)\n",
    "        return encoded\n",
    "\n",
    "    def frombirthtoage(self, born):\n",
    "        now = datetime.date.today()\n",
    "        return now.year - born.year - ((now.month, now.day) < (born.month, born.day))\n",
    "\n",
    "    def computeAge(self, merged):\n",
    "        ages = merged['birthdate'].apply(lambda d: self.frombirthtoage(d))\n",
    "        merged = merged.assign(age=ages.values)\n",
    "        return merged.drop('birthdate', axis=1)\n",
    "\n",
    "    def encodeOneHot(self, merged):\n",
    "        ce_OHE = ce.OneHotEncoder(cols=['sex'], use_cat_names=True)\n",
    "        merged = ce_OHE.fit_transform(merged)\n",
    "        return merged\n",
    "\n",
    "    def fit(self, X):\n",
    "        return self\n",
    "    \n",
    "    def transform(self, X):\n",
    "        new_data = self.encodeOrdinal(X)\n",
    "        new_data = self.computeAge(new_data)\n",
    "        new_data = self.encodeOneHot(new_data)    \n",
    "        return new_data"
   ]
  },
  {
   "cell_type": "code",
<<<<<<< Updated upstream
   "execution_count": null,
=======
   "execution_count": 6,
>>>>>>> Stashed changes
   "metadata": {},
   "outputs": [],
   "source": [
    "class handleTransformations(TransformerMixin):\n",
    "    def __init__(self, method):\n",
    "        self.method = method\n",
    "        \n",
    "    def transformPower(self, merged):\n",
    "        power = PowerTransformer(method='yeo-johnson', standardize=True)\n",
    "        pow_trans = power.fit_transform(merged)\n",
    "        return pow_trans\n",
    "    \n",
    "    def transormQuan(self, merged):\n",
    "        quan = QuantileTransformer(n_quantiles=10, random_state=0)\n",
    "        q_trans = quan.fit_transform(merged)\n",
    "        return q_trans\n",
    "    \n",
    "    def scaleMM(self, merged):\n",
    "        norm_s = MinMaxScaler()\n",
    "        n_scaled = norm_s.fit_transform(merged)\n",
    "        return n_scaled\n",
    "        \n",
    "    def scaleS(self, merged):\n",
    "        stan_s = StandardScaler()\n",
    "        s_scaled = stan_s.fit_transform(merged)\n",
    "        return s_scaled\n",
    "    \n",
    "    def fit(self, X):\n",
    "        return self\n",
    "    \n",
    "    def transform(self, X):\n",
    "        if self.method == 'nothing':\n",
    "            return X\n",
    "        elif self.method == 'power':\n",
    "            return self.transformPower(X)\n",
    "        elif self.method == 'quan':\n",
    "            return self.transormQuan(X)\n",
    "        elif self.method == 'minmax':\n",
    "            return self.scaleMM(X)\n",
    "        elif self.method == 'standard':\n",
    "            return self.scaleS(X)\n",
    "        else:\n",
    "            raise Exception(\"Unsupported method\")"
   ]
  },
  {
   "cell_type": "markdown",
   "metadata": {},
   "source": [
    "### 2.3 Výber atribútov pre strojové učenie"
   ]
  },
  {
   "cell_type": "code",
<<<<<<< Updated upstream
   "execution_count": null,
=======
   "execution_count": 7,
>>>>>>> Stashed changes
   "metadata": {},
   "outputs": [],
   "source": [
    "def orderColumns(X, y, typeOfSelection):\n",
    "    selector = SelectKBest(typeOfSelection, k ='all')\n",
    "    X_selected = selector.fit_transform(X, y)\n",
    "    scores = selector.scores_\n",
    "    column_names = X.columns[selector.get_support()]\n",
    "    indices = [x for _,x in sorted(zip(scores,column_names), reverse=True)]\n",
    "    \n",
    "    return indices"
   ]
  },
  {
   "cell_type": "code",
<<<<<<< Updated upstream
   "execution_count": null,
=======
   "execution_count": 8,
>>>>>>> Stashed changes
   "metadata": {},
   "outputs": [],
   "source": [
    "def orderColumnsPrc(X, y, estimator):\n",
    "    selector = SelectPercentile(estimator, percentile=100)\n",
    "    X_selected = selector.fit_transform(X, y)\n",
    "    scores = selector.scores_\n",
    "    column_names = X.columns[selector.get_support()]\n",
    "    indices = [x for _,x in sorted(zip(scores,column_names), reverse=True)]\n",
    "    \n",
    "    return indices"
   ]
  },
  {
   "cell_type": "code",
<<<<<<< Updated upstream
   "execution_count": null,
=======
   "execution_count": 9,
>>>>>>> Stashed changes
   "metadata": {},
   "outputs": [],
   "source": [
    "def orderLists(X, list_of_list):\n",
    "    x_columns = X.columns\n",
    "    x_weights = [0 for i in range(len(x_columns))]\n",
    "    for lst in list_of_list:\n",
    "        for i in range(len(x_columns)):\n",
    "            x_weights[i] += lst.index(x_columns[i])         \n",
    "    map_of_cols = [q for _, q in sorted(zip(x_weights, x_columns))]\n",
    "    return map_of_cols   "
   ]
  },
  {
   "cell_type": "markdown",
   "metadata": {},
   "source": [
    "### Pipeline"
   ]
  },
  {
   "cell_type": "code",
<<<<<<< Updated upstream
   "execution_count": null,
=======
   "execution_count": 10,
>>>>>>> Stashed changes
   "metadata": {
    "scrolled": true
   },
   "outputs": [],
   "source": [
    "def pipelineGenerator(na_method='remove', na_strategy=None, outliers_method='nothing', tranformation_method='nothing'):\n",
    "    pipeline =  Pipeline([\n",
    "        ('handleCategorical', handleCategorical()),\n",
    "        ('handleNA', handleNA(na_method, na_strategy)), # possible: 'nothing'; 'remove'; 'replace', 'mean'; 'replace', 'median'; 'replace', 'kNN'\n",
    "        ('handleOutliers', handleOutliers(outliers_method)), # possible: 'nothing'; 'remove'; 'replace'\n",
    "        ('handleTransformations', handleTransformations(tranformation_method)) # possible: 'nothing'; 'power'; 'quan'; 'minmax'; 'standard'\n",
    "    ])\n",
    "    return pipeline"
   ]
  },
  {
   "cell_type": "code",
<<<<<<< Updated upstream
   "execution_count": null,
   "metadata": {},
   "outputs": [],
=======
   "execution_count": 27,
   "metadata": {},
   "outputs": [
    {
     "data": {
      "text/html": [
       "<div>\n",
       "<style scoped>\n",
       "    .dataframe tbody tr th:only-of-type {\n",
       "        vertical-align: middle;\n",
       "    }\n",
       "\n",
       "    .dataframe tbody tr th {\n",
       "        vertical-align: top;\n",
       "    }\n",
       "\n",
       "    .dataframe thead th {\n",
       "        text-align: right;\n",
       "    }\n",
       "</style>\n",
       "<table border=\"1\" class=\"dataframe\">\n",
       "  <thead>\n",
       "    <tr style=\"text-align: right;\">\n",
       "      <th></th>\n",
       "      <th>race</th>\n",
       "      <th>blood_group</th>\n",
       "      <th>sex_F</th>\n",
       "      <th>sex_M</th>\n",
       "      <th>weight</th>\n",
       "      <th>hemoglobin</th>\n",
       "      <th>alp</th>\n",
       "      <th>etytr</th>\n",
       "      <th>alt</th>\n",
       "      <th>erytrocyty</th>\n",
       "      <th>...</th>\n",
       "      <th>hematokrit</th>\n",
       "      <th>indicator</th>\n",
       "      <th>er-cv</th>\n",
       "      <th>leukocyty</th>\n",
       "      <th>smoker</th>\n",
       "      <th>relationship</th>\n",
       "      <th>ast</th>\n",
       "      <th>trombocyty</th>\n",
       "      <th>state</th>\n",
       "      <th>age</th>\n",
       "    </tr>\n",
       "  </thead>\n",
       "  <tbody>\n",
       "    <tr>\n",
       "      <th>0</th>\n",
       "      <td>1</td>\n",
       "      <td>1</td>\n",
       "      <td>1</td>\n",
       "      <td>0</td>\n",
       "      <td>68.64852</td>\n",
       "      <td>7.26815</td>\n",
       "      <td>68.18352</td>\n",
       "      <td>5.81889</td>\n",
       "      <td>2.66285</td>\n",
       "      <td>6.93051</td>\n",
       "      <td>...</td>\n",
       "      <td>11.27999</td>\n",
       "      <td>0.0</td>\n",
       "      <td>44.47642</td>\n",
       "      <td>8.86713</td>\n",
       "      <td>0</td>\n",
       "      <td>1</td>\n",
       "      <td>26.77151</td>\n",
       "      <td>5.62532</td>\n",
       "      <td>1</td>\n",
       "      <td>14</td>\n",
       "    </tr>\n",
       "    <tr>\n",
       "      <th>1</th>\n",
       "      <td>1</td>\n",
       "      <td>1</td>\n",
       "      <td>1</td>\n",
       "      <td>0</td>\n",
       "      <td>39.27363</td>\n",
       "      <td>5.09400</td>\n",
       "      <td>58.42059</td>\n",
       "      <td>5.99564</td>\n",
       "      <td>1.43578</td>\n",
       "      <td>6.54612</td>\n",
       "      <td>...</td>\n",
       "      <td>11.65206</td>\n",
       "      <td>1.0</td>\n",
       "      <td>57.12059</td>\n",
       "      <td>10.57140</td>\n",
       "      <td>0</td>\n",
       "      <td>2</td>\n",
       "      <td>38.28069</td>\n",
       "      <td>6.59275</td>\n",
       "      <td>1</td>\n",
       "      <td>14</td>\n",
       "    </tr>\n",
       "    <tr>\n",
       "      <th>2</th>\n",
       "      <td>1</td>\n",
       "      <td>1</td>\n",
       "      <td>1</td>\n",
       "      <td>0</td>\n",
       "      <td>61.21115</td>\n",
       "      <td>9.10298</td>\n",
       "      <td>14.51194</td>\n",
       "      <td>10.27253</td>\n",
       "      <td>2.13866</td>\n",
       "      <td>6.91541</td>\n",
       "      <td>...</td>\n",
       "      <td>9.13539</td>\n",
       "      <td>1.0</td>\n",
       "      <td>16.95110</td>\n",
       "      <td>7.30150</td>\n",
       "      <td>0</td>\n",
       "      <td>3</td>\n",
       "      <td>52.93857</td>\n",
       "      <td>8.58363</td>\n",
       "      <td>1</td>\n",
       "      <td>14</td>\n",
       "    </tr>\n",
       "    <tr>\n",
       "      <th>3</th>\n",
       "      <td>1</td>\n",
       "      <td>1</td>\n",
       "      <td>1</td>\n",
       "      <td>0</td>\n",
       "      <td>121.34568</td>\n",
       "      <td>9.03854</td>\n",
       "      <td>11.04396</td>\n",
       "      <td>5.55113</td>\n",
       "      <td>1.35987</td>\n",
       "      <td>6.49755</td>\n",
       "      <td>...</td>\n",
       "      <td>8.46192</td>\n",
       "      <td>0.0</td>\n",
       "      <td>63.86999</td>\n",
       "      <td>8.47060</td>\n",
       "      <td>0</td>\n",
       "      <td>3</td>\n",
       "      <td>48.94005</td>\n",
       "      <td>7.28386</td>\n",
       "      <td>1</td>\n",
       "      <td>14</td>\n",
       "    </tr>\n",
       "    <tr>\n",
       "      <th>4</th>\n",
       "      <td>2</td>\n",
       "      <td>2</td>\n",
       "      <td>1</td>\n",
       "      <td>0</td>\n",
       "      <td>107.36307</td>\n",
       "      <td>7.43673</td>\n",
       "      <td>68.85609</td>\n",
       "      <td>5.90077</td>\n",
       "      <td>3.45904</td>\n",
       "      <td>7.88035</td>\n",
       "      <td>...</td>\n",
       "      <td>5.96198</td>\n",
       "      <td>1.0</td>\n",
       "      <td>42.66862</td>\n",
       "      <td>6.25355</td>\n",
       "      <td>0</td>\n",
       "      <td>4</td>\n",
       "      <td>60.53571</td>\n",
       "      <td>9.03697</td>\n",
       "      <td>2</td>\n",
       "      <td>50</td>\n",
       "    </tr>\n",
       "    <tr>\n",
       "      <th>...</th>\n",
       "      <td>...</td>\n",
       "      <td>...</td>\n",
       "      <td>...</td>\n",
       "      <td>...</td>\n",
       "      <td>...</td>\n",
       "      <td>...</td>\n",
       "      <td>...</td>\n",
       "      <td>...</td>\n",
       "      <td>...</td>\n",
       "      <td>...</td>\n",
       "      <td>...</td>\n",
       "      <td>...</td>\n",
       "      <td>...</td>\n",
       "      <td>...</td>\n",
       "      <td>...</td>\n",
       "      <td>...</td>\n",
       "      <td>...</td>\n",
       "      <td>...</td>\n",
       "      <td>...</td>\n",
       "      <td>...</td>\n",
       "      <td>...</td>\n",
       "    </tr>\n",
       "    <tr>\n",
       "      <th>9997</th>\n",
       "      <td>4</td>\n",
       "      <td>2</td>\n",
       "      <td>0</td>\n",
       "      <td>1</td>\n",
       "      <td>63.91329</td>\n",
       "      <td>6.92457</td>\n",
       "      <td>76.04985</td>\n",
       "      <td>7.79662</td>\n",
       "      <td>2.68857</td>\n",
       "      <td>7.37201</td>\n",
       "      <td>...</td>\n",
       "      <td>11.49758</td>\n",
       "      <td>1.0</td>\n",
       "      <td>54.27312</td>\n",
       "      <td>6.04988</td>\n",
       "      <td>0</td>\n",
       "      <td>3</td>\n",
       "      <td>29.80578</td>\n",
       "      <td>6.04777</td>\n",
       "      <td>37</td>\n",
       "      <td>77</td>\n",
       "    </tr>\n",
       "    <tr>\n",
       "      <th>9998</th>\n",
       "      <td>4</td>\n",
       "      <td>2</td>\n",
       "      <td>0</td>\n",
       "      <td>1</td>\n",
       "      <td>133.06279</td>\n",
       "      <td>5.38773</td>\n",
       "      <td>72.42292</td>\n",
       "      <td>5.45882</td>\n",
       "      <td>5.27736</td>\n",
       "      <td>7.99408</td>\n",
       "      <td>...</td>\n",
       "      <td>7.48688</td>\n",
       "      <td>1.0</td>\n",
       "      <td>56.61539</td>\n",
       "      <td>8.62062</td>\n",
       "      <td>1</td>\n",
       "      <td>5</td>\n",
       "      <td>72.76467</td>\n",
       "      <td>7.53086</td>\n",
       "      <td>37</td>\n",
       "      <td>77</td>\n",
       "    </tr>\n",
       "    <tr>\n",
       "      <th>9999</th>\n",
       "      <td>4</td>\n",
       "      <td>4</td>\n",
       "      <td>1</td>\n",
       "      <td>0</td>\n",
       "      <td>38.38421</td>\n",
       "      <td>9.21934</td>\n",
       "      <td>13.81263</td>\n",
       "      <td>4.16461</td>\n",
       "      <td>2.24489</td>\n",
       "      <td>6.34525</td>\n",
       "      <td>...</td>\n",
       "      <td>7.06649</td>\n",
       "      <td>1.0</td>\n",
       "      <td>34.61849</td>\n",
       "      <td>6.56510</td>\n",
       "      <td>1</td>\n",
       "      <td>2</td>\n",
       "      <td>27.22654</td>\n",
       "      <td>8.20851</td>\n",
       "      <td>40</td>\n",
       "      <td>99</td>\n",
       "    </tr>\n",
       "    <tr>\n",
       "      <th>10000</th>\n",
       "      <td>4</td>\n",
       "      <td>4</td>\n",
       "      <td>1</td>\n",
       "      <td>0</td>\n",
       "      <td>93.21841</td>\n",
       "      <td>9.55404</td>\n",
       "      <td>14.37022</td>\n",
       "      <td>8.41723</td>\n",
       "      <td>14.07623</td>\n",
       "      <td>9.32920</td>\n",
       "      <td>...</td>\n",
       "      <td>7.25001</td>\n",
       "      <td>1.0</td>\n",
       "      <td>65.83218</td>\n",
       "      <td>6.51575</td>\n",
       "      <td>0</td>\n",
       "      <td>1</td>\n",
       "      <td>34.02137</td>\n",
       "      <td>9.31013</td>\n",
       "      <td>40</td>\n",
       "      <td>99</td>\n",
       "    </tr>\n",
       "    <tr>\n",
       "      <th>10001</th>\n",
       "      <td>4</td>\n",
       "      <td>4</td>\n",
       "      <td>1</td>\n",
       "      <td>0</td>\n",
       "      <td>124.74317</td>\n",
       "      <td>5.47181</td>\n",
       "      <td>72.28620</td>\n",
       "      <td>8.90733</td>\n",
       "      <td>5.74389</td>\n",
       "      <td>8.09292</td>\n",
       "      <td>...</td>\n",
       "      <td>7.05093</td>\n",
       "      <td>1.0</td>\n",
       "      <td>41.95665</td>\n",
       "      <td>5.05152</td>\n",
       "      <td>0</td>\n",
       "      <td>1</td>\n",
       "      <td>40.46105</td>\n",
       "      <td>7.22042</td>\n",
       "      <td>40</td>\n",
       "      <td>99</td>\n",
       "    </tr>\n",
       "  </tbody>\n",
       "</table>\n",
       "<p>9672 rows × 21 columns</p>\n",
       "</div>"
      ],
      "text/plain": [
       "       race  blood_group  sex_F  sex_M     weight  hemoglobin       alp  \\\n",
       "0         1            1      1      0   68.64852     7.26815  68.18352   \n",
       "1         1            1      1      0   39.27363     5.09400  58.42059   \n",
       "2         1            1      1      0   61.21115     9.10298  14.51194   \n",
       "3         1            1      1      0  121.34568     9.03854  11.04396   \n",
       "4         2            2      1      0  107.36307     7.43673  68.85609   \n",
       "...     ...          ...    ...    ...        ...         ...       ...   \n",
       "9997      4            2      0      1   63.91329     6.92457  76.04985   \n",
       "9998      4            2      0      1  133.06279     5.38773  72.42292   \n",
       "9999      4            4      1      0   38.38421     9.21934  13.81263   \n",
       "10000     4            4      1      0   93.21841     9.55404  14.37022   \n",
       "10001     4            4      1      0  124.74317     5.47181  72.28620   \n",
       "\n",
       "          etytr       alt  erytrocyty  ...  hematokrit  indicator     er-cv  \\\n",
       "0       5.81889   2.66285     6.93051  ...    11.27999        0.0  44.47642   \n",
       "1       5.99564   1.43578     6.54612  ...    11.65206        1.0  57.12059   \n",
       "2      10.27253   2.13866     6.91541  ...     9.13539        1.0  16.95110   \n",
       "3       5.55113   1.35987     6.49755  ...     8.46192        0.0  63.86999   \n",
       "4       5.90077   3.45904     7.88035  ...     5.96198        1.0  42.66862   \n",
       "...         ...       ...         ...  ...         ...        ...       ...   \n",
       "9997    7.79662   2.68857     7.37201  ...    11.49758        1.0  54.27312   \n",
       "9998    5.45882   5.27736     7.99408  ...     7.48688        1.0  56.61539   \n",
       "9999    4.16461   2.24489     6.34525  ...     7.06649        1.0  34.61849   \n",
       "10000   8.41723  14.07623     9.32920  ...     7.25001        1.0  65.83218   \n",
       "10001   8.90733   5.74389     8.09292  ...     7.05093        1.0  41.95665   \n",
       "\n",
       "       leukocyty  smoker  relationship       ast  trombocyty  state  age  \n",
       "0        8.86713       0             1  26.77151     5.62532      1   14  \n",
       "1       10.57140       0             2  38.28069     6.59275      1   14  \n",
       "2        7.30150       0             3  52.93857     8.58363      1   14  \n",
       "3        8.47060       0             3  48.94005     7.28386      1   14  \n",
       "4        6.25355       0             4  60.53571     9.03697      2   50  \n",
       "...          ...     ...           ...       ...         ...    ...  ...  \n",
       "9997     6.04988       0             3  29.80578     6.04777     37   77  \n",
       "9998     8.62062       1             5  72.76467     7.53086     37   77  \n",
       "9999     6.56510       1             2  27.22654     8.20851     40   99  \n",
       "10000    6.51575       0             1  34.02137     9.31013     40   99  \n",
       "10001    5.05152       0             1  40.46105     7.22042     40   99  \n",
       "\n",
       "[9672 rows x 21 columns]"
      ]
     },
     "execution_count": 27,
     "metadata": {},
     "output_type": "execute_result"
    }
   ],
>>>>>>> Stashed changes
   "source": [
    "original_data = phase1()\n",
    "pipeline1 = pipelineGenerator()\n",
    "transformed_data1 = pipeline1.fit_transform(original_data)\n",
    "transformed_data1"
   ]
  },
  {
   "cell_type": "code",
<<<<<<< Updated upstream
   "execution_count": null,
   "metadata": {},
   "outputs": [],
=======
   "execution_count": 28,
   "metadata": {},
   "outputs": [
    {
     "data": {
      "text/plain": [
       "array([[-0.92775165, -1.63190814,  0.98570504, ..., -1.83415576,\n",
       "        -1.79099893, -1.36139367],\n",
       "       [-0.92775165, -1.63190814,  0.98570504, ..., -1.10723818,\n",
       "        -1.79099893, -1.36139367],\n",
       "       [-0.92775165, -1.63190814,  0.98570504, ...,  1.03194607,\n",
       "        -1.79099893, -1.36139367],\n",
       "       ...,\n",
       "       [ 1.23135966, -0.1449032 ,  0.98570504, ...,  0.63424054,\n",
       "         0.86297832,  1.17335096],\n",
       "       [ 1.23135966, -0.1449032 ,  0.98570504, ...,  1.79048546,\n",
       "         0.86297832,  1.17335096],\n",
       "       [ 1.23135966, -0.1449032 ,  0.98570504, ..., -0.42491136,\n",
       "         0.86297832,  1.17335096]])"
      ]
     },
     "execution_count": 28,
     "metadata": {},
     "output_type": "execute_result"
    }
   ],
>>>>>>> Stashed changes
   "source": [
    "pipeline2 = pipelineGenerator(na_method='replace', na_strategy='mean', outliers_method='replace', tranformation_method='power')\n",
    "transformed_data2 = pipeline2.fit_transform(original_data)\n",
    "transformed_data2"
   ]
  },
  {
   "cell_type": "markdown",
   "metadata": {},
   "source": [
    "Úpravy dát z fázy jedna sme vložili do jednej samostatnej funkcie. Úpravy dát z bodov 2.1 a 2.2 sme rozdelili do tried tak, aby boli volateľné z pipeline s rôznymi argumentami. Na základe toho dokážeme upraviť dataset podľa svojich predstáv."
   ]
  },
  {
   "cell_type": "markdown",
   "metadata": {},
   "source": [
    "### Export do CSV"
   ]
  },
  {
   "cell_type": "code",
<<<<<<< Updated upstream
   "execution_count": null,
=======
   "execution_count": 29,
   "metadata": {},
   "outputs": [],
   "source": [
    "def pipetofile(pipeline, X_train, X_test):\n",
    "    transformed_data1_train = pipeline.fit_transform(X_train)\n",
    "    transformed_data1_train.to_csv('processed_data_after_phase_2_train.csv', sep='\\t')\n",
    "    transformed_data1_test = pipeline.transform(X_test)\n",
    "    transformed_data1_test.to_csv('processed_data_after_phase_2_test.csv', sep='\\t')"
   ]
  },
  {
   "cell_type": "code",
   "execution_count": 30,
>>>>>>> Stashed changes
   "metadata": {},
   "outputs": [],
   "source": [
    "original_data = phase1()\n",
    "X_train, X_test, y_train, y_test = train_test_split(original_data.drop([\"indicator\"], axis=1), original_data['indicator'], test_size=0.33)\n",
    "pipeline1 = pipelineGenerator()\n",
    "pipetofile(pipeline1, X_train, X_test)"
   ]
  },
  {
   "cell_type": "markdown",
   "metadata": {},
   "source": [
    "Upravený dataframe ktorý je výstupom z pipeline ukladáme do csv súboru."
   ]
  },
  {
   "cell_type": "markdown",
   "metadata": {},
   "source": [
    "Správa sa odovzdáva v 9. týždni semestra\n",
    "\n",
    "Na cvičení, dvojica svojmu cvičiacemu odprezentuje vykonanú prieskumnú analýzu v Jupyter Notebooku.\n",
    "Správu elektronicky odovzdá jeden člen z dvojice do systému AIS do nedele 21.11.2021 23:59."
   ]
  }
 ],
 "metadata": {
  "interpreter": {
   "hash": "3521e35cbe2b1cdbbd5d08630a6e651e4449715cd00a47fe09d73258a6c84e53"
  },
  "kernelspec": {
   "display_name": "Python 3 (ipykernel)",
   "language": "python",
   "name": "python3"
  },
  "language_info": {
   "codemirror_mode": {
    "name": "ipython",
    "version": 3
   },
   "file_extension": ".py",
   "mimetype": "text/x-python",
   "name": "python",
   "nbconvert_exporter": "python",
   "pygments_lexer": "ipython3",
   "version": "3.9.7"
  }
 },
 "nbformat": 4,
 "nbformat_minor": 2
}
