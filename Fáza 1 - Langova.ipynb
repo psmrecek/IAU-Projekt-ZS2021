{
 "cells": [
  {
   "cell_type": "markdown",
   "source": [
    "# IAU Projekt"
   ],
   "metadata": {}
  },
  {
   "cell_type": "markdown",
   "source": [
    "# Fáza 1"
   ],
   "metadata": {}
  },
  {
   "cell_type": "markdown",
   "source": [
    "### Zadanie (the quest)\n",
    "\n",
    "* Každá dvojica bude pracovať s pridelenou dátovou sadou (3. týždeň).\n",
    "* Vašou úlohou je vedieť predikovať závislú hodnotu (indikator)\n",
    "\n",
    "Budete sa musieť pritom vysporiadať s viacerými problémami, ktoré sa v dátach nachádzajú ako formáty dát, chýbajúce, vychýlené hodnoty a pod."
   ],
   "metadata": {}
  },
  {
   "cell_type": "code",
   "execution_count": 2,
   "source": [
    "import matplotlib.pyplot as plt\r\n",
    "import seaborn as sns\r\n",
    "import pandas as pd\r\n",
    "import numpy as np\r\n",
    "import scipy.stats as stats"
   ],
   "outputs": [],
   "metadata": {}
  },
  {
   "cell_type": "code",
   "execution_count": 3,
   "source": [
    "filename_labor = \"046/labor.csv\"\r\n",
    "labor = pd.read_csv(filename_labor, sep='\\t')\r\n",
    "labor.head()"
   ],
   "outputs": [
    {
     "output_type": "execute_result",
     "data": {
      "text/html": [
       "<div>\n",
       "<style scoped>\n",
       "    .dataframe tbody tr th:only-of-type {\n",
       "        vertical-align: middle;\n",
       "    }\n",
       "\n",
       "    .dataframe tbody tr th {\n",
       "        vertical-align: top;\n",
       "    }\n",
       "\n",
       "    .dataframe thead th {\n",
       "        text-align: right;\n",
       "    }\n",
       "</style>\n",
       "<table border=\"1\" class=\"dataframe\">\n",
       "  <thead>\n",
       "    <tr style=\"text-align: right;\">\n",
       "      <th></th>\n",
       "      <th>Unnamed: 0</th>\n",
       "      <th>weight</th>\n",
       "      <th>ssn</th>\n",
       "      <th>hemoglobin</th>\n",
       "      <th>alp</th>\n",
       "      <th>etytr</th>\n",
       "      <th>alt</th>\n",
       "      <th>erytrocyty</th>\n",
       "      <th>hbver</th>\n",
       "      <th>name</th>\n",
       "      <th>hematokrit</th>\n",
       "      <th>indicator</th>\n",
       "      <th>er-cv</th>\n",
       "      <th>leukocyty</th>\n",
       "      <th>smoker</th>\n",
       "      <th>relationship</th>\n",
       "      <th>ast</th>\n",
       "      <th>trombocyty</th>\n",
       "    </tr>\n",
       "  </thead>\n",
       "  <tbody>\n",
       "    <tr>\n",
       "      <th>0</th>\n",
       "      <td>0</td>\n",
       "      <td>12.35740</td>\n",
       "      <td>803-27-3974</td>\n",
       "      <td>5.94182</td>\n",
       "      <td>86.80991</td>\n",
       "      <td>7.12559</td>\n",
       "      <td>2.18482</td>\n",
       "      <td>7.53345</td>\n",
       "      <td>7.51373</td>\n",
       "      <td>Kayla Rodriguez</td>\n",
       "      <td>6.98497</td>\n",
       "      <td>1.0</td>\n",
       "      <td>57.08422</td>\n",
       "      <td>7.21726</td>\n",
       "      <td>Y</td>\n",
       "      <td>married</td>\n",
       "      <td>77.99546</td>\n",
       "      <td>7.98017</td>\n",
       "    </tr>\n",
       "    <tr>\n",
       "      <th>1</th>\n",
       "      <td>1</td>\n",
       "      <td>118.10209</td>\n",
       "      <td>205-46-9278</td>\n",
       "      <td>6.45407</td>\n",
       "      <td>79.22919</td>\n",
       "      <td>5.34025</td>\n",
       "      <td>1.60706</td>\n",
       "      <td>6.53048</td>\n",
       "      <td>7.30977</td>\n",
       "      <td>Diane Holt</td>\n",
       "      <td>8.65706</td>\n",
       "      <td>1.0</td>\n",
       "      <td>63.49068</td>\n",
       "      <td>9.35320</td>\n",
       "      <td>no</td>\n",
       "      <td>widowed</td>\n",
       "      <td>31.27623</td>\n",
       "      <td>9.27384</td>\n",
       "    </tr>\n",
       "    <tr>\n",
       "      <th>2</th>\n",
       "      <td>2</td>\n",
       "      <td>89.97897</td>\n",
       "      <td>507-12-0831</td>\n",
       "      <td>9.73090</td>\n",
       "      <td>17.97254</td>\n",
       "      <td>9.49744</td>\n",
       "      <td>1.75153</td>\n",
       "      <td>5.96430</td>\n",
       "      <td>8.02289</td>\n",
       "      <td>David Bryant MD</td>\n",
       "      <td>7.46431</td>\n",
       "      <td>1.0</td>\n",
       "      <td>66.64176</td>\n",
       "      <td>7.36311</td>\n",
       "      <td>no</td>\n",
       "      <td>nop</td>\n",
       "      <td>52.03928</td>\n",
       "      <td>8.18942</td>\n",
       "    </tr>\n",
       "    <tr>\n",
       "      <th>3</th>\n",
       "      <td>3</td>\n",
       "      <td>137.89307</td>\n",
       "      <td>328-79-8098</td>\n",
       "      <td>8.65753</td>\n",
       "      <td>19.63713</td>\n",
       "      <td>8.90814</td>\n",
       "      <td>5.80869</td>\n",
       "      <td>8.47758</td>\n",
       "      <td>7.37768</td>\n",
       "      <td>Joshua Hickman</td>\n",
       "      <td>9.15039</td>\n",
       "      <td>1.0</td>\n",
       "      <td>62.03448</td>\n",
       "      <td>6.50476</td>\n",
       "      <td>no</td>\n",
       "      <td>single</td>\n",
       "      <td>63.20161</td>\n",
       "      <td>6.22091</td>\n",
       "    </tr>\n",
       "    <tr>\n",
       "      <th>4</th>\n",
       "      <td>4</td>\n",
       "      <td>95.55653</td>\n",
       "      <td>307-37-5739</td>\n",
       "      <td>5.96644</td>\n",
       "      <td>82.63100</td>\n",
       "      <td>6.84092</td>\n",
       "      <td>3.16471</td>\n",
       "      <td>7.38053</td>\n",
       "      <td>8.07490</td>\n",
       "      <td>Frank Glover</td>\n",
       "      <td>9.55976</td>\n",
       "      <td>1.0</td>\n",
       "      <td>79.48715</td>\n",
       "      <td>9.45322</td>\n",
       "      <td>N</td>\n",
       "      <td>married</td>\n",
       "      <td>28.53852</td>\n",
       "      <td>7.38761</td>\n",
       "    </tr>\n",
       "  </tbody>\n",
       "</table>\n",
       "</div>"
      ],
      "text/plain": [
       "   Unnamed: 0     weight          ssn  hemoglobin       alp    etytr      alt  \\\n",
       "0           0   12.35740  803-27-3974     5.94182  86.80991  7.12559  2.18482   \n",
       "1           1  118.10209  205-46-9278     6.45407  79.22919  5.34025  1.60706   \n",
       "2           2   89.97897  507-12-0831     9.73090  17.97254  9.49744  1.75153   \n",
       "3           3  137.89307  328-79-8098     8.65753  19.63713  8.90814  5.80869   \n",
       "4           4   95.55653  307-37-5739     5.96644  82.63100  6.84092  3.16471   \n",
       "\n",
       "   erytrocyty    hbver             name  hematokrit  indicator     er-cv  \\\n",
       "0     7.53345  7.51373  Kayla Rodriguez     6.98497        1.0  57.08422   \n",
       "1     6.53048  7.30977       Diane Holt     8.65706        1.0  63.49068   \n",
       "2     5.96430  8.02289  David Bryant MD     7.46431        1.0  66.64176   \n",
       "3     8.47758  7.37768   Joshua Hickman     9.15039        1.0  62.03448   \n",
       "4     7.38053  8.07490     Frank Glover     9.55976        1.0  79.48715   \n",
       "\n",
       "   leukocyty smoker relationship       ast  trombocyty  \n",
       "0    7.21726      Y      married  77.99546     7.98017  \n",
       "1    9.35320     no      widowed  31.27623     9.27384  \n",
       "2    7.36311     no          nop  52.03928     8.18942  \n",
       "3    6.50476     no       single  63.20161     6.22091  \n",
       "4    9.45322      N      married  28.53852     7.38761  "
      ]
     },
     "metadata": {},
     "execution_count": 3
    }
   ],
   "metadata": {}
  },
  {
   "cell_type": "code",
   "execution_count": 4,
   "source": [
    "filename_profiles = \"046/profiles.csv\"\r\n",
    "profiles = pd.read_csv(filename_profiles, sep='\\t')\r\n",
    "profiles.head()"
   ],
   "outputs": [
    {
     "output_type": "execute_result",
     "data": {
      "text/html": [
       "<div>\n",
       "<style scoped>\n",
       "    .dataframe tbody tr th:only-of-type {\n",
       "        vertical-align: middle;\n",
       "    }\n",
       "\n",
       "    .dataframe tbody tr th {\n",
       "        vertical-align: top;\n",
       "    }\n",
       "\n",
       "    .dataframe thead th {\n",
       "        text-align: right;\n",
       "    }\n",
       "</style>\n",
       "<table border=\"1\" class=\"dataframe\">\n",
       "  <thead>\n",
       "    <tr style=\"text-align: right;\">\n",
       "      <th></th>\n",
       "      <th>Unnamed: 0</th>\n",
       "      <th>race</th>\n",
       "      <th>residence</th>\n",
       "      <th>job</th>\n",
       "      <th>birthdate</th>\n",
       "      <th>company</th>\n",
       "      <th>blood_group</th>\n",
       "      <th>sex</th>\n",
       "      <th>ssn</th>\n",
       "      <th>name</th>\n",
       "    </tr>\n",
       "  </thead>\n",
       "  <tbody>\n",
       "    <tr>\n",
       "      <th>0</th>\n",
       "      <td>0</td>\n",
       "      <td>White</td>\n",
       "      <td>108 Pham Loaf\\r\\nNew Shelby, IN 31526</td>\n",
       "      <td>Magazine features editor</td>\n",
       "      <td>2007/09/11</td>\n",
       "      <td>Reynolds, Stewart and Tanner</td>\n",
       "      <td>O+</td>\n",
       "      <td>F</td>\n",
       "      <td>087-49-2961</td>\n",
       "      <td>Laura Valentine</td>\n",
       "    </tr>\n",
       "    <tr>\n",
       "      <th>1</th>\n",
       "      <td>1</td>\n",
       "      <td>Asian</td>\n",
       "      <td>2246 Tammy Cliffs Apt. 057\\r\\nNorth Kim, MI 55878</td>\n",
       "      <td>Investment banker, operational</td>\n",
       "      <td>1971/05/20</td>\n",
       "      <td>Mcdonald-White</td>\n",
       "      <td>A-</td>\n",
       "      <td>F</td>\n",
       "      <td>704-69-2733</td>\n",
       "      <td>Angela Sullivan</td>\n",
       "    </tr>\n",
       "    <tr>\n",
       "      <th>2</th>\n",
       "      <td>2</td>\n",
       "      <td>White</td>\n",
       "      <td>12245 Maxwell Island\\r\\nNorth Benjamin, KY 38697</td>\n",
       "      <td>Charity fundraiser</td>\n",
       "      <td>09 Oct 1945</td>\n",
       "      <td>Waters, Davis and Mcintyre</td>\n",
       "      <td>AB+</td>\n",
       "      <td>F</td>\n",
       "      <td>787-12-1516</td>\n",
       "      <td>Haley Ramirez</td>\n",
       "    </tr>\n",
       "    <tr>\n",
       "      <th>3</th>\n",
       "      <td>3</td>\n",
       "      <td>White</td>\n",
       "      <td>17000 Saunders Circles Apt. 457\\r\\nDonaldhaven...</td>\n",
       "      <td>Engineer, production</td>\n",
       "      <td>04/25/2006, 00:00:00</td>\n",
       "      <td>Watson and Sons</td>\n",
       "      <td>A+</td>\n",
       "      <td>F</td>\n",
       "      <td>127-86-0135</td>\n",
       "      <td>Mary Harris</td>\n",
       "    </tr>\n",
       "    <tr>\n",
       "      <th>4</th>\n",
       "      <td>4</td>\n",
       "      <td>Hawaiian</td>\n",
       "      <td>43712 Andrea Expressway\\r\\nNorth Mckenzie, AZ ...</td>\n",
       "      <td>IT consultant</td>\n",
       "      <td>1936-03-01</td>\n",
       "      <td>Alvarez PLC</td>\n",
       "      <td>B+</td>\n",
       "      <td>M</td>\n",
       "      <td>875-46-1555</td>\n",
       "      <td>Jeremy James</td>\n",
       "    </tr>\n",
       "  </tbody>\n",
       "</table>\n",
       "</div>"
      ],
      "text/plain": [
       "   Unnamed: 0      race                                          residence  \\\n",
       "0           0     White              108 Pham Loaf\\r\\nNew Shelby, IN 31526   \n",
       "1           1     Asian  2246 Tammy Cliffs Apt. 057\\r\\nNorth Kim, MI 55878   \n",
       "2           2     White   12245 Maxwell Island\\r\\nNorth Benjamin, KY 38697   \n",
       "3           3     White  17000 Saunders Circles Apt. 457\\r\\nDonaldhaven...   \n",
       "4           4  Hawaiian  43712 Andrea Expressway\\r\\nNorth Mckenzie, AZ ...   \n",
       "\n",
       "                              job             birthdate  \\\n",
       "0        Magazine features editor            2007/09/11   \n",
       "1  Investment banker, operational            1971/05/20   \n",
       "2              Charity fundraiser           09 Oct 1945   \n",
       "3            Engineer, production  04/25/2006, 00:00:00   \n",
       "4                   IT consultant            1936-03-01   \n",
       "\n",
       "                        company blood_group sex          ssn             name  \n",
       "0  Reynolds, Stewart and Tanner          O+   F  087-49-2961  Laura Valentine  \n",
       "1                Mcdonald-White          A-   F  704-69-2733  Angela Sullivan  \n",
       "2    Waters, Davis and Mcintyre         AB+   F  787-12-1516    Haley Ramirez  \n",
       "3               Watson and Sons          A+   F  127-86-0135      Mary Harris  \n",
       "4                   Alvarez PLC          B+   M  875-46-1555     Jeremy James  "
      ]
     },
     "metadata": {},
     "execution_count": 4
    }
   ],
   "metadata": {}
  },
  {
   "cell_type": "markdown",
   "source": [
    "### 1. Základný opis dát spolu s ich charakteristikami (5 bodov)\r\n",
    "\r\n",
    "* Pre dosiahnutie plného počtu bodov uveďte\r\n",
    "* počet záznamov,\r\n",
    "* počet atribútov,\r\n",
    "* ich typy,\r\n",
    "* pre zvolené významné atribúty ich distribúcie, základné deskriptívne štatistiky a pod."
   ],
   "metadata": {}
  },
  {
   "cell_type": "markdown",
   "source": [
    "#### DATASET labor.csv"
   ],
   "metadata": {}
  },
  {
   "cell_type": "code",
   "execution_count": 11,
   "source": [
    "labor.info()"
   ],
   "outputs": [
    {
     "output_type": "stream",
     "name": "stdout",
     "text": [
      "<class 'pandas.core.frame.DataFrame'>\n",
      "RangeIndex: 10002 entries, 0 to 10001\n",
      "Data columns (total 18 columns):\n",
      " #   Column        Non-Null Count  Dtype  \n",
      "---  ------        --------------  -----  \n",
      " 0   Unnamed: 0    10002 non-null  int64  \n",
      " 1   weight        10002 non-null  float64\n",
      " 2   ssn           10002 non-null  object \n",
      " 3   hemoglobin    9972 non-null   float64\n",
      " 4   alp           9972 non-null   float64\n",
      " 5   etytr         9972 non-null   float64\n",
      " 6   alt           9971 non-null   float64\n",
      " 7   erytrocyty    9972 non-null   float64\n",
      " 8   hbver         9972 non-null   float64\n",
      " 9   name          10002 non-null  object \n",
      " 10  hematokrit    9972 non-null   float64\n",
      " 11  indicator     10002 non-null  float64\n",
      " 12  er-cv         9972 non-null   float64\n",
      " 13  leukocyty     9972 non-null   float64\n",
      " 14  smoker        10002 non-null  object \n",
      " 15  relationship  10002 non-null  object \n",
      " 16  ast           9972 non-null   float64\n",
      " 17  trombocyty    9972 non-null   float64\n",
      "dtypes: float64(13), int64(1), object(4)\n",
      "memory usage: 1.4+ MB\n"
     ]
    }
   ],
   "metadata": {}
  },
  {
   "cell_type": "markdown",
   "source": [
    "Pomocou tohto výpisu sa dajú zistiť všetky potrebné informácie:\r\n",
    "\r\n",
    "- Počet záznamov (2. riadok): 10002 (0 - 10001)\r\n",
    "\r\n",
    "- Počet atribútov (3. riadok): 18 (0 - 17)\r\n",
    "\r\n",
    "- Typy atribútov (4. stĺpec v tabuľke): int64, float64, object\r\n",
    "\r\n",
    "Okrem iného sa dá z toho vyčítať, že všetky hodnoty, ktoré nie sú typ číslo (int64, float64) nie sú žiadne, teda NaN hodnoty. Preto všetky záznamy patria nejakým osobám."
   ],
   "metadata": {}
  },
  {
   "cell_type": "markdown",
   "source": [
    "##### Deskriptívna štatistika\r\n",
    "\r\n",
    "Podľa vypísaných dát je možné vidieť, že úplne prvý nemenovaný atribút je len na označenie, očíslovanie.\r\n"
   ],
   "metadata": {}
  },
  {
   "cell_type": "code",
   "execution_count": 122,
   "source": [
    "labor.duplicated().any()"
   ],
   "outputs": [
    {
     "output_type": "execute_result",
     "data": {
      "text/plain": [
       "False"
      ]
     },
     "metadata": {},
     "execution_count": 122
    }
   ],
   "metadata": {}
  },
  {
   "cell_type": "markdown",
   "source": [
    "V dátach sa nenachádzajú duplicitné záznamy.\r\n",
    "\r\n",
    "###### Kategorické atribúty\r\n",
    "\r\n",
    "Ďalší zaujímavý atribút je ssn. Ide o Social Security Number (SSN), ktoré sa používa podobne ako u nás číslo občianského preukazu, čiže ide len o administratívny údaj."
   ],
   "metadata": {}
  },
  {
   "cell_type": "markdown",
   "source": [
    "Teraz sa idem pozrieť na ostatné atribúty typu object a ich hodnoty."
   ],
   "metadata": {}
  },
  {
   "cell_type": "code",
   "execution_count": 14,
   "source": [
    "labor['smoker'].value_counts()"
   ],
   "outputs": [
    {
     "output_type": "execute_result",
     "data": {
      "text/plain": [
       "no     5497\n",
       "yes    2093\n",
       "Y      1917\n",
       "N       495\n",
       "Name: smoker, dtype: int64"
      ]
     },
     "metadata": {},
     "execution_count": 14
    }
   ],
   "metadata": {}
  },
  {
   "cell_type": "markdown",
   "source": [
    "Hoci atribút 'smoker' je dopytovací, hodnoty sú štyri. Je pravdepodobné, že ide o označenie tých istých odovedí rôznym spôsobom, preto môžem zlúčiť hodnoty 'yes' s 'Y' a 'no' s 'N'."
   ],
   "metadata": {}
  },
  {
   "cell_type": "code",
   "execution_count": 17,
   "source": [
    "labor.loc[(labor.smoker == 'Y'),'smoker']='yes'"
   ],
   "outputs": [],
   "metadata": {}
  },
  {
   "cell_type": "code",
   "execution_count": 19,
   "source": [
    "labor.loc[(labor.smoker == 'N'),'smoker']='no'"
   ],
   "outputs": [],
   "metadata": {}
  },
  {
   "cell_type": "code",
   "execution_count": 20,
   "source": [
    "labor['smoker'].value_counts()"
   ],
   "outputs": [
    {
     "output_type": "execute_result",
     "data": {
      "text/plain": [
       "no     5992\n",
       "yes    4010\n",
       "Name: smoker, dtype: int64"
      ]
     },
     "metadata": {},
     "execution_count": 20
    }
   ],
   "metadata": {}
  },
  {
   "cell_type": "code",
   "execution_count": 39,
   "source": [
    "labor['smoker'].value_counts().plot(kind='pie')"
   ],
   "outputs": [
    {
     "output_type": "execute_result",
     "data": {
      "text/plain": [
       "<AxesSubplot:ylabel='smoker'>"
      ]
     },
     "metadata": {},
     "execution_count": 39
    },
    {
     "output_type": "display_data",
     "data": {
      "image/png": "[encoded data removed]",
      "text/plain": [
       "<Figure size 432x288 with 1 Axes>"
      ]
     },
     "metadata": {}
    }
   ],
   "metadata": {}
  },
  {
   "cell_type": "code",
   "execution_count": 21,
   "source": [
    "labor['relationship'].value_counts()"
   ],
   "outputs": [
    {
     "output_type": "execute_result",
     "data": {
      "text/plain": [
       "divoced      2523\n",
       "married      2474\n",
       "single       2028\n",
       "nop          1017\n",
       "widowed       982\n",
       "separated     978\n",
       "Name: relationship, dtype: int64"
      ]
     },
     "metadata": {},
     "execution_count": 21
    }
   ],
   "metadata": {}
  },
  {
   "cell_type": "markdown",
   "source": [
    "Atribút 'relationship' neobsahuje žiadne NaN hodnoty alebo nejednoznačné typy hodnôt."
   ],
   "metadata": {}
  },
  {
   "cell_type": "code",
   "execution_count": 71,
   "source": [
    "labor['relationship'].value_counts().plot(kind='bar')"
   ],
   "outputs": [
    {
     "output_type": "execute_result",
     "data": {
      "text/plain": [
       "<AxesSubplot:>"
      ]
     },
     "metadata": {},
     "execution_count": 71
    },
    {
     "output_type": "display_data",
     "data": {
      "image/png": "[encoded data removed]",
      "text/plain": [
       "<Figure size 432x288 with 1 Axes>"
      ]
     },
     "metadata": {
      "needs_background": "light"
     }
    }
   ],
   "metadata": {}
  },
  {
   "cell_type": "markdown",
   "source": [
    "###### Numerické artibúty:"
   ],
   "metadata": {}
  },
  {
   "cell_type": "code",
   "execution_count": 23,
   "source": [
    "labor.describe()"
   ],
   "outputs": [
    {
     "output_type": "execute_result",
     "data": {
      "text/html": [
       "<div>\n",
       "<style scoped>\n",
       "    .dataframe tbody tr th:only-of-type {\n",
       "        vertical-align: middle;\n",
       "    }\n",
       "\n",
       "    .dataframe tbody tr th {\n",
       "        vertical-align: top;\n",
       "    }\n",
       "\n",
       "    .dataframe thead th {\n",
       "        text-align: right;\n",
       "    }\n",
       "</style>\n",
       "<table border=\"1\" class=\"dataframe\">\n",
       "  <thead>\n",
       "    <tr style=\"text-align: right;\">\n",
       "      <th></th>\n",
       "      <th>Unnamed: 0</th>\n",
       "      <th>weight</th>\n",
       "      <th>hemoglobin</th>\n",
       "      <th>alp</th>\n",
       "      <th>etytr</th>\n",
       "      <th>alt</th>\n",
       "      <th>erytrocyty</th>\n",
       "      <th>hbver</th>\n",
       "      <th>hematokrit</th>\n",
       "      <th>indicator</th>\n",
       "      <th>er-cv</th>\n",
       "      <th>leukocyty</th>\n",
       "      <th>ast</th>\n",
       "      <th>trombocyty</th>\n",
       "    </tr>\n",
       "  </thead>\n",
       "  <tbody>\n",
       "    <tr>\n",
       "      <th>count</th>\n",
       "      <td>10002.00000</td>\n",
       "      <td>10002.000000</td>\n",
       "      <td>9972.000000</td>\n",
       "      <td>9972.000000</td>\n",
       "      <td>9972.000000</td>\n",
       "      <td>9971.000000</td>\n",
       "      <td>9972.000000</td>\n",
       "      <td>9972.000000</td>\n",
       "      <td>9972.000000</td>\n",
       "      <td>10002.000000</td>\n",
       "      <td>9972.000000</td>\n",
       "      <td>9972.000000</td>\n",
       "      <td>9972.000000</td>\n",
       "      <td>9972.000000</td>\n",
       "    </tr>\n",
       "    <tr>\n",
       "      <th>mean</th>\n",
       "      <td>5000.50000</td>\n",
       "      <td>70.058861</td>\n",
       "      <td>7.605314</td>\n",
       "      <td>49.153497</td>\n",
       "      <td>7.199437</td>\n",
       "      <td>5.044637</td>\n",
       "      <td>7.617145</td>\n",
       "      <td>7.630895</td>\n",
       "      <td>8.399749</td>\n",
       "      <td>0.642172</td>\n",
       "      <td>52.472936</td>\n",
       "      <td>8.048166</td>\n",
       "      <td>48.112926</td>\n",
       "      <td>7.620192</td>\n",
       "    </tr>\n",
       "    <tr>\n",
       "      <th>std</th>\n",
       "      <td>2887.47303</td>\n",
       "      <td>34.958888</td>\n",
       "      <td>1.776103</td>\n",
       "      <td>26.764248</td>\n",
       "      <td>1.820026</td>\n",
       "      <td>5.034543</td>\n",
       "      <td>1.014691</td>\n",
       "      <td>0.998321</td>\n",
       "      <td>1.645404</td>\n",
       "      <td>0.479385</td>\n",
       "      <td>13.227003</td>\n",
       "      <td>1.437330</td>\n",
       "      <td>12.591762</td>\n",
       "      <td>1.023536</td>\n",
       "    </tr>\n",
       "    <tr>\n",
       "      <th>min</th>\n",
       "      <td>0.00000</td>\n",
       "      <td>-54.420260</td>\n",
       "      <td>1.094900</td>\n",
       "      <td>0.000000</td>\n",
       "      <td>0.000000</td>\n",
       "      <td>0.000000</td>\n",
       "      <td>3.748700</td>\n",
       "      <td>3.308740</td>\n",
       "      <td>2.638960</td>\n",
       "      <td>0.000000</td>\n",
       "      <td>0.000000</td>\n",
       "      <td>3.083190</td>\n",
       "      <td>0.000000</td>\n",
       "      <td>3.691730</td>\n",
       "    </tr>\n",
       "    <tr>\n",
       "      <th>25%</th>\n",
       "      <td>2500.25000</td>\n",
       "      <td>46.000222</td>\n",
       "      <td>6.312152</td>\n",
       "      <td>22.855040</td>\n",
       "      <td>5.915890</td>\n",
       "      <td>2.388415</td>\n",
       "      <td>6.939980</td>\n",
       "      <td>6.979278</td>\n",
       "      <td>7.311500</td>\n",
       "      <td>0.000000</td>\n",
       "      <td>43.539318</td>\n",
       "      <td>6.964645</td>\n",
       "      <td>39.480480</td>\n",
       "      <td>6.936850</td>\n",
       "    </tr>\n",
       "    <tr>\n",
       "      <th>50%</th>\n",
       "      <td>5000.50000</td>\n",
       "      <td>69.549650</td>\n",
       "      <td>7.696805</td>\n",
       "      <td>48.204640</td>\n",
       "      <td>7.213465</td>\n",
       "      <td>3.594600</td>\n",
       "      <td>7.625955</td>\n",
       "      <td>7.634975</td>\n",
       "      <td>8.468190</td>\n",
       "      <td>1.000000</td>\n",
       "      <td>52.512610</td>\n",
       "      <td>8.390985</td>\n",
       "      <td>48.209275</td>\n",
       "      <td>7.618780</td>\n",
       "    </tr>\n",
       "    <tr>\n",
       "      <th>75%</th>\n",
       "      <td>7500.75000</td>\n",
       "      <td>93.765605</td>\n",
       "      <td>8.926235</td>\n",
       "      <td>75.731703</td>\n",
       "      <td>8.536663</td>\n",
       "      <td>5.812480</td>\n",
       "      <td>8.299573</td>\n",
       "      <td>8.297892</td>\n",
       "      <td>9.556283</td>\n",
       "      <td>1.000000</td>\n",
       "      <td>61.322150</td>\n",
       "      <td>9.056192</td>\n",
       "      <td>56.575533</td>\n",
       "      <td>8.311490</td>\n",
       "    </tr>\n",
       "    <tr>\n",
       "      <th>max</th>\n",
       "      <td>10001.00000</td>\n",
       "      <td>196.504820</td>\n",
       "      <td>13.406460</td>\n",
       "      <td>100.000000</td>\n",
       "      <td>12.810620</td>\n",
       "      <td>100.000000</td>\n",
       "      <td>11.374090</td>\n",
       "      <td>11.543380</td>\n",
       "      <td>14.156900</td>\n",
       "      <td>1.000000</td>\n",
       "      <td>100.000000</td>\n",
       "      <td>12.962710</td>\n",
       "      <td>100.000000</td>\n",
       "      <td>11.523520</td>\n",
       "    </tr>\n",
       "  </tbody>\n",
       "</table>\n",
       "</div>"
      ],
      "text/plain": [
       "        Unnamed: 0        weight   hemoglobin          alp        etytr  \\\n",
       "count  10002.00000  10002.000000  9972.000000  9972.000000  9972.000000   \n",
       "mean    5000.50000     70.058861     7.605314    49.153497     7.199437   \n",
       "std     2887.47303     34.958888     1.776103    26.764248     1.820026   \n",
       "min        0.00000    -54.420260     1.094900     0.000000     0.000000   \n",
       "25%     2500.25000     46.000222     6.312152    22.855040     5.915890   \n",
       "50%     5000.50000     69.549650     7.696805    48.204640     7.213465   \n",
       "75%     7500.75000     93.765605     8.926235    75.731703     8.536663   \n",
       "max    10001.00000    196.504820    13.406460   100.000000    12.810620   \n",
       "\n",
       "               alt   erytrocyty        hbver   hematokrit     indicator  \\\n",
       "count  9971.000000  9972.000000  9972.000000  9972.000000  10002.000000   \n",
       "mean      5.044637     7.617145     7.630895     8.399749      0.642172   \n",
       "std       5.034543     1.014691     0.998321     1.645404      0.479385   \n",
       "min       0.000000     3.748700     3.308740     2.638960      0.000000   \n",
       "25%       2.388415     6.939980     6.979278     7.311500      0.000000   \n",
       "50%       3.594600     7.625955     7.634975     8.468190      1.000000   \n",
       "75%       5.812480     8.299573     8.297892     9.556283      1.000000   \n",
       "max     100.000000    11.374090    11.543380    14.156900      1.000000   \n",
       "\n",
       "             er-cv    leukocyty          ast   trombocyty  \n",
       "count  9972.000000  9972.000000  9972.000000  9972.000000  \n",
       "mean     52.472936     8.048166    48.112926     7.620192  \n",
       "std      13.227003     1.437330    12.591762     1.023536  \n",
       "min       0.000000     3.083190     0.000000     3.691730  \n",
       "25%      43.539318     6.964645    39.480480     6.936850  \n",
       "50%      52.512610     8.390985    48.209275     7.618780  \n",
       "75%      61.322150     9.056192    56.575533     8.311490  \n",
       "max     100.000000    12.962710   100.000000    11.523520  "
      ]
     },
     "metadata": {},
     "execution_count": 23
    }
   ],
   "metadata": {}
  },
  {
   "cell_type": "markdown",
   "source": [
    "##### aa\r\n",
    "###### 1. hmotnosť\r\n",
    "\r\n",
    "Podľa opisu numerických atribútov som si všimla hneď jednu zvláštnosť. Minimálna hmotnosť je záporné číslo, čo v reálnom svete nie je možné. Preto sa na atribút hmotnosti idem pozrieť."
   ],
   "metadata": {}
  },
  {
   "cell_type": "code",
   "execution_count": 45,
   "source": [
    "labor['weight'].plot.hist(bins=50)"
   ],
   "outputs": [
    {
     "output_type": "execute_result",
     "data": {
      "text/plain": [
       "<AxesSubplot:ylabel='Frequency'>"
      ]
     },
     "metadata": {},
     "execution_count": 45
    },
    {
     "output_type": "display_data",
     "data": {
      "image/png": "[encoded data removed]",
      "text/plain": [
       "<Figure size 432x288 with 1 Axes>"
      ]
     },
     "metadata": {
      "needs_background": "light"
     }
    }
   ],
   "metadata": {}
  },
  {
   "cell_type": "code",
   "execution_count": 46,
   "source": [
    "labor['weight'].plot.box()"
   ],
   "outputs": [
    {
     "output_type": "execute_result",
     "data": {
      "text/plain": [
       "<AxesSubplot:>"
      ]
     },
     "metadata": {},
     "execution_count": 46
    },
    {
     "output_type": "display_data",
     "data": {
      "image/png": "[encoded data removed]",
      "text/plain": [
       "<Figure size 432x288 with 1 Axes>"
      ]
     },
     "metadata": {
      "needs_background": "light"
     }
    }
   ],
   "metadata": {}
  },
  {
   "cell_type": "markdown",
   "source": [
    "Z tohto grafu je vidieť, že hmotnosť nie je uvedená vo všetkých záznamoch správne.\r\n",
    "\r\n",
    "\\* **nastaviť hodnoty na NaN??**"
   ],
   "metadata": {}
  },
  {
   "cell_type": "markdown",
   "source": [
    "###### 2. hemoglobin"
   ],
   "metadata": {}
  },
  {
   "cell_type": "code",
   "execution_count": 47,
   "source": [
    "labor['hemoglobin'].plot.hist(bins=50)"
   ],
   "outputs": [
    {
     "output_type": "execute_result",
     "data": {
      "text/plain": [
       "<AxesSubplot:ylabel='Frequency'>"
      ]
     },
     "metadata": {},
     "execution_count": 47
    },
    {
     "output_type": "display_data",
     "data": {
      "image/png": "[encoded data removed]",
      "text/plain": [
       "<Figure size 432x288 with 1 Axes>"
      ]
     },
     "metadata": {
      "needs_background": "light"
     }
    }
   ],
   "metadata": {}
  },
  {
   "cell_type": "code",
   "execution_count": 48,
   "source": [
    "labor['hemoglobin'].plot.box()"
   ],
   "outputs": [
    {
     "output_type": "execute_result",
     "data": {
      "text/plain": [
       "<AxesSubplot:>"
      ]
     },
     "metadata": {},
     "execution_count": 48
    },
    {
     "output_type": "display_data",
     "data": {
      "image/png": "[encoded data removed]",
      "text/plain": [
       "<Figure size 432x288 with 1 Axes>"
      ]
     },
     "metadata": {
      "needs_background": "light"
     }
    }
   ],
   "metadata": {}
  },
  {
   "cell_type": "markdown",
   "source": [
    "###### 3. alp"
   ],
   "metadata": {}
  },
  {
   "cell_type": "code",
   "execution_count": 49,
   "source": [
    "labor['alp'].plot.hist(bins=50)"
   ],
   "outputs": [
    {
     "output_type": "execute_result",
     "data": {
      "text/plain": [
       "<AxesSubplot:ylabel='Frequency'>"
      ]
     },
     "metadata": {},
     "execution_count": 49
    },
    {
     "output_type": "display_data",
     "data": {
      "image/png": "[encoded data removed]",
      "text/plain": [
       "<Figure size 432x288 with 1 Axes>"
      ]
     },
     "metadata": {
      "needs_background": "light"
     }
    }
   ],
   "metadata": {}
  },
  {
   "cell_type": "code",
   "execution_count": 59,
   "source": [
    "labor['alp'].plot.box()"
   ],
   "outputs": [
    {
     "output_type": "execute_result",
     "data": {
      "text/plain": [
       "<AxesSubplot:>"
      ]
     },
     "metadata": {},
     "execution_count": 59
    },
    {
     "output_type": "display_data",
     "data": {
      "image/png": "[encoded data removed]",
      "text/plain": [
       "<Figure size 432x288 with 1 Axes>"
      ]
     },
     "metadata": {
      "needs_background": "light"
     }
    }
   ],
   "metadata": {}
  },
  {
   "cell_type": "markdown",
   "source": [
    "###### 4. etytr"
   ],
   "metadata": {}
  },
  {
   "cell_type": "code",
   "execution_count": 50,
   "source": [
    "labor['etytr'].plot.hist(bins=50)"
   ],
   "outputs": [
    {
     "output_type": "execute_result",
     "data": {
      "text/plain": [
       "<AxesSubplot:ylabel='Frequency'>"
      ]
     },
     "metadata": {},
     "execution_count": 50
    },
    {
     "output_type": "display_data",
     "data": {
      "image/png": "[encoded data removed]",
      "text/plain": [
       "<Figure size 432x288 with 1 Axes>"
      ]
     },
     "metadata": {
      "needs_background": "light"
     }
    }
   ],
   "metadata": {}
  },
  {
   "cell_type": "code",
   "execution_count": 60,
   "source": [
    "labor['etytr'].plot.box()"
   ],
   "outputs": [
    {
     "output_type": "execute_result",
     "data": {
      "text/plain": [
       "<AxesSubplot:>"
      ]
     },
     "metadata": {},
     "execution_count": 60
    },
    {
     "output_type": "display_data",
     "data": {
      "image/png": "[encoded data removed]",
      "text/plain": [
       "<Figure size 432x288 with 1 Axes>"
      ]
     },
     "metadata": {
      "needs_background": "light"
     }
    }
   ],
   "metadata": {}
  },
  {
   "cell_type": "markdown",
   "source": [
    "###### 5.alt"
   ],
   "metadata": {}
  },
  {
   "cell_type": "code",
   "execution_count": 51,
   "source": [
    "labor['alt'].plot.hist(bins=50)"
   ],
   "outputs": [
    {
     "output_type": "execute_result",
     "data": {
      "text/plain": [
       "<AxesSubplot:ylabel='Frequency'>"
      ]
     },
     "metadata": {},
     "execution_count": 51
    },
    {
     "output_type": "display_data",
     "data": {
      "image/png": "[encoded data removed]",
      "text/plain": [
       "<Figure size 432x288 with 1 Axes>"
      ]
     },
     "metadata": {
      "needs_background": "light"
     }
    }
   ],
   "metadata": {}
  },
  {
   "cell_type": "code",
   "execution_count": 61,
   "source": [
    "labor['alt'].plot.box()"
   ],
   "outputs": [
    {
     "output_type": "execute_result",
     "data": {
      "text/plain": [
       "<AxesSubplot:>"
      ]
     },
     "metadata": {},
     "execution_count": 61
    },
    {
     "output_type": "display_data",
     "data": {
      "image/png": "[encoded data removed]",
      "text/plain": [
       "<Figure size 432x288 with 1 Axes>"
      ]
     },
     "metadata": {
      "needs_background": "light"
     }
    }
   ],
   "metadata": {}
  },
  {
   "cell_type": "markdown",
   "source": [
    "###### 6. erytrocyty"
   ],
   "metadata": {}
  },
  {
   "cell_type": "code",
   "execution_count": 52,
   "source": [
    "labor['erytrocyty'].plot.hist(bins=50)"
   ],
   "outputs": [
    {
     "output_type": "execute_result",
     "data": {
      "text/plain": [
       "<AxesSubplot:ylabel='Frequency'>"
      ]
     },
     "metadata": {},
     "execution_count": 52
    },
    {
     "output_type": "display_data",
     "data": {
      "image/png": "[encoded data removed]",
      "text/plain": [
       "<Figure size 432x288 with 1 Axes>"
      ]
     },
     "metadata": {
      "needs_background": "light"
     }
    }
   ],
   "metadata": {}
  },
  {
   "cell_type": "code",
   "execution_count": 62,
   "source": [
    "labor['erytrocyty'].plot.box()"
   ],
   "outputs": [
    {
     "output_type": "execute_result",
     "data": {
      "text/plain": [
       "<AxesSubplot:>"
      ]
     },
     "metadata": {},
     "execution_count": 62
    },
    {
     "output_type": "display_data",
     "data": {
      "image/png": "[encoded data removed]",
      "text/plain": [
       "<Figure size 432x288 with 1 Axes>"
      ]
     },
     "metadata": {
      "needs_background": "light"
     }
    }
   ],
   "metadata": {}
  },
  {
   "cell_type": "markdown",
   "source": [
    "###### 7.hbver"
   ],
   "metadata": {}
  },
  {
   "cell_type": "code",
   "execution_count": 53,
   "source": [
    "labor['hbver'].plot.hist(bins=50)"
   ],
   "outputs": [
    {
     "output_type": "execute_result",
     "data": {
      "text/plain": [
       "<AxesSubplot:ylabel='Frequency'>"
      ]
     },
     "metadata": {},
     "execution_count": 53
    },
    {
     "output_type": "display_data",
     "data": {
      "image/png": "[encoded data removed]",
      "text/plain": [
       "<Figure size 432x288 with 1 Axes>"
      ]
     },
     "metadata": {
      "needs_background": "light"
     }
    }
   ],
   "metadata": {}
  },
  {
   "cell_type": "code",
   "execution_count": 63,
   "source": [
    "labor['hbver'].plot.box()"
   ],
   "outputs": [
    {
     "output_type": "execute_result",
     "data": {
      "text/plain": [
       "<AxesSubplot:>"
      ]
     },
     "metadata": {},
     "execution_count": 63
    },
    {
     "output_type": "display_data",
     "data": {
      "image/png": "[encoded data removed]",
      "text/plain": [
       "<Figure size 432x288 with 1 Axes>"
      ]
     },
     "metadata": {
      "needs_background": "light"
     }
    }
   ],
   "metadata": {}
  },
  {
   "cell_type": "markdown",
   "source": [
    "###### 8. hematokryt"
   ],
   "metadata": {}
  },
  {
   "cell_type": "code",
   "execution_count": 54,
   "source": [
    "labor['hematokrit'].plot.hist(bins=50)"
   ],
   "outputs": [
    {
     "output_type": "execute_result",
     "data": {
      "text/plain": [
       "<AxesSubplot:ylabel='Frequency'>"
      ]
     },
     "metadata": {},
     "execution_count": 54
    },
    {
     "output_type": "display_data",
     "data": {
      "image/png": "[encoded data removed]",
      "text/plain": [
       "<Figure size 432x288 with 1 Axes>"
      ]
     },
     "metadata": {
      "needs_background": "light"
     }
    }
   ],
   "metadata": {}
  },
  {
   "cell_type": "code",
   "execution_count": 64,
   "source": [
    "labor['hematokrit'].plot.box()"
   ],
   "outputs": [
    {
     "output_type": "execute_result",
     "data": {
      "text/plain": [
       "<AxesSubplot:>"
      ]
     },
     "metadata": {},
     "execution_count": 64
    },
    {
     "output_type": "display_data",
     "data": {
      "image/png": "[encoded data removed]",
      "text/plain": [
       "<Figure size 432x288 with 1 Axes>"
      ]
     },
     "metadata": {
      "needs_background": "light"
     }
    }
   ],
   "metadata": {}
  },
  {
   "cell_type": "markdown",
   "source": [
    "###### 9. indicator"
   ],
   "metadata": {}
  },
  {
   "cell_type": "code",
   "execution_count": 55,
   "source": [
    "labor['indicator'].plot.hist(bins=50)"
   ],
   "outputs": [
    {
     "output_type": "execute_result",
     "data": {
      "text/plain": [
       "<AxesSubplot:ylabel='Frequency'>"
      ]
     },
     "metadata": {},
     "execution_count": 55
    },
    {
     "output_type": "display_data",
     "data": {
      "image/png": "[encoded data removed]",
      "text/plain": [
       "<Figure size 432x288 with 1 Axes>"
      ]
     },
     "metadata": {
      "needs_background": "light"
     }
    }
   ],
   "metadata": {}
  },
  {
   "cell_type": "code",
   "execution_count": 65,
   "source": [
    "labor['indicator'].plot.box()"
   ],
   "outputs": [
    {
     "output_type": "execute_result",
     "data": {
      "text/plain": [
       "<AxesSubplot:>"
      ]
     },
     "metadata": {},
     "execution_count": 65
    },
    {
     "output_type": "display_data",
     "data": {
      "image/png": "[encoded data removed]",
      "text/plain": [
       "<Figure size 432x288 with 1 Axes>"
      ]
     },
     "metadata": {
      "needs_background": "light"
     }
    }
   ],
   "metadata": {}
  },
  {
   "cell_type": "markdown",
   "source": [
    "Tento atribút je špecialný, lebo zjavne nadobúda iba dve hodnoty."
   ],
   "metadata": {}
  },
  {
   "cell_type": "markdown",
   "source": [
    "###### 10. leukocyty"
   ],
   "metadata": {}
  },
  {
   "cell_type": "code",
   "execution_count": 56,
   "source": [
    "labor['leukocyty'].plot.hist(bins=50)"
   ],
   "outputs": [
    {
     "output_type": "execute_result",
     "data": {
      "text/plain": [
       "<AxesSubplot:ylabel='Frequency'>"
      ]
     },
     "metadata": {},
     "execution_count": 56
    },
    {
     "output_type": "display_data",
     "data": {
      "image/png": "[encoded data removed]",
      "text/plain": [
       "<Figure size 432x288 with 1 Axes>"
      ]
     },
     "metadata": {
      "needs_background": "light"
     }
    }
   ],
   "metadata": {}
  },
  {
   "cell_type": "code",
   "execution_count": 66,
   "source": [
    "labor['leukocyty'].plot.box()"
   ],
   "outputs": [
    {
     "output_type": "execute_result",
     "data": {
      "text/plain": [
       "<AxesSubplot:>"
      ]
     },
     "metadata": {},
     "execution_count": 66
    },
    {
     "output_type": "display_data",
     "data": {
      "image/png": "[encoded data removed]",
      "text/plain": [
       "<Figure size 432x288 with 1 Axes>"
      ]
     },
     "metadata": {
      "needs_background": "light"
     }
    }
   ],
   "metadata": {}
  },
  {
   "cell_type": "markdown",
   "source": [
    "######  11. ast"
   ],
   "metadata": {}
  },
  {
   "cell_type": "code",
   "execution_count": 57,
   "source": [
    "labor['ast'].plot.hist(bins=50)"
   ],
   "outputs": [
    {
     "output_type": "execute_result",
     "data": {
      "text/plain": [
       "<AxesSubplot:ylabel='Frequency'>"
      ]
     },
     "metadata": {},
     "execution_count": 57
    },
    {
     "output_type": "display_data",
     "data": {
      "image/png": "[encoded data removed]",
      "text/plain": [
       "<Figure size 432x288 with 1 Axes>"
      ]
     },
     "metadata": {
      "needs_background": "light"
     }
    }
   ],
   "metadata": {}
  },
  {
   "cell_type": "code",
   "execution_count": 67,
   "source": [
    "labor['ast'].plot.box()"
   ],
   "outputs": [
    {
     "output_type": "execute_result",
     "data": {
      "text/plain": [
       "<AxesSubplot:>"
      ]
     },
     "metadata": {},
     "execution_count": 67
    },
    {
     "output_type": "display_data",
     "data": {
      "image/png": "[encoded data removed]",
      "text/plain": [
       "<Figure size 432x288 with 1 Axes>"
      ]
     },
     "metadata": {
      "needs_background": "light"
     }
    }
   ],
   "metadata": {}
  },
  {
   "cell_type": "markdown",
   "source": [
    "###### 12. trombocyty"
   ],
   "metadata": {}
  },
  {
   "cell_type": "code",
   "execution_count": 58,
   "source": [
    "labor['trombocyty'].plot.hist(bins=50)"
   ],
   "outputs": [
    {
     "output_type": "execute_result",
     "data": {
      "text/plain": [
       "<AxesSubplot:ylabel='Frequency'>"
      ]
     },
     "metadata": {},
     "execution_count": 58
    },
    {
     "output_type": "display_data",
     "data": {
      "image/png": "[encoded data removed]",
      "text/plain": [
       "<Figure size 432x288 with 1 Axes>"
      ]
     },
     "metadata": {
      "needs_background": "light"
     }
    }
   ],
   "metadata": {}
  },
  {
   "cell_type": "code",
   "execution_count": 68,
   "source": [
    "labor['trombocyty'].plot.box()"
   ],
   "outputs": [
    {
     "output_type": "execute_result",
     "data": {
      "text/plain": [
       "<AxesSubplot:>"
      ]
     },
     "metadata": {},
     "execution_count": 68
    },
    {
     "output_type": "display_data",
     "data": {
      "image/png": "[encoded data removed]",
      "text/plain": [
       "<Figure size 432x288 with 1 Axes>"
      ]
     },
     "metadata": {
      "needs_background": "light"
     }
    }
   ],
   "metadata": {}
  },
  {
   "cell_type": "markdown",
   "source": [
    "#### DATASET profiles.csv"
   ],
   "metadata": {}
  },
  {
   "cell_type": "code",
   "execution_count": 25,
   "source": [
    "profiles.info()"
   ],
   "outputs": [
    {
     "output_type": "stream",
     "name": "stdout",
     "text": [
      "<class 'pandas.core.frame.DataFrame'>\n",
      "RangeIndex: 3097 entries, 0 to 3096\n",
      "Data columns (total 10 columns):\n",
      " #   Column       Non-Null Count  Dtype \n",
      "---  ------       --------------  ----- \n",
      " 0   Unnamed: 0   3097 non-null   int64 \n",
      " 1   race         3097 non-null   object\n",
      " 2   residence    3097 non-null   object\n",
      " 3   job          3097 non-null   object\n",
      " 4   birthdate    3097 non-null   object\n",
      " 5   company      3097 non-null   object\n",
      " 6   blood_group  3097 non-null   object\n",
      " 7   sex          3097 non-null   object\n",
      " 8   ssn          3097 non-null   object\n",
      " 9   name         3097 non-null   object\n",
      "dtypes: int64(1), object(9)\n",
      "memory usage: 242.1+ KB\n"
     ]
    }
   ],
   "metadata": {}
  },
  {
   "cell_type": "markdown",
   "source": [
    "Pomocou tohto výpisu sa dajú zistiť všetky potrebné informácie:\r\n",
    "\r\n",
    "- Počet záznamov (2. riadok): 3097 (0 - 3096)\r\n",
    "\r\n",
    "- Počet atribútov (3. riadok): 10 (0 - 9)\r\n",
    "\r\n",
    "- Typy atribútov (4. stĺpec v tabuľke): int64, object\r\n",
    "\r\n",
    "Okrem iného sa dá z toho vyčítať, že všetky zápisy nemajú žiadne NaN hodnoty, lebo počet všetkých záznamov sa rovná počtu hodnôt pre každý atribút"
   ],
   "metadata": {}
  },
  {
   "cell_type": "code",
   "execution_count": 123,
   "source": [
    "profiles.duplicated().any()"
   ],
   "outputs": [
    {
     "output_type": "execute_result",
     "data": {
      "text/plain": [
       "False"
      ]
     },
     "metadata": {},
     "execution_count": 123
    }
   ],
   "metadata": {}
  },
  {
   "cell_type": "markdown",
   "source": [
    "To znamená, že v dátach nie sú žiadne duplicitné záznamy."
   ],
   "metadata": {}
  },
  {
   "cell_type": "markdown",
   "source": [
    "##### Deskriptívna štatistika\r\n",
    "\r\n",
    "Podľa vypísaných dát v zadaní je možné vidieť, že úplne prvý nemenovaný atribút je len na označenie, očíslovanie.\r\n",
    "\r\n",
    "\r\n",
    "###### Kategorické atribúty"
   ],
   "metadata": {}
  },
  {
   "cell_type": "markdown",
   "source": [
    "##### bb"
   ],
   "metadata": {}
  },
  {
   "cell_type": "markdown",
   "source": [
    "###### 1. race"
   ],
   "metadata": {}
  },
  {
   "cell_type": "code",
   "execution_count": 72,
   "source": [
    "profiles['race'].value_counts()"
   ],
   "outputs": [
    {
     "output_type": "execute_result",
     "data": {
      "text/plain": [
       "White       1576\n",
       "Black        780\n",
       "Asian        296\n",
       "Hawaiian     152\n",
       "Indian       135\n",
       "black         93\n",
       "white         33\n",
       "blsck         32\n",
       "Name: race, dtype: int64"
      ]
     },
     "metadata": {},
     "execution_count": 72
    }
   ],
   "metadata": {}
  },
  {
   "cell_type": "markdown",
   "source": [
    "Tento atribút obsahuje nejednotné formáty: White - white, Black - black, blsck (zjavne ide iba o preklep pri písaní)."
   ],
   "metadata": {}
  },
  {
   "cell_type": "code",
   "execution_count": 80,
   "source": [
    "profiles.loc[profiles['race'] == 'white', 'race'] = 'White'"
   ],
   "outputs": [],
   "metadata": {}
  },
  {
   "cell_type": "code",
   "execution_count": 79,
   "source": [
    "profiles.loc[(profiles['race'] == 'black') | (profiles['race'] =='blsck'), 'race'] = 'Black'"
   ],
   "outputs": [],
   "metadata": {}
  },
  {
   "cell_type": "code",
   "execution_count": 82,
   "source": [
    "profiles['race'].value_counts().plot(kind='bar')"
   ],
   "outputs": [
    {
     "output_type": "execute_result",
     "data": {
      "text/plain": [
       "<AxesSubplot:>"
      ]
     },
     "metadata": {},
     "execution_count": 82
    },
    {
     "output_type": "display_data",
     "data": {
      "image/png": "[encoded data removed]",
      "text/plain": [
       "<Figure size 432x288 with 1 Axes>"
      ]
     },
     "metadata": {
      "needs_background": "light"
     }
    }
   ],
   "metadata": {}
  },
  {
   "cell_type": "markdown",
   "source": [
    "###### 2. residence"
   ],
   "metadata": {}
  },
  {
   "cell_type": "code",
   "execution_count": 83,
   "source": [
    "profiles['residence'].value_counts()"
   ],
   "outputs": [
    {
     "output_type": "execute_result",
     "data": {
      "text/plain": [
       "108 Pham Loaf\\r\\nNew Shelby, IN 31526                          1\n",
       "USNS Gibson\\r\\nFPO AE 09764                                    1\n",
       "40320 Arnold Trail Apt. 961\\r\\nWest Thomasside, DC 80884       1\n",
       "193 Susan Extension Suite 716\\r\\nLake Heatherbury, MN 20055    1\n",
       "339 Nixon Glens Apt. 350\\r\\nLake Jacqueline, CO 89469          1\n",
       "                                                              ..\n",
       "4975 Goodman Cliff\\r\\nGrayburgh, WV 54968                      1\n",
       "837 Lisa River\\r\\nLewisfort, NE 65967                          1\n",
       "54789 John Inlet Apt. 939\\r\\nEricksonview, MN 38512            1\n",
       "312 Dennis Keys Apt. 338\\r\\nLake Leslie, WA 15189              1\n",
       "601 Lawrence Parks\\r\\nLisachester, NM 26942                    1\n",
       "Name: residence, Length: 3097, dtype: int64"
      ]
     },
     "metadata": {},
     "execution_count": 83
    }
   ],
   "metadata": {}
  },
  {
   "cell_type": "markdown",
   "source": [
    "###### 3. job"
   ],
   "metadata": {}
  },
  {
   "cell_type": "code",
   "execution_count": 102,
   "source": [
    "profiles['job'].value_counts()"
   ],
   "outputs": [
    {
     "output_type": "execute_result",
     "data": {
      "text/plain": [
       "Environmental consultant       12\n",
       "Engineer, drilling             12\n",
       "Secretary, company             12\n",
       "Actor                          11\n",
       "Merchant navy officer          11\n",
       "                               ..\n",
       "Nature conservation officer     1\n",
       "Buyer, retail                   1\n",
       "Child psychotherapist           1\n",
       "Retail manager                  1\n",
       "Music tutor                     1\n",
       "Name: job, Length: 630, dtype: int64"
      ]
     },
     "metadata": {},
     "execution_count": 102
    }
   ],
   "metadata": {}
  },
  {
   "cell_type": "markdown",
   "source": [
    "###### 4. birthday"
   ],
   "metadata": {}
  },
  {
   "cell_type": "code",
   "execution_count": 103,
   "source": [
    "profiles['birthdate'].value_counts()"
   ],
   "outputs": [
    {
     "output_type": "execute_result",
     "data": {
      "text/plain": [
       "01/14/1908, 00:00:00    2\n",
       "02/04/1968, 00:00:00    2\n",
       "1927-08-28              2\n",
       "03/16/1970, 00:00:00    2\n",
       "1970/10/19              2\n",
       "                       ..\n",
       "1983/04/16              1\n",
       "10 Dec 1956             1\n",
       "09 Dec 1981             1\n",
       "1946/11/15              1\n",
       "07/16/1922, 00:00:00    1\n",
       "Name: birthdate, Length: 3058, dtype: int64"
      ]
     },
     "metadata": {},
     "execution_count": 103
    }
   ],
   "metadata": {}
  },
  {
   "cell_type": "markdown",
   "source": [
    "Už iba podľa malého náhľadú na hodnoty tohto atribútu vidno, že dátumy sú nejednotné. Vhodné by bolo ich mať v jednom formáte."
   ],
   "metadata": {}
  },
  {
   "cell_type": "code",
   "execution_count": 110,
   "source": [
    "profiles['birthdate'] = pd.to_datetime(profiles['birthdate'], utc=False)"
   ],
   "outputs": [],
   "metadata": {}
  },
  {
   "cell_type": "code",
   "execution_count": 111,
   "source": [
    "profiles['birthdate'].value_counts()"
   ],
   "outputs": [
    {
     "output_type": "execute_result",
     "data": {
      "text/plain": [
       "1997-08-13    4\n",
       "2013-01-20    3\n",
       "1927-09-05    3\n",
       "1912-08-31    2\n",
       "1932-01-29    2\n",
       "             ..\n",
       "1945-04-22    1\n",
       "1984-08-06    1\n",
       "1950-07-18    1\n",
       "1947-10-13    1\n",
       "1922-07-16    1\n",
       "Name: birthdate, Length: 2956, dtype: int64"
      ]
     },
     "metadata": {},
     "execution_count": 111
    }
   ],
   "metadata": {}
  },
  {
   "cell_type": "markdown",
   "source": [
    "Ešte skontrolujem rozsah"
   ],
   "metadata": {}
  },
  {
   "cell_type": "code",
   "execution_count": 119,
   "source": [
    "# profiles.sort_values(by=['birthdate'])\r\n",
    "profiles['birthdate'].describe(datetime_is_numeric=True)"
   ],
   "outputs": [
    {
     "output_type": "execute_result",
     "data": {
      "text/plain": [
       "count                             3097\n",
       "mean     1963-09-12 20:10:18.404907968\n",
       "min                1905-10-08 00:00:00\n",
       "25%                1933-08-07 00:00:00\n",
       "50%                1963-12-27 00:00:00\n",
       "75%                1992-09-23 00:00:00\n",
       "max                2021-09-14 00:00:00\n",
       "Name: birthdate, dtype: object"
      ]
     },
     "metadata": {},
     "execution_count": 119
    }
   ],
   "metadata": {}
  },
  {
   "cell_type": "markdown",
   "source": [
    "###### 5. company"
   ],
   "metadata": {}
  },
  {
   "cell_type": "code",
   "execution_count": 100,
   "source": [
    "profiles['company'].value_counts()"
   ],
   "outputs": [
    {
     "output_type": "execute_result",
     "data": {
      "text/plain": [
       "Smith Ltd                 7\n",
       "Allen Inc                 5\n",
       "Johnson Inc               5\n",
       "Johnson Ltd               5\n",
       "Smith LLC                 5\n",
       "                         ..\n",
       "Jenkins-Moore             1\n",
       "Graham LLC                1\n",
       "Mack, Martin and Moore    1\n",
       "Austin-Wells              1\n",
       "Price-Joseph              1\n",
       "Name: company, Length: 2914, dtype: int64"
      ]
     },
     "metadata": {},
     "execution_count": 100
    }
   ],
   "metadata": {}
  },
  {
   "cell_type": "markdown",
   "source": [
    "###### 6. blood_group"
   ],
   "metadata": {}
  },
  {
   "cell_type": "code",
   "execution_count": 97,
   "source": [
    "profiles['blood_group'].value_counts()"
   ],
   "outputs": [
    {
     "output_type": "execute_result",
     "data": {
      "text/plain": [
       "A-     407\n",
       "A+     400\n",
       "B+     399\n",
       "B-     399\n",
       "AB+    378\n",
       "O+     373\n",
       "O-     371\n",
       "AB-    370\n",
       "Name: blood_group, dtype: int64"
      ]
     },
     "metadata": {},
     "execution_count": 97
    }
   ],
   "metadata": {}
  },
  {
   "cell_type": "code",
   "execution_count": 99,
   "source": [
    "profiles['blood_group'].value_counts().plot(kind='bar')"
   ],
   "outputs": [
    {
     "output_type": "execute_result",
     "data": {
      "text/plain": [
       "<AxesSubplot:>"
      ]
     },
     "metadata": {},
     "execution_count": 99
    },
    {
     "output_type": "display_data",
     "data": {
      "image/png": "[encoded data removed]",
      "text/plain": [
       "<Figure size 432x288 with 1 Axes>"
      ]
     },
     "metadata": {
      "needs_background": "light"
     }
    }
   ],
   "metadata": {}
  },
  {
   "cell_type": "markdown",
   "source": [
    "######  7. sex"
   ],
   "metadata": {}
  },
  {
   "cell_type": "code",
   "execution_count": 92,
   "source": [
    "profiles['sex'].value_counts()"
   ],
   "outputs": [
    {
     "output_type": "execute_result",
     "data": {
      "text/plain": [
       "F    1568\n",
       "M    1529\n",
       "Name: sex, dtype: int64"
      ]
     },
     "metadata": {},
     "execution_count": 92
    }
   ],
   "metadata": {}
  },
  {
   "cell_type": "markdown",
   "source": [
    "V tomto prípade, všetky typy atribútov majú jednotný formát. A je vidno, že rozdelenie pohlavia je približne rovnaké."
   ],
   "metadata": {}
  },
  {
   "cell_type": "code",
   "execution_count": 96,
   "source": [
    "profiles['sex'].value_counts().plot(kind='pie')"
   ],
   "outputs": [
    {
     "output_type": "execute_result",
     "data": {
      "text/plain": [
       "<AxesSubplot:ylabel='sex'>"
      ]
     },
     "metadata": {},
     "execution_count": 96
    },
    {
     "output_type": "display_data",
     "data": {
      "image/png": "[encoded data removed]",
      "text/plain": [
       "<Figure size 432x288 with 1 Axes>"
      ]
     },
     "metadata": {}
    }
   ],
   "metadata": {}
  },
  {
   "cell_type": "markdown",
   "source": [
    "###### 8. ssn"
   ],
   "metadata": {}
  },
  {
   "cell_type": "code",
   "execution_count": 91,
   "source": [
    "profiles['ssn'].value_counts()"
   ],
   "outputs": [
    {
     "output_type": "execute_result",
     "data": {
      "text/plain": [
       "087-49-2961    1\n",
       "049-29-3450    1\n",
       "413-78-6839    1\n",
       "490-12-7724    1\n",
       "668-35-1604    1\n",
       "              ..\n",
       "759-31-2559    1\n",
       "882-93-4577    1\n",
       "310-81-4482    1\n",
       "761-96-7670    1\n",
       "127-21-2115    1\n",
       "Name: ssn, Length: 3097, dtype: int64"
      ]
     },
     "metadata": {},
     "execution_count": 91
    }
   ],
   "metadata": {}
  },
  {
   "cell_type": "markdown",
   "source": [
    "Atribút SSN je Social Security Number, ktoré sa používa podobne ako u nás číslo občianského preukazu, čiže ide len o administratívny údaj."
   ],
   "metadata": {}
  },
  {
   "cell_type": "markdown",
   "source": [
    "###### 9. name"
   ],
   "metadata": {}
  },
  {
   "cell_type": "code",
   "execution_count": 86,
   "source": [
    "profiles['name'].value_counts()"
   ],
   "outputs": [
    {
     "output_type": "execute_result",
     "data": {
      "text/plain": [
       "Mark Smith          3\n",
       "Michael Smith       3\n",
       "Pamela Wilson       3\n",
       "Jennifer Brown      3\n",
       "Jennifer Johnson    2\n",
       "                   ..\n",
       "Tony Watts          1\n",
       "Andrew Ballard      1\n",
       "Alan Johnson        1\n",
       "Trevor Johnson      1\n",
       "Chelsea Anderson    1\n",
       "Name: name, Length: 3034, dtype: int64"
      ]
     },
     "metadata": {},
     "execution_count": 86
    }
   ],
   "metadata": {}
  },
  {
   "cell_type": "markdown",
   "source": [
    "Je zaujímavé, že Michael Smith je v záznamoch trikrát, pričom podľa údajov o rezidencií ide o 3097 unikátnych záznamov. Preto sa na to idem pozrieť."
   ],
   "metadata": {}
  },
  {
   "cell_type": "code",
   "execution_count": 90,
   "source": [
    "profiles.loc[profiles['name'] == 'Mark Smith']"
   ],
   "outputs": [
    {
     "output_type": "execute_result",
     "data": {
      "text/html": [
       "<div>\n",
       "<style scoped>\n",
       "    .dataframe tbody tr th:only-of-type {\n",
       "        vertical-align: middle;\n",
       "    }\n",
       "\n",
       "    .dataframe tbody tr th {\n",
       "        vertical-align: top;\n",
       "    }\n",
       "\n",
       "    .dataframe thead th {\n",
       "        text-align: right;\n",
       "    }\n",
       "</style>\n",
       "<table border=\"1\" class=\"dataframe\">\n",
       "  <thead>\n",
       "    <tr style=\"text-align: right;\">\n",
       "      <th></th>\n",
       "      <th>Unnamed: 0</th>\n",
       "      <th>race</th>\n",
       "      <th>residence</th>\n",
       "      <th>job</th>\n",
       "      <th>birthdate</th>\n",
       "      <th>company</th>\n",
       "      <th>blood_group</th>\n",
       "      <th>sex</th>\n",
       "      <th>ssn</th>\n",
       "      <th>name</th>\n",
       "    </tr>\n",
       "  </thead>\n",
       "  <tbody>\n",
       "    <tr>\n",
       "      <th>921</th>\n",
       "      <td>921</td>\n",
       "      <td>White</td>\n",
       "      <td>96790 Jacob Turnpike\\r\\nLake Kimberlyside, HI ...</td>\n",
       "      <td>Warehouse manager</td>\n",
       "      <td>03/06/1938, 00:00:00</td>\n",
       "      <td>Dawson-Carpenter</td>\n",
       "      <td>A-</td>\n",
       "      <td>M</td>\n",
       "      <td>071-58-7576</td>\n",
       "      <td>Mark Smith</td>\n",
       "    </tr>\n",
       "    <tr>\n",
       "      <th>1013</th>\n",
       "      <td>1013</td>\n",
       "      <td>Asian</td>\n",
       "      <td>USNV Smith\\r\\nFPO AE 46399</td>\n",
       "      <td>Programmer, multimedia</td>\n",
       "      <td>11 Dec 1928</td>\n",
       "      <td>Tyler, Leonard and Gibson</td>\n",
       "      <td>B+</td>\n",
       "      <td>M</td>\n",
       "      <td>400-39-6824</td>\n",
       "      <td>Mark Smith</td>\n",
       "    </tr>\n",
       "    <tr>\n",
       "      <th>1167</th>\n",
       "      <td>1167</td>\n",
       "      <td>Black</td>\n",
       "      <td>47223 Hardy Pass\\r\\nRoyberg, TN 60264</td>\n",
       "      <td>Administrator</td>\n",
       "      <td>1961-07-29</td>\n",
       "      <td>Frost Ltd</td>\n",
       "      <td>O-</td>\n",
       "      <td>M</td>\n",
       "      <td>385-58-1304</td>\n",
       "      <td>Mark Smith</td>\n",
       "    </tr>\n",
       "  </tbody>\n",
       "</table>\n",
       "</div>"
      ],
      "text/plain": [
       "      Unnamed: 0   race                                          residence  \\\n",
       "921          921  White  96790 Jacob Turnpike\\r\\nLake Kimberlyside, HI ...   \n",
       "1013        1013  Asian                         USNV Smith\\r\\nFPO AE 46399   \n",
       "1167        1167  Black              47223 Hardy Pass\\r\\nRoyberg, TN 60264   \n",
       "\n",
       "                         job             birthdate                    company  \\\n",
       "921        Warehouse manager  03/06/1938, 00:00:00           Dawson-Carpenter   \n",
       "1013  Programmer, multimedia           11 Dec 1928  Tyler, Leonard and Gibson   \n",
       "1167           Administrator            1961-07-29                  Frost Ltd   \n",
       "\n",
       "     blood_group sex          ssn        name  \n",
       "921           A-   M  071-58-7576  Mark Smith  \n",
       "1013          B+   M  400-39-6824  Mark Smith  \n",
       "1167          O-   M  385-58-1304  Mark Smith  "
      ]
     },
     "metadata": {},
     "execution_count": 90
    }
   ],
   "metadata": {}
  },
  {
   "cell_type": "markdown",
   "source": [
    "Zistila som, že aj napriek tomu, že sa niekto nachdáza v tabuľke viackrát, ide zjavne o menovca, lebo Mark Smith by nemohol mať toľko rôznych osobných údajov, a pritom by malo ísť o tú istú osobu."
   ],
   "metadata": {}
  },
  {
   "cell_type": "markdown",
   "source": [
    "###### Numerické atribúty\r\n",
    "\r\n",
    "Záznamy neobsahujú žiadne numerické atribúty okrem spomínaného prvého atribútu, ale ten možno pokladať za číslovanie."
   ],
   "metadata": {}
  },
  {
   "cell_type": "markdown",
   "source": [
    "### 2. Párová analýza dát (5 bodov)\n",
    "* Preskúmajte vzťahy medzi zvolenými dvojicami atribútov.\n",
    "* Identifikujte závislostí medzi dvojicami atribútov a závislosti medzi predikovanou premennou a ostatnými premennými."
   ],
   "metadata": {}
  },
  {
   "cell_type": "code",
   "execution_count": null,
   "source": [],
   "outputs": [],
   "metadata": {}
  },
  {
   "cell_type": "code",
   "execution_count": null,
   "source": [],
   "outputs": [],
   "metadata": {}
  },
  {
   "cell_type": "markdown",
   "source": [
    "### 3. Formulácia a štatistické overenie hypotéz o dátach (2 body)\n",
    "* Sformulujte dve hypotézy o dátach v kontexte zadanej predikčnej úlohy. Príkladom je napr. pacienti v zlepšenom stave majú v priemere inú (vyššiu/nižšiu) hodnotu nejakej látky alebo hormónu ako pacienti v nezlepšenom stave.\n",
    "* Sformulované hypotézy overte vhodne zvoleným štatistickým testom."
   ],
   "metadata": {}
  },
  {
   "cell_type": "code",
   "execution_count": null,
   "source": [],
   "outputs": [],
   "metadata": {}
  },
  {
   "cell_type": "code",
   "execution_count": null,
   "source": [],
   "outputs": [],
   "metadata": {}
  },
  {
   "cell_type": "markdown",
   "source": [
    "### 4. Identifikácia problémov v dátach s navrhnutým riešením (3 body)\n",
    "* Identifikujte problémy v dátach napr.: nevhodná štruktúra dát, duplicitné záznamy, nejednotné formáty, chýbajúce hodnoty, vychýlené hodnoty. V dátach sa môžu nachádzať aj iné, tu nevymenované problémy.\n",
    "* Navrhnuté riešenie prvotne realizujte na dátach."
   ],
   "metadata": {}
  },
  {
   "cell_type": "markdown",
   "source": [
    "Boli identifikované tieto problémy:\r\n",
    "- nejednotné formáty (v obidvoch súboroch atribúty smoker, race, birthday)\r\n",
    "- vychýlené hodnoty (v súbore atribút weight) **//aj birthday**\r\n",
    "\r\n",
    "Všetky problémy boli už v prvej časti odstránené, aby bola priekumná analýza presnejšia"
   ],
   "metadata": {}
  },
  {
   "cell_type": "code",
   "execution_count": null,
   "source": [],
   "outputs": [],
   "metadata": {}
  },
  {
   "cell_type": "markdown",
   "source": [
    "### Správa sa odovzdáva v 6. týždni semestra\n",
    "\n",
    "* Na cvičení, dvojica svojmu cvičiacemu odprezentuje vykonanú prieskumnú analýzu v Jupyter Notebooku.\n",
    "* Správu elektronicky odovzdá jeden člen z dvojice do systému AIS do nedele 31.10.2021 23:59."
   ],
   "metadata": {}
  },
  {
   "cell_type": "code",
   "execution_count": null,
   "source": [],
   "outputs": [],
   "metadata": {}
  },
  {
   "cell_type": "code",
   "execution_count": null,
   "source": [],
   "outputs": [],
   "metadata": {}
  }
 ],
 "metadata": {
  "kernelspec": {
   "name": "python3",
   "display_name": "Python 3.9.0 64-bit ('env': venv)"
  },
  "language_info": {
   "codemirror_mode": {
    "name": "ipython",
    "version": 3
   },
   "file_extension": ".py",
   "mimetype": "text/x-python",
   "name": "python",
   "nbconvert_exporter": "python",
   "pygments_lexer": "ipython3",
   "version": "3.9.0"
  },
  "interpreter": {
   "hash": "3521e35cbe2b1cdbbd5d08630a6e651e4449715cd00a47fe09d73258a6c84e53"
  }
 },
 "nbformat": 4,
 "nbformat_minor": 5
}