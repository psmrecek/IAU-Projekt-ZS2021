{
 "cells": [
  {
   "cell_type": "markdown",
   "id": "d4a78c8b",
   "metadata": {},
   "source": [
    "# Fáza 3 - strojové učenie"
   ]
  },
  {
   "cell_type": "markdown",
   "id": "57304768",
   "metadata": {},
   "source": [
    "Pri dátovej analýze nemusí byť naším cieľom získať len znalosti obsiahnuté v aktuálnych dátach, ale aj natrénovať model, ktorý bude schopný robiť rozumné predikcie pre nové pozorovania pomocou strojového učenia.\n",
    "V tejto fáze sa od Vás očakáva:"
   ]
  },
  {
   "cell_type": "markdown",
   "id": "5c7d9147",
   "metadata": {},
   "source": [
    "## 1. Manuálne vytvorenie a vyhodnotenie rozhodovacích pravidiel pre klasifikáciu (5b)\n",
    "* Naimplementujte 1R algorithm (1R or OneR), ktorý je jednoduchá klasifikácia t.j. rozhodnutie na základe jedného atribútu. Môžete implementovať komplikovanejšie t.j. zahŕňajúce viacero atribútov (ich kombinácie).\n",
    "* Pravidlá by v tomto kroku mali byť vytvorené manuálne na základe pozorovaných závislostí v dátach. Vyhodnoťte klasifikátor pomocou metrík accuracy, precision a recall."
   ]
  },
  {
   "cell_type": "code",
   "execution_count": null,
   "id": "ad082933",
   "metadata": {},
   "outputs": [],
   "source": [
    "Peter"
   ]
  },
  {
   "cell_type": "code",
   "execution_count": null,
   "id": "93397fae",
   "metadata": {},
   "outputs": [],
   "source": []
  },
  {
   "cell_type": "markdown",
   "id": "028a2101",
   "metadata": {},
   "source": [
    "## 2. Natrénovanie a vyhodnotenie klasifikátora strojového učenia (5b)\n",
    "* Na trénovanie využite minimálne jeden stromový algoritm strojového učenia v scikit-learn.\n",
    "* Vizualizujte natrénované pravidlá.\n",
    "* Vyhodnoťte natrénovaný model pomocou metrík accuracy, precision a recall\n",
    "* Porovnajte natrénovaný klasifikátor s Vašimi manuálne vytvorenými pravidlami z prvého kroku."
   ]
  },
  {
   "cell_type": "code",
   "execution_count": null,
   "id": "94476093",
   "metadata": {},
   "outputs": [],
   "source": [
    "Anetta"
   ]
  },
  {
   "cell_type": "code",
   "execution_count": null,
   "id": "b4c991a7",
   "metadata": {},
   "outputs": [],
   "source": []
  },
  {
   "cell_type": "markdown",
   "id": "3601edb1",
   "metadata": {},
   "source": [
    "## 3. Optimalizácia - hyperparameter tuning (5b)\n",
    "* Preskúmajte hyperparametre Vášho zvoleného klasifikačného algoritmu v druhom kroku a vyskúšajte ich rôzne nastavenie tak, aby ste minimalizovali overfitting (preučenie) a optimalizovali výsledok. \n",
    "* Vysvetlite, čo jednotlivé hyperparametre robia. Pri nastavovaní hyperparametrov algoritmu využite krížovú validáciu (cross validation) na trénovacej množine."
   ]
  },
  {
   "cell_type": "code",
   "execution_count": null,
   "id": "93b57d41",
   "metadata": {},
   "outputs": [],
   "source": []
  },
  {
   "cell_type": "code",
   "execution_count": null,
   "id": "f3888c0f",
   "metadata": {},
   "outputs": [],
   "source": []
  },
  {
   "cell_type": "markdown",
   "id": "9a823523",
   "metadata": {},
   "source": [
    "## 4. Vyhodnotenie vplyvu zvolenej stratégie riešenia na klasifikáciu (5b)\n",
    "Vyhodnotíte Vami zvolené stratégie riešenia projektu z hľadiska classification accuracy: \n",
    "\n",
    "* Stratégie riešenia chýbajúcich hodnôt a outlierov;\n",
    "* Scaling resp. transformer či zlepší accuracy klasifikácie;\n",
    "* Výber atribútov a výber algoritmov;\n",
    "* Hyperparameter tuning resp. ensemble learning.\n",
    "\n",
    "Ktorý spôsob z každého hore-uvedených bodov sa ukázal ako vhodnejší pre daný problém? Vyhodnotenie podložíte dôkazmi."
   ]
  },
  {
   "cell_type": "code",
   "execution_count": null,
   "id": "74a9f8ad",
   "metadata": {},
   "outputs": [],
   "source": []
  },
  {
   "cell_type": "code",
   "execution_count": null,
   "id": "ccaf353f",
   "metadata": {},
   "outputs": [],
   "source": []
  },
  {
   "cell_type": "markdown",
   "id": "89749bad",
   "metadata": {},
   "source": [
    "Správa sa odovzdáva v 12. týždni semestra\n",
    "* Na cvičení, dvojica svojmu cvičiacemu odprezentuje vykonanú prácu v Jupyter Notebooku.\n",
    "* Správu elektronicky odovzdá jeden člen z dvojice do systému AIS do nedele 12.12.2021 23:59."
   ]
  }
 ],
 "metadata": {
  "kernelspec": {
   "display_name": "Python 3 (ipykernel)",
   "language": "python",
   "name": "python3"
  },
  "language_info": {
   "codemirror_mode": {
    "name": "ipython",
    "version": 3
   },
   "file_extension": ".py",
   "mimetype": "text/x-python",
   "name": "python",
   "nbconvert_exporter": "python",
   "pygments_lexer": "ipython3",
   "version": "3.9.7"
  }
 },
 "nbformat": 4,
 "nbformat_minor": 5
}
