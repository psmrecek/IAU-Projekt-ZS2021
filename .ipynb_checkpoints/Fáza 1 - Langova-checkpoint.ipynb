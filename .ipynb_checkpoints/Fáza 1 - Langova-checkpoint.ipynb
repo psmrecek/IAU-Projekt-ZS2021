{
 "cells": [
  {
   "cell_type": "markdown",
   "id": "3406ecd1",
   "metadata": {},
   "source": [
    "# IAU Projekt"
   ]
  },
  {
   "cell_type": "markdown",
   "id": "a47d3b7f",
   "metadata": {},
   "source": [
    "# Fáza 1"
   ]
  },
  {
   "cell_type": "markdown",
   "id": "bf570335",
   "metadata": {},
   "source": [
    "### Zadanie (the quest)\n",
    "\n",
    "* Každá dvojica bude pracovať s pridelenou dátovou sadou (3. týždeň).\n",
    "* Vašou úlohou je vedieť predikovať závislú hodnotu (indikator)\n",
    "\n",
    "Budete sa musieť pritom vysporiadať s viacerými problémami, ktoré sa v dátach nachádzajú ako formáty dát, chýbajúce, vychýlené hodnoty a pod."
   ]
  },
  {
   "cell_type": "code",
   "execution_count": 2,
   "id": "56715118",
   "metadata": {},
   "outputs": [],
   "source": [
    "import matplotlib.pyplot as plt\n",
    "import seaborn as sns\n",
    "import pandas as pd\n",
    "import numpy as np\n",
    "import scipy.stats as stats"
   ]
  },
  {
   "cell_type": "code",
   "execution_count": 3,
   "id": "069c8614",
   "metadata": {},
   "outputs": [
    {
     "data": {
      "text/html": [
       "<div>\n",
       "<style scoped>\n",
       "    .dataframe tbody tr th:only-of-type {\n",
       "        vertical-align: middle;\n",
       "    }\n",
       "\n",
       "    .dataframe tbody tr th {\n",
       "        vertical-align: top;\n",
       "    }\n",
       "\n",
       "    .dataframe thead th {\n",
       "        text-align: right;\n",
       "    }\n",
       "</style>\n",
       "<table border=\"1\" class=\"dataframe\">\n",
       "  <thead>\n",
       "    <tr style=\"text-align: right;\">\n",
       "      <th></th>\n",
       "      <th>Unnamed: 0</th>\n",
       "      <th>weight</th>\n",
       "      <th>ssn</th>\n",
       "      <th>hemoglobin</th>\n",
       "      <th>alp</th>\n",
       "      <th>etytr</th>\n",
       "      <th>alt</th>\n",
       "      <th>erytrocyty</th>\n",
       "      <th>hbver</th>\n",
       "      <th>name</th>\n",
       "      <th>hematokrit</th>\n",
       "      <th>indicator</th>\n",
       "      <th>er-cv</th>\n",
       "      <th>leukocyty</th>\n",
       "      <th>smoker</th>\n",
       "      <th>relationship</th>\n",
       "      <th>ast</th>\n",
       "      <th>trombocyty</th>\n",
       "    </tr>\n",
       "  </thead>\n",
       "  <tbody>\n",
       "    <tr>\n",
       "      <th>0</th>\n",
       "      <td>0</td>\n",
       "      <td>12.35740</td>\n",
       "      <td>803-27-3974</td>\n",
       "      <td>5.94182</td>\n",
       "      <td>86.80991</td>\n",
       "      <td>7.12559</td>\n",
       "      <td>2.18482</td>\n",
       "      <td>7.53345</td>\n",
       "      <td>7.51373</td>\n",
       "      <td>Kayla Rodriguez</td>\n",
       "      <td>6.98497</td>\n",
       "      <td>1.0</td>\n",
       "      <td>57.08422</td>\n",
       "      <td>7.21726</td>\n",
       "      <td>Y</td>\n",
       "      <td>married</td>\n",
       "      <td>77.99546</td>\n",
       "      <td>7.98017</td>\n",
       "    </tr>\n",
       "    <tr>\n",
       "      <th>1</th>\n",
       "      <td>1</td>\n",
       "      <td>118.10209</td>\n",
       "      <td>205-46-9278</td>\n",
       "      <td>6.45407</td>\n",
       "      <td>79.22919</td>\n",
       "      <td>5.34025</td>\n",
       "      <td>1.60706</td>\n",
       "      <td>6.53048</td>\n",
       "      <td>7.30977</td>\n",
       "      <td>Diane Holt</td>\n",
       "      <td>8.65706</td>\n",
       "      <td>1.0</td>\n",
       "      <td>63.49068</td>\n",
       "      <td>9.35320</td>\n",
       "      <td>no</td>\n",
       "      <td>widowed</td>\n",
       "      <td>31.27623</td>\n",
       "      <td>9.27384</td>\n",
       "    </tr>\n",
       "    <tr>\n",
       "      <th>2</th>\n",
       "      <td>2</td>\n",
       "      <td>89.97897</td>\n",
       "      <td>507-12-0831</td>\n",
       "      <td>9.73090</td>\n",
       "      <td>17.97254</td>\n",
       "      <td>9.49744</td>\n",
       "      <td>1.75153</td>\n",
       "      <td>5.96430</td>\n",
       "      <td>8.02289</td>\n",
       "      <td>David Bryant MD</td>\n",
       "      <td>7.46431</td>\n",
       "      <td>1.0</td>\n",
       "      <td>66.64176</td>\n",
       "      <td>7.36311</td>\n",
       "      <td>no</td>\n",
       "      <td>nop</td>\n",
       "      <td>52.03928</td>\n",
       "      <td>8.18942</td>\n",
       "    </tr>\n",
       "    <tr>\n",
       "      <th>3</th>\n",
       "      <td>3</td>\n",
       "      <td>137.89307</td>\n",
       "      <td>328-79-8098</td>\n",
       "      <td>8.65753</td>\n",
       "      <td>19.63713</td>\n",
       "      <td>8.90814</td>\n",
       "      <td>5.80869</td>\n",
       "      <td>8.47758</td>\n",
       "      <td>7.37768</td>\n",
       "      <td>Joshua Hickman</td>\n",
       "      <td>9.15039</td>\n",
       "      <td>1.0</td>\n",
       "      <td>62.03448</td>\n",
       "      <td>6.50476</td>\n",
       "      <td>no</td>\n",
       "      <td>single</td>\n",
       "      <td>63.20161</td>\n",
       "      <td>6.22091</td>\n",
       "    </tr>\n",
       "    <tr>\n",
       "      <th>4</th>\n",
       "      <td>4</td>\n",
       "      <td>95.55653</td>\n",
       "      <td>307-37-5739</td>\n",
       "      <td>5.96644</td>\n",
       "      <td>82.63100</td>\n",
       "      <td>6.84092</td>\n",
       "      <td>3.16471</td>\n",
       "      <td>7.38053</td>\n",
       "      <td>8.07490</td>\n",
       "      <td>Frank Glover</td>\n",
       "      <td>9.55976</td>\n",
       "      <td>1.0</td>\n",
       "      <td>79.48715</td>\n",
       "      <td>9.45322</td>\n",
       "      <td>N</td>\n",
       "      <td>married</td>\n",
       "      <td>28.53852</td>\n",
       "      <td>7.38761</td>\n",
       "    </tr>\n",
       "  </tbody>\n",
       "</table>\n",
       "</div>"
      ],
      "text/plain": [
       "   Unnamed: 0     weight          ssn  hemoglobin       alp    etytr      alt  \\\n",
       "0           0   12.35740  803-27-3974     5.94182  86.80991  7.12559  2.18482   \n",
       "1           1  118.10209  205-46-9278     6.45407  79.22919  5.34025  1.60706   \n",
       "2           2   89.97897  507-12-0831     9.73090  17.97254  9.49744  1.75153   \n",
       "3           3  137.89307  328-79-8098     8.65753  19.63713  8.90814  5.80869   \n",
       "4           4   95.55653  307-37-5739     5.96644  82.63100  6.84092  3.16471   \n",
       "\n",
       "   erytrocyty    hbver             name  hematokrit  indicator     er-cv  \\\n",
       "0     7.53345  7.51373  Kayla Rodriguez     6.98497        1.0  57.08422   \n",
       "1     6.53048  7.30977       Diane Holt     8.65706        1.0  63.49068   \n",
       "2     5.96430  8.02289  David Bryant MD     7.46431        1.0  66.64176   \n",
       "3     8.47758  7.37768   Joshua Hickman     9.15039        1.0  62.03448   \n",
       "4     7.38053  8.07490     Frank Glover     9.55976        1.0  79.48715   \n",
       "\n",
       "   leukocyty smoker relationship       ast  trombocyty  \n",
       "0    7.21726      Y      married  77.99546     7.98017  \n",
       "1    9.35320     no      widowed  31.27623     9.27384  \n",
       "2    7.36311     no          nop  52.03928     8.18942  \n",
       "3    6.50476     no       single  63.20161     6.22091  \n",
       "4    9.45322      N      married  28.53852     7.38761  "
      ]
     },
     "execution_count": 3,
     "metadata": {},
     "output_type": "execute_result"
    }
   ],
   "source": [
    "filename_labor = \"046/labor.csv\"\n",
    "labor = pd.read_csv(filename_labor, sep='\\t')\n",
    "labor.head()"
   ]
  },
  {
   "cell_type": "code",
   "execution_count": 4,
   "id": "1e82d277",
   "metadata": {},
   "outputs": [
    {
     "data": {
      "text/html": [
       "<div>\n",
       "<style scoped>\n",
       "    .dataframe tbody tr th:only-of-type {\n",
       "        vertical-align: middle;\n",
       "    }\n",
       "\n",
       "    .dataframe tbody tr th {\n",
       "        vertical-align: top;\n",
       "    }\n",
       "\n",
       "    .dataframe thead th {\n",
       "        text-align: right;\n",
       "    }\n",
       "</style>\n",
       "<table border=\"1\" class=\"dataframe\">\n",
       "  <thead>\n",
       "    <tr style=\"text-align: right;\">\n",
       "      <th></th>\n",
       "      <th>Unnamed: 0</th>\n",
       "      <th>race</th>\n",
       "      <th>residence</th>\n",
       "      <th>job</th>\n",
       "      <th>birthdate</th>\n",
       "      <th>company</th>\n",
       "      <th>blood_group</th>\n",
       "      <th>sex</th>\n",
       "      <th>ssn</th>\n",
       "      <th>name</th>\n",
       "    </tr>\n",
       "  </thead>\n",
       "  <tbody>\n",
       "    <tr>\n",
       "      <th>0</th>\n",
       "      <td>0</td>\n",
       "      <td>White</td>\n",
       "      <td>108 Pham Loaf\\r\\nNew Shelby, IN 31526</td>\n",
       "      <td>Magazine features editor</td>\n",
       "      <td>2007/09/11</td>\n",
       "      <td>Reynolds, Stewart and Tanner</td>\n",
       "      <td>O+</td>\n",
       "      <td>F</td>\n",
       "      <td>087-49-2961</td>\n",
       "      <td>Laura Valentine</td>\n",
       "    </tr>\n",
       "    <tr>\n",
       "      <th>1</th>\n",
       "      <td>1</td>\n",
       "      <td>Asian</td>\n",
       "      <td>2246 Tammy Cliffs Apt. 057\\r\\nNorth Kim, MI 55878</td>\n",
       "      <td>Investment banker, operational</td>\n",
       "      <td>1971/05/20</td>\n",
       "      <td>Mcdonald-White</td>\n",
       "      <td>A-</td>\n",
       "      <td>F</td>\n",
       "      <td>704-69-2733</td>\n",
       "      <td>Angela Sullivan</td>\n",
       "    </tr>\n",
       "    <tr>\n",
       "      <th>2</th>\n",
       "      <td>2</td>\n",
       "      <td>White</td>\n",
       "      <td>12245 Maxwell Island\\r\\nNorth Benjamin, KY 38697</td>\n",
       "      <td>Charity fundraiser</td>\n",
       "      <td>09 Oct 1945</td>\n",
       "      <td>Waters, Davis and Mcintyre</td>\n",
       "      <td>AB+</td>\n",
       "      <td>F</td>\n",
       "      <td>787-12-1516</td>\n",
       "      <td>Haley Ramirez</td>\n",
       "    </tr>\n",
       "    <tr>\n",
       "      <th>3</th>\n",
       "      <td>3</td>\n",
       "      <td>White</td>\n",
       "      <td>17000 Saunders Circles Apt. 457\\r\\nDonaldhaven...</td>\n",
       "      <td>Engineer, production</td>\n",
       "      <td>04/25/2006, 00:00:00</td>\n",
       "      <td>Watson and Sons</td>\n",
       "      <td>A+</td>\n",
       "      <td>F</td>\n",
       "      <td>127-86-0135</td>\n",
       "      <td>Mary Harris</td>\n",
       "    </tr>\n",
       "    <tr>\n",
       "      <th>4</th>\n",
       "      <td>4</td>\n",
       "      <td>Hawaiian</td>\n",
       "      <td>43712 Andrea Expressway\\r\\nNorth Mckenzie, AZ ...</td>\n",
       "      <td>IT consultant</td>\n",
       "      <td>1936-03-01</td>\n",
       "      <td>Alvarez PLC</td>\n",
       "      <td>B+</td>\n",
       "      <td>M</td>\n",
       "      <td>875-46-1555</td>\n",
       "      <td>Jeremy James</td>\n",
       "    </tr>\n",
       "  </tbody>\n",
       "</table>\n",
       "</div>"
      ],
      "text/plain": [
       "   Unnamed: 0      race                                          residence  \\\n",
       "0           0     White              108 Pham Loaf\\r\\nNew Shelby, IN 31526   \n",
       "1           1     Asian  2246 Tammy Cliffs Apt. 057\\r\\nNorth Kim, MI 55878   \n",
       "2           2     White   12245 Maxwell Island\\r\\nNorth Benjamin, KY 38697   \n",
       "3           3     White  17000 Saunders Circles Apt. 457\\r\\nDonaldhaven...   \n",
       "4           4  Hawaiian  43712 Andrea Expressway\\r\\nNorth Mckenzie, AZ ...   \n",
       "\n",
       "                              job             birthdate  \\\n",
       "0        Magazine features editor            2007/09/11   \n",
       "1  Investment banker, operational            1971/05/20   \n",
       "2              Charity fundraiser           09 Oct 1945   \n",
       "3            Engineer, production  04/25/2006, 00:00:00   \n",
       "4                   IT consultant            1936-03-01   \n",
       "\n",
       "                        company blood_group sex          ssn             name  \n",
       "0  Reynolds, Stewart and Tanner          O+   F  087-49-2961  Laura Valentine  \n",
       "1                Mcdonald-White          A-   F  704-69-2733  Angela Sullivan  \n",
       "2    Waters, Davis and Mcintyre         AB+   F  787-12-1516    Haley Ramirez  \n",
       "3               Watson and Sons          A+   F  127-86-0135      Mary Harris  \n",
       "4                   Alvarez PLC          B+   M  875-46-1555     Jeremy James  "
      ]
     },
     "execution_count": 4,
     "metadata": {},
     "output_type": "execute_result"
    }
   ],
   "source": [
    "filename_profiles = \"046/profiles.csv\"\n",
    "profiles = pd.read_csv(filename_profiles, sep='\\t')\n",
    "profiles.head()"
   ]
  },
  {
   "cell_type": "markdown",
   "id": "861a3ebb",
   "metadata": {},
   "source": [
    "### 1. Základný opis dát spolu s ich charakteristikami (5 bodov)\n",
    "\n",
    "* Pre dosiahnutie plného počtu bodov uveďte\n",
    "* počet záznamov,\n",
    "* počet atribútov,\n",
    "* ich typy,\n",
    "* pre zvolené významné atribúty ich distribúcie, základné deskriptívne štatistiky a pod."
   ]
  },
  {
   "cell_type": "markdown",
   "id": "b8828212",
   "metadata": {},
   "source": [
    "#### DATASET labor.csv"
   ]
  },
  {
   "cell_type": "code",
   "execution_count": 41,
   "id": "b669731f",
   "metadata": {},
   "outputs": [
    {
     "name": "stdout",
     "output_type": "stream",
     "text": [
      "<class 'pandas.core.frame.DataFrame'>\n",
      "RangeIndex: 10002 entries, 0 to 10001\n",
      "Data columns (total 18 columns):\n",
      " #   Column        Non-Null Count  Dtype  \n",
      "---  ------        --------------  -----  \n",
      " 0   Unnamed: 0    10002 non-null  int64  \n",
      " 1   weight        10002 non-null  float64\n",
      " 2   ssn           10002 non-null  object \n",
      " 3   hemoglobin    9972 non-null   float64\n",
      " 4   alp           9972 non-null   float64\n",
      " 5   etytr         9972 non-null   float64\n",
      " 6   alt           9971 non-null   float64\n",
      " 7   erytrocyty    9972 non-null   float64\n",
      " 8   hbver         9972 non-null   float64\n",
      " 9   name          10002 non-null  object \n",
      " 10  hematokrit    9972 non-null   float64\n",
      " 11  indicator     10002 non-null  float64\n",
      " 12  er-cv         9972 non-null   float64\n",
      " 13  leukocyty     9972 non-null   float64\n",
      " 14  smoker        10002 non-null  object \n",
      " 15  relationship  10002 non-null  object \n",
      " 16  ast           9972 non-null   float64\n",
      " 17  trombocyty    9972 non-null   float64\n",
      "dtypes: float64(13), int64(1), object(4)\n",
      "memory usage: 1.4+ MB\n"
     ]
    }
   ],
   "source": [
    "labor.info()"
   ]
  },
  {
   "cell_type": "code",
   "execution_count": null,
   "id": "0bb06129",
   "metadata": {},
   "outputs": [],
   "source": [
    "Pocet not-null hodnot nie je rovnaky pre vsetky stlpce"
   ]
  },
  {
   "cell_type": "markdown",
   "id": "1e564e53",
   "metadata": {},
   "source": [
    "#### DATASET profiles.csv"
   ]
  },
  {
   "cell_type": "code",
   "execution_count": 25,
   "id": "c249068e",
   "metadata": {},
   "outputs": [
    {
     "name": "stdout",
     "output_type": "stream",
     "text": [
      "<class 'pandas.core.frame.DataFrame'>\n",
      "RangeIndex: 3097 entries, 0 to 3096\n",
      "Data columns (total 10 columns):\n",
      " #   Column       Non-Null Count  Dtype \n",
      "---  ------       --------------  ----- \n",
      " 0   Unnamed: 0   3097 non-null   int64 \n",
      " 1   race         3097 non-null   object\n",
      " 2   residence    3097 non-null   object\n",
      " 3   job          3097 non-null   object\n",
      " 4   birthdate    3097 non-null   object\n",
      " 5   company      3097 non-null   object\n",
      " 6   blood_group  3097 non-null   object\n",
      " 7   sex          3097 non-null   object\n",
      " 8   ssn          3097 non-null   object\n",
      " 9   name         3097 non-null   object\n",
      "dtypes: int64(1), object(9)\n",
      "memory usage: 242.1+ KB\n"
     ]
    }
   ],
   "source": [
    "profiles.info()"
   ]
  },
  {
   "cell_type": "markdown",
   "id": "eb96b77b",
   "metadata": {},
   "source": [
    "### 2. Párová analýza dát (5 bodov)\n",
    "* Preskúmajte vzťahy medzi zvolenými dvojicami atribútov.\n",
    "* Identifikujte závislostí medzi dvojicami atribútov a závislosti medzi predikovanou premennou a ostatnými premennými."
   ]
  },
  {
   "cell_type": "code",
   "execution_count": null,
   "id": "211a1c01",
   "metadata": {},
   "outputs": [],
   "source": []
  },
  {
   "cell_type": "code",
   "execution_count": null,
   "id": "12f51bb5",
   "metadata": {},
   "outputs": [],
   "source": []
  },
  {
   "cell_type": "markdown",
   "id": "d85ce3f0",
   "metadata": {},
   "source": [
    "### 3. Formulácia a štatistické overenie hypotéz o dátach (2 body)\n",
    "* Sformulujte dve hypotézy o dátach v kontexte zadanej predikčnej úlohy. Príkladom je napr. pacienti v zlepšenom stave majú v priemere inú (vyššiu/nižšiu) hodnotu nejakej látky alebo hormónu ako pacienti v nezlepšenom stave.\n",
    "* Sformulované hypotézy overte vhodne zvoleným štatistickým testom."
   ]
  },
  {
   "cell_type": "code",
   "execution_count": null,
   "id": "fc44205e",
   "metadata": {},
   "outputs": [],
   "source": []
  },
  {
   "cell_type": "code",
   "execution_count": null,
   "id": "2275bcb4",
   "metadata": {},
   "outputs": [],
   "source": []
  },
  {
   "cell_type": "markdown",
   "id": "252df2b4",
   "metadata": {},
   "source": [
    "### 4. Identifikácia problémov v dátach s navrhnutým riešením (3 body)\n",
    "* Identifikujte problémy v dátach napr.: nevhodná štruktúra dát, duplicitné záznamy, nejednotné formáty, chýbajúce hodnoty, vychýlené hodnoty. V dátach sa môžu nachádzať aj iné, tu nevymenované problémy.\n",
    "* Navrhnuté riešenie prvotne realizujte na dátach."
   ]
  },
  {
   "cell_type": "code",
   "execution_count": null,
   "id": "569584e6",
   "metadata": {},
   "outputs": [],
   "source": []
  },
  {
   "cell_type": "code",
   "execution_count": null,
   "id": "bfb01e73",
   "metadata": {},
   "outputs": [],
   "source": []
  },
  {
   "cell_type": "markdown",
   "id": "4f0c031e",
   "metadata": {},
   "source": [
    "### Správa sa odovzdáva v 6. týždni semestra\n",
    "\n",
    "* Na cvičení, dvojica svojmu cvičiacemu odprezentuje vykonanú prieskumnú analýzu v Jupyter Notebooku.\n",
    "* Správu elektronicky odovzdá jeden člen z dvojice do systému AIS do nedele 31.10.2021 23:59."
   ]
  },
  {
   "cell_type": "code",
   "execution_count": null,
   "id": "3d10e352",
   "metadata": {},
   "outputs": [],
   "source": []
  },
  {
   "cell_type": "code",
   "execution_count": null,
   "id": "35d41bd5",
   "metadata": {},
   "outputs": [],
   "source": []
  }
 ],
 "metadata": {
  "kernelspec": {
   "display_name": "Python 3 (ipykernel)",
   "language": "python",
   "name": "python3"
  },
  "language_info": {
   "codemirror_mode": {
    "name": "ipython",
    "version": 3
   },
   "file_extension": ".py",
   "mimetype": "text/x-python",
   "name": "python",
   "nbconvert_exporter": "python",
   "pygments_lexer": "ipython3",
   "version": "3.9.0"
  }
 },
 "nbformat": 4,
 "nbformat_minor": 5
}
