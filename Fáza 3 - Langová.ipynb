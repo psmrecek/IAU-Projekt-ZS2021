{
 "cells": [
  {
   "cell_type": "markdown",
   "id": "d4a78c8b",
   "metadata": {},
   "source": [
    "# Fáza 3 - strojové učenie"
   ]
  },
  {
   "cell_type": "markdown",
   "id": "57304768",
   "metadata": {},
   "source": [
    "Pri dátovej analýze nemusí byť naším cieľom získať len znalosti obsiahnuté v aktuálnych dátach, ale aj natrénovať model, ktorý bude schopný robiť rozumné predikcie pre nové pozorovania pomocou strojového učenia.\n",
    "V tejto fáze sa od Vás očakáva:"
   ]
  },
  {
   "cell_type": "code",
   "execution_count": 1,
   "id": "58a75cbe",
   "metadata": {},
   "outputs": [],
   "source": [
    "import matplotlib.pyplot as plt\n",
    "import seaborn as sns\n",
    "import pandas as pd\n",
    "import numpy as np\n",
    "import scipy.stats as stats\n",
    "import statsmodels.api as sm\n",
    "import statsmodels.stats.api as sms\n",
    "import statsmodels.stats as sm_stats\n",
    "\n",
    "import datetime\n",
    "import re\n",
    "import category_encoders as ce\n",
    "from sklearn.impute import SimpleImputer, KNNImputer\n",
    "from numpy import percentile\n",
    "\n",
    "import matplotlib.pyplot as plt\n",
    "from sklearn.preprocessing import PowerTransformer, QuantileTransformer\n",
    "\n",
    "from sklearn.feature_selection import VarianceThreshold, SelectKBest, SelectPercentile, SelectFromModel\n",
    "from sklearn.feature_selection import mutual_info_regression, chi2, f_regression, f_classif\n",
    "from sklearn.ensemble import RandomForestClassifier\n",
    "\n",
    "from sklearn.preprocessing import StandardScaler, MinMaxScaler\n",
    "import matplotlib.pyplot as plt\n",
    "\n",
    "from sklearn.base import TransformerMixin\n",
    "from sklearn.pipeline import Pipeline\n",
    "from sklearn.model_selection import train_test_split"
   ]
  },
  {
   "cell_type": "code",
   "execution_count": 2,
   "id": "6ecc9b3b",
   "metadata": {},
   "outputs": [],
   "source": [
    "def phase1():\n",
    "    labor = pd.read_csv(\"046/labor.csv\", sep='\\t')\n",
    "    labor.rename(columns = {\"Unnamed: 0\": \"index\"}, inplace = True)\n",
    "    labor = labor.drop([\"index\", \"name\"], axis=1)\n",
    "    smoker_encoding = {\"Y\": 1, \"N\": 0, \"yes\": 1, \"no\": 0}\n",
    "    labor[\"smoker\"].replace(smoker_encoding, inplace=True)\n",
    "\n",
    "    profiles = pd.read_csv(\"046/profiles.csv\", sep='\\t')\n",
    "    profiles.rename(columns = {\"Unnamed: 0\": \"index\"}, inplace = True)\n",
    "    profiles = profiles.drop([\"index\"], axis=1)\n",
    "    profiles[\"race\"].replace({\"black\": \"Black\", \"white\": \"White\", \"blsck\": \"Black\"}, inplace=True)\n",
    "    profiles[\"birthdate\"] = pd.to_datetime(profiles['birthdate'], utc=False)\n",
    "\n",
    "    merged = pd.merge(profiles, labor, how='outer', on='ssn')\n",
    "    merged = merged.drop([\"ssn\"], axis=1)\n",
    "    return merged"
   ]
  },
  {
   "cell_type": "code",
   "execution_count": 3,
   "id": "21d25141",
   "metadata": {},
   "outputs": [],
   "source": [
    "class handleNA(TransformerMixin):\n",
    "    def __init__(self, method, strategy=None):\n",
    "        self.method = method\n",
    "        self.strategy = strategy\n",
    "        \n",
    "    def removeNA(self, merged):\n",
    "        return merged.dropna()\n",
    "\n",
    "    def getNAcols(self, merged):\n",
    "        return merged.columns[merged.isnull().any()].tolist()\n",
    "\n",
    "    def replaceNaN(self, original_merged):\n",
    "        na_cols = self.getNAcols(original_merged)\n",
    "        strategy = self.strategy\n",
    "        new_merged = original_merged.copy()\n",
    "        if strategy == \"kNN\":\n",
    "            imp_strategy = KNNImputer(n_neighbors=5, weights='uniform', metric='nan_euclidean')\n",
    "    #         imp_strategy = KNNImputer()\n",
    "        elif strategy == \"mean\" or strategy == \"median\":    \n",
    "            imp_strategy = SimpleImputer(missing_values=np.nan, strategy=strategy)\n",
    "        else:\n",
    "            raise Exception(\"Unsupported strategy\")\n",
    "        for col in na_cols:\n",
    "            new_merged[col] = imp_strategy.fit_transform(new_merged[[col]])\n",
    "        return new_merged\n",
    "    \n",
    "    def fit(self, X):\n",
    "        return self\n",
    "    \n",
    "    def transform(self, X):\n",
    "        if self.method == 'nothing':\n",
    "            return X\n",
    "        elif self.method == 'remove':\n",
    "            return self.removeNA(X);\n",
    "        elif self.method == 'replace':\n",
    "            return self.replaceNaN(X)\n",
    "        else:\n",
    "            raise Exception(\"Unsupported method\")"
   ]
  },
  {
   "cell_type": "code",
   "execution_count": 4,
   "id": "ab4a78aa",
   "metadata": {},
   "outputs": [],
   "source": [
    "class handleOutliers(TransformerMixin):\n",
    "    def __init__(self, method):\n",
    "        self.method = method\n",
    "        \n",
    "    def onlyNumCols(self, merged):\n",
    "        return merged.drop([\"residence\", \"job\", \"company\", \"name\", \"birthdate\"], axis=1, errors='ignore')\n",
    "\n",
    "    def identify_outliers(self, merged):\n",
    "        suma = 0;\n",
    "        for col in merged.columns:\n",
    "            q25, q75 = percentile(merged[col], 25), percentile(merged[col], 75)\n",
    "            iqr = q75 - q25\n",
    "            cut_off = iqr * 1.5\n",
    "            lower, upper = q25 - cut_off, q75 + cut_off\n",
    "            outliers = merged[((merged[col] < lower) | (merged[col] > upper))] \n",
    "            print(col, 'Identified outliers: %d' % len(outliers))\n",
    "            suma += len(outliers)\n",
    "        print('Sum of identified outliers: %d' % suma)\n",
    "\n",
    "    def remove_outliers(self, merged):\n",
    "        newMerged = merged.copy()\n",
    "        for col in newMerged.columns:\n",
    "            q25, q75 = percentile(newMerged[col], 25), percentile(newMerged[col], 75)\n",
    "            iqr = q75 - q25\n",
    "            cut_off = iqr * 1.5\n",
    "            lower, upper = q25 - cut_off, q75 + cut_off\n",
    "            newMerged = newMerged[((newMerged[col] >= lower) & (newMerged[col] <= upper))] \n",
    "        return newMerged\n",
    "\n",
    "    def replace_outliers(self, merged):\n",
    "        newMerged = merged.copy()\n",
    "        for col in newMerged.columns:\n",
    "            q05, q95 = percentile(newMerged[col], 5), percentile(newMerged[col], 95)\n",
    "            newMerged[col] = np.where(newMerged[col] < q05, q05, newMerged[col])\n",
    "            newMerged[col] = np.where(newMerged[col] > q95, q95, newMerged[col])\n",
    "        return newMerged\n",
    "    \n",
    "    def fit(self, X):\n",
    "        return self\n",
    "    \n",
    "    def transform(self, X):\n",
    "        if self.method == 'nothing':\n",
    "            return self.onlyNumCols(X)\n",
    "        elif self.method == 'remove':\n",
    "            return self.remove_outliers(self.onlyNumCols(X))\n",
    "        elif self.method == 'replace':\n",
    "            return self.replace_outliers(self.onlyNumCols(X))\n",
    "        else:\n",
    "            raise Exception(\"Unsupported method\")"
   ]
  },
  {
   "cell_type": "code",
   "execution_count": 5,
   "id": "d7b5b18b",
   "metadata": {},
   "outputs": [],
   "source": [
    "class handleCategorical(TransformerMixin):\n",
    "    def transformResidenceNLP(self, merged):\n",
    "        for i in merged['residence'].index:\n",
    "            country_code = re.findall('[A-Z]{2} [0-9]{5}', str(merged['residence'][i]))[0]\n",
    "            merged.at[i, 'state']=re.findall('[A-Z]{2}', country_code)[0]\n",
    "        len(merged['state'].value_counts())\n",
    "        return merged.drop('residence', axis=1)\n",
    "\n",
    "    def encodeOrdinal(self, merged):\n",
    "        transformed = self.transformResidenceNLP(merged)\n",
    "        ce_ordinal = ce.OrdinalEncoder(cols=['race', 'state', 'blood_group', 'relationship'])\n",
    "        encoded = ce_ordinal.fit_transform(transformed)\n",
    "        return encoded\n",
    "\n",
    "    def frombirthtoage(self, born):\n",
    "        now = datetime.date.today()\n",
    "        return now.year - born.year - ((now.month, now.day) < (born.month, born.day))\n",
    "\n",
    "    def computeAge(self, merged):\n",
    "        ages = merged['birthdate'].apply(lambda d: self.frombirthtoage(d))\n",
    "        merged = merged.assign(age=ages.values)\n",
    "        return merged.drop('birthdate', axis=1)\n",
    "\n",
    "    def encodeOneHot(self, merged):\n",
    "        ce_OHE = ce.OneHotEncoder(cols=['sex'], use_cat_names=True)\n",
    "        merged = ce_OHE.fit_transform(merged)\n",
    "        return merged\n",
    "\n",
    "    def fit(self, X):\n",
    "        return self\n",
    "    \n",
    "    def transform(self, X):\n",
    "        new_data = self.encodeOrdinal(X)\n",
    "        new_data = self.computeAge(new_data)\n",
    "        new_data = self.encodeOneHot(new_data)    \n",
    "        return new_data"
   ]
  },
  {
   "cell_type": "code",
   "execution_count": 6,
   "id": "1135716f",
   "metadata": {},
   "outputs": [],
   "source": [
    "class handleTransformations(TransformerMixin):\n",
    "    def __init__(self, method):\n",
    "        self.method = method\n",
    "        \n",
    "    def transformPower(self, merged):\n",
    "        power = PowerTransformer(method='yeo-johnson', standardize=True)\n",
    "        df_return = pd.DataFrame(power.fit_transform(merged), columns = merged.columns)\n",
    "        return df_return\n",
    "    \n",
    "    def transormQuan(self, merged):\n",
    "        quan = QuantileTransformer(n_quantiles=10, random_state=0)\n",
    "        df_return = pd.DataFrame(quan.fit_transform(merged), columns = merged.columns)\n",
    "        return df_return\n",
    "    \n",
    "    def scaleMM(self, merged):\n",
    "        norm_s = MinMaxScaler()\n",
    "        df_return = pd.DataFrame(norm_s.fit_transform(merged), columns = merged.columns)\n",
    "        return df_return\n",
    "        \n",
    "    def scaleS(self, merged):\n",
    "        stan_s = StandardScaler()\n",
    "        df_return = pd.DataFrame(stan_s.fit_transform(merged), columns = merged.columns)\n",
    "        return df_return\n",
    "    \n",
    "    def fit(self, X):\n",
    "        return self\n",
    "    \n",
    "    def transform(self, X):\n",
    "        if self.method == 'nothing':\n",
    "            return X\n",
    "        elif self.method == 'power':\n",
    "            return self.transformPower(X)\n",
    "        elif self.method == 'quan':\n",
    "            return self.transormQuan(X)\n",
    "        elif self.method == 'minmax':\n",
    "            return self.scaleMM(X)\n",
    "        elif self.method == 'standard':\n",
    "            return self.scaleS(X)\n",
    "        else:\n",
    "            raise Exception(\"Unsupported method\")"
   ]
  },
  {
   "cell_type": "code",
   "execution_count": null,
   "id": "029a4ee4",
   "metadata": {},
   "outputs": [],
   "source": []
  },
  {
   "cell_type": "markdown",
   "id": "5c7d9147",
   "metadata": {},
   "source": [
    "## 1. Manuálne vytvorenie a vyhodnotenie rozhodovacích pravidiel pre klasifikáciu (5b)\n",
    "* Naimplementujte 1R algorithm (1R or OneR), ktorý je jednoduchá klasifikácia t.j. rozhodnutie na základe jedného atribútu. Môžete implementovať komplikovanejšie t.j. zahŕňajúce viacero atribútov (ich kombinácie).\n",
    "* Pravidlá by v tomto kroku mali byť vytvorené manuálne na základe pozorovaných závislostí v dátach. Vyhodnoťte klasifikátor pomocou metrík accuracy, precision a recall."
   ]
  },
  {
   "cell_type": "code",
   "execution_count": null,
   "id": "ad082933",
   "metadata": {},
   "outputs": [],
   "source": []
  },
  {
   "cell_type": "code",
   "execution_count": null,
   "id": "93397fae",
   "metadata": {},
   "outputs": [],
   "source": []
  },
  {
   "cell_type": "markdown",
   "id": "028a2101",
   "metadata": {},
   "source": [
    "## 2. Natrénovanie a vyhodnotenie klasifikátora strojového učenia (5b)\n",
    "* Na trénovanie využite minimálne jeden stromový algoritm strojového učenia v scikit-learn.\n",
    "* Vizualizujte natrénované pravidlá.\n",
    "* Vyhodnoťte natrénovaný model pomocou metrík accuracy, precision a recall\n",
    "* Porovnajte natrénovaný klasifikátor s Vašimi manuálne vytvorenými pravidlami z prvého kroku."
   ]
  },
  {
   "cell_type": "code",
   "execution_count": 7,
   "id": "94476093",
   "metadata": {},
   "outputs": [],
   "source": [
    "def pipelineGenerator(na_method='remove', na_strategy=None, outliers_method='nothing', \n",
    "                      tranformation_method='nothing', select_attributes='all'):\n",
    "    pipeline =  Pipeline([\n",
    "        ('handleCategorical', handleCategorical()),\n",
    "        ('handleNA', handleNA(na_method, na_strategy)), # possible: 'nothing'; 'remove'; 'replace', 'mean'; 'replace', 'median'; 'replace', 'kNN'\n",
    "        ('handleOutliers', handleOutliers(outliers_method)), # possible: 'nothing'; 'remove'; 'replace'\n",
    "        ('handleTransformations', handleTransformations(tranformation_method)), # possible: 'nothing'; 'power'; 'quan'; 'minmax'; 'standard'\n",
    "    ])\n",
    "    return pipeline"
   ]
  },
  {
   "cell_type": "code",
   "execution_count": 8,
   "id": "b4c991a7",
   "metadata": {},
   "outputs": [
    {
     "name": "stderr",
     "output_type": "stream",
     "text": [
      "C:\\Users\\PeterSmrecek\\Documents\\IAU-repository\\IAU-virtual\\lib\\site-packages\\category_encoders\\utils.py:21: FutureWarning: is_categorical is deprecated and will be removed in a future version.  Use is_categorical_dtype instead\n",
      "  elif pd.api.types.is_categorical(cols):\n"
     ]
    }
   ],
   "source": [
    "original_data = phase1()\n",
    "pipeline1 = pipelineGenerator()\n",
    "transformed_data1 = pipeline1.fit_transform(original_data)"
   ]
  },
  {
   "cell_type": "code",
   "execution_count": 9,
   "id": "220ee486",
   "metadata": {},
   "outputs": [],
   "source": [
    "X_train, X_test, y_train, y_test = train_test_split(transformed_data1.drop([\"indicator\"], axis=1), transformed_data1['indicator'], test_size=0.33, random_state=1)"
   ]
  },
  {
   "cell_type": "markdown",
   "id": "0fd7b7ef",
   "metadata": {},
   "source": [
    "### Algoritmy: \n",
    "### 1. Decision tree"
   ]
  },
  {
   "cell_type": "code",
   "execution_count": 10,
   "id": "86167565",
   "metadata": {},
   "outputs": [],
   "source": [
    "from sklearn.tree import DecisionTreeClassifier, export_graphviz\n",
    "clf = DecisionTreeClassifier(random_state=1)\n",
    "clf.fit(X_train, y_train)\n",
    "y_train_pred = clf.predict(X_train)\n",
    "y_test_pred = clf.predict(X_test)"
   ]
  },
  {
   "cell_type": "markdown",
   "id": "82b4fd7d",
   "metadata": {},
   "source": [
    "**Vizualizácia natrénovaných pravidiel:**\n",
    "\n",
    "Výsledný strom sa uloží ako png súbor"
   ]
  },
  {
   "cell_type": "markdown",
   "id": "baae1abc",
   "metadata": {
    "scrolled": true
   },
   "source": [
    "from graphviz import Source\n",
    "from IPython.display import Image \n",
    "\n",
    "graph = Source(export_graphviz(clf, feature_names=X_train.columns, class_names=['false','true'], filled = True), format='png')\n",
    "graph"
   ]
  },
  {
   "cell_type": "markdown",
   "id": "bc64e763",
   "metadata": {
    "scrolled": true
   },
   "source": [
    "graph.render('decision_tree')\n",
    "Image(filename='decision_tree.png') "
   ]
  },
  {
   "cell_type": "markdown",
   "id": "94149d29",
   "metadata": {},
   "source": [
    "**Vyhodnotenie Decision tree podľa natrénovaných pravidiel pomocou metrík**"
   ]
  },
  {
   "cell_type": "code",
   "execution_count": 11,
   "id": "2f8908e2",
   "metadata": {},
   "outputs": [
    {
     "name": "stdout",
     "output_type": "stream",
     "text": [
      "y_train_pred:               precision    recall  f1-score   support\n",
      "\n",
      "         0.0       1.00      1.00      1.00      2294\n",
      "         1.0       1.00      1.00      1.00      4186\n",
      "\n",
      "    accuracy                           1.00      6480\n",
      "   macro avg       1.00      1.00      1.00      6480\n",
      "weighted avg       1.00      1.00      1.00      6480\n",
      " \n",
      "y_test_pred:               precision    recall  f1-score   support\n",
      "\n",
      "         0.0       0.83      0.82      0.83      1179\n",
      "         1.0       0.90      0.90      0.90      2013\n",
      "\n",
      "    accuracy                           0.87      3192\n",
      "   macro avg       0.86      0.86      0.86      3192\n",
      "weighted avg       0.87      0.87      0.87      3192\n",
      "\n"
     ]
    }
   ],
   "source": [
    "from sklearn.metrics import classification_report\n",
    "print('y_train_pred:', classification_report(y_train, y_train_pred), '\\ny_test_pred:', classification_report(y_test, y_test_pred))"
   ]
  },
  {
   "cell_type": "markdown",
   "id": "e1b59739",
   "metadata": {},
   "source": [
    "Podľa tohto výpisu vyplýva nastal overfitting."
   ]
  },
  {
   "cell_type": "markdown",
   "id": "08d66aaa",
   "metadata": {},
   "source": [
    "### 2. Random forest"
   ]
  },
  {
   "cell_type": "code",
   "execution_count": 12,
   "id": "f9fd8c0b",
   "metadata": {},
   "outputs": [],
   "source": [
    "from sklearn.ensemble import RandomForestClassifier\n",
    "\n",
    "clf = RandomForestClassifier(random_state=1)\n",
    "clf.fit(X_train, y_train)\n",
    "y_train_pred_rt = clf.predict(X_train)\n",
    "y_test_pred_rt = clf.predict(X_test)"
   ]
  },
  {
   "cell_type": "markdown",
   "id": "c5721f75",
   "metadata": {},
   "source": [
    "**Vizualizácia natrénovaných pravidiel:**\n",
    "\n",
    "Výsledný strom sa uloží ako png súbor"
   ]
  },
  {
   "cell_type": "markdown",
   "id": "c30554b4",
   "metadata": {},
   "source": [
    "from sklearn.tree import  export_graphviz\n",
    "from graphviz import Source\n",
    "from IPython.display import Image \n",
    "graph = Source(export_graphviz(clf.estimators_[0], feature_names=X_train.columns, class_names=['false','true'], filled = True), format='png')\n",
    "graph"
   ]
  },
  {
   "cell_type": "markdown",
   "id": "90a5fc95",
   "metadata": {},
   "source": [
    "Model RandomForest na vizualizáciu obsahuje v našom prípade prvý Decision tree v celom RandomForest. (clf.estimators_[0])"
   ]
  },
  {
   "cell_type": "markdown",
   "id": "5fafb535",
   "metadata": {},
   "source": [
    "graph.render('rf')\n",
    "Image(filename='rf.png') "
   ]
  },
  {
   "cell_type": "markdown",
   "id": "36c14f2d",
   "metadata": {},
   "source": [
    "**Vyhodnotenie Random forest podľa natrénovaných pravidiel pomocou metrík**"
   ]
  },
  {
   "cell_type": "code",
   "execution_count": 35,
   "id": "6dab82fe",
   "metadata": {
    "scrolled": false
   },
   "outputs": [
    {
     "name": "stdout",
     "output_type": "stream",
     "text": [
      "y_train_pred:               precision    recall  f1-score   support\n",
      "\n",
      "         0.0       1.00      1.00      1.00      2294\n",
      "         1.0       1.00      1.00      1.00      4186\n",
      "\n",
      "    accuracy                           1.00      6480\n",
      "   macro avg       1.00      1.00      1.00      6480\n",
      "weighted avg       1.00      1.00      1.00      6480\n",
      " \n",
      "y_test_pred:               precision    recall  f1-score   support\n",
      "\n",
      "         0.0       0.89      0.87      0.88      1179\n",
      "         1.0       0.92      0.94      0.93      2013\n",
      "\n",
      "    accuracy                           0.91      3192\n",
      "   macro avg       0.91      0.90      0.90      3192\n",
      "weighted avg       0.91      0.91      0.91      3192\n",
      "\n"
     ]
    }
   ],
   "source": [
    "print('y_train_pred:', classification_report(y_train, y_train_pred_rt), '\\ny_test_pred:', classification_report(y_test, y_test_pred_rt))"
   ]
  },
  {
   "cell_type": "markdown",
   "id": "e01acab0",
   "metadata": {},
   "source": [
    "Podľa tohto výpisu vyplýva, že aj tu nastal overfitting."
   ]
  },
  {
   "cell_type": "markdown",
   "id": "99b04bd9",
   "metadata": {},
   "source": [
    "Rozhodli sme sa ďalej pracovať s RandomForest algoritmom. Hoci aj ten nám vytvoril overfitting, ale vo všeobecnosti dosahuje lepšie výsledky."
   ]
  },
  {
   "cell_type": "markdown",
   "id": "bb4c1c44",
   "metadata": {},
   "source": [
    "# pre teba:"
   ]
  },
  {
   "cell_type": "code",
   "execution_count": 14,
   "id": "7d012164",
   "metadata": {},
   "outputs": [],
   "source": [
    "def report_generator(pred_train, pred_test, y_train, y_test, driver_silent):\n",
    "    if not driver_silent:\n",
    "        print(\"Predicting for train dataset:\")\n",
    "        print(classification_report(y_train, pred_train))\n",
    "\n",
    "        print(\"Predicting for test dataset:\")\n",
    "        print(classification_report(y_test, pred_test))\n",
    "    \n",
    "    report_train = classification_report(y_train, pred_train, output_dict=True)\n",
    "    report_test = classification_report(y_test, pred_test, output_dict=True)\n",
    "    \n",
    "    return report_train, report_test"
   ]
  },
  {
   "cell_type": "markdown",
   "id": "370697de",
   "metadata": {},
   "source": [
    "**tu je tá driver funkcia:**"
   ]
  },
  {
   "cell_type": "code",
   "execution_count": 15,
   "id": "30bd8347",
   "metadata": {},
   "outputs": [],
   "source": [
    "def randomForestDriver(X_train, X_test, y_train, y_test, driver_silent=True, max_depth=None):\n",
    "    cls = RandomForestClassifier(max_depth=max_depth, random_state=1)\n",
    "    cls.fit(X_train, y_train)\n",
    "    \n",
    "    pred_train = cls.predict(X_train)\n",
    "    pred_test = cls.predict(X_test)\n",
    "    \n",
    "    return cls, *report_generator(pred_train, pred_test, y_train, y_test, driver_silent)"
   ]
  },
  {
   "cell_type": "code",
   "execution_count": 16,
   "id": "8bbee7c8",
   "metadata": {},
   "outputs": [
    {
     "name": "stdout",
     "output_type": "stream",
     "text": [
      "Predicting for train dataset:\n",
      "              precision    recall  f1-score   support\n",
      "\n",
      "         0.0       1.00      1.00      1.00      2294\n",
      "         1.0       1.00      1.00      1.00      4186\n",
      "\n",
      "    accuracy                           1.00      6480\n",
      "   macro avg       1.00      1.00      1.00      6480\n",
      "weighted avg       1.00      1.00      1.00      6480\n",
      "\n",
      "Predicting for test dataset:\n",
      "              precision    recall  f1-score   support\n",
      "\n",
      "         0.0       0.89      0.87      0.88      1179\n",
      "         1.0       0.92      0.94      0.93      2013\n",
      "\n",
      "    accuracy                           0.91      3192\n",
      "   macro avg       0.91      0.90      0.90      3192\n",
      "weighted avg       0.91      0.91      0.91      3192\n",
      "\n"
     ]
    }
   ],
   "source": [
    "cls1, train_report1, test_report1 = randomForestDriver(X_train, X_test, y_train, y_test, driver_silent=False)"
   ]
  },
  {
   "cell_type": "markdown",
   "id": "3601edb1",
   "metadata": {},
   "source": [
    "## 3. Optimalizácia - hyperparameter tuning (5b)\n",
    "* Preskúmajte hyperparametre Vášho zvoleného klasifikačného algoritmu v druhom kroku a vyskúšajte ich rôzne nastavenie tak, aby ste minimalizovali overfitting (preučenie) a optimalizovali výsledok. \n",
    "* Vysvetlite, čo jednotlivé hyperparametre robia. Pri nastavovaní hyperparametrov algoritmu využite krížovú validáciu (cross validation) na trénovacej množine."
   ]
  },
  {
   "cell_type": "markdown",
   "id": "90584ca4",
   "metadata": {},
   "source": [
    "\\* odkaz len pre mňa https://www.analyticsvidhya.com/blog/2021/06/understanding-random-forest/"
   ]
  },
  {
   "cell_type": "markdown",
   "id": "4ca71d54",
   "metadata": {},
   "source": [
    "Klasifikačný algoritmus RandomForest má dokopy 18 parametrov, z toho 7 je kľučových:\n",
    "- max_depth\n",
    "- min_sample_split\n",
    "- max_leaf_nodes\n",
    "- min_samples_leaf\n",
    "- n_estimators\n",
    "- max_sample (bootstrap sample)\n",
    "- max_features\n",
    "\n",
    "Aby sme optimalizovali parametre, a tak vylepšili úspešnosť, pričom príliš nezaťažili naše výpočtové zdroje, rozhodli sme sa použiť tieto:\n",
    "- criterion: funkcia na meranie kvality rozdelenia (gini, entropy)\n",
    "- max_features: maximálny počet atribútov, ktorý je potrebné zvážiť počas každého delenia (log2, 1 - 10)\n",
    "- n_estimators: počet stromov pred priemerovaním predikcií (5, 10, 50, 100, 200)\n",
    "- min_sample_leaf: minimálny počet vzoriek, ktoré majú pripadnúť na jeden leaf node (2, 5, 10, 20, 50)\n",
    "\n",
    "Na zvýšenie rýchlosti vykonávania sme sa rozhodli pridať parameter random_state a neobmedzili sme počet procesorov, na ktorých pôjde výpočet (n_jobs).\n",
    "\n",
    "Parameter verbose slúži na to, koľko výpisov má zobraziť. My sme použili verbose=1, aby sme základé výpisy videli, ako napr. počet kandidátov a počet fits."
   ]
  },
  {
   "cell_type": "code",
   "execution_count": 17,
   "id": "e68c724d",
   "metadata": {},
   "outputs": [],
   "source": [
    "params = {\n",
    "    'criterion': ['gini', 'entropy'],\n",
    "    'max_features': ['log2', range(1, 11)],\n",
    "    'min_samples_leaf': [5,10,20,50,100,200],\n",
    "    'n_estimators': [10,25,30,50,100,200]\n",
    "}"
   ]
  },
  {
   "cell_type": "code",
   "execution_count": 18,
   "id": "f3888c0f",
   "metadata": {},
   "outputs": [],
   "source": [
    "cls = RandomForestClassifier(random_state=1)"
   ]
  },
  {
   "cell_type": "markdown",
   "id": "63b65970",
   "metadata": {},
   "source": [
    "#### GridSearch Cross Validation"
   ]
  },
  {
   "cell_type": "code",
   "execution_count": 19,
   "id": "994abe89",
   "metadata": {},
   "outputs": [],
   "source": [
    "from sklearn.model_selection import GridSearchCV, RandomizedSearchCV\n",
    "\n",
    "gridCV = GridSearchCV(cls, params, cv=3, verbose=1, n_jobs=-1)"
   ]
  },
  {
   "cell_type": "markdown",
   "id": "aa5257a1",
   "metadata": {},
   "source": [
    "#### RandomizedSearch Cross Validation"
   ]
  },
  {
   "cell_type": "code",
   "execution_count": 20,
   "id": "6cb685eb",
   "metadata": {},
   "outputs": [],
   "source": [
    "randomCV = RandomizedSearchCV(cls, params, cv=7, verbose=1, n_jobs=-1)"
   ]
  },
  {
   "cell_type": "code",
   "execution_count": 21,
   "id": "612aaf1c",
   "metadata": {},
   "outputs": [
    {
     "name": "stdout",
     "output_type": "stream",
     "text": [
      "Fitting 3 folds for each of 144 candidates, totalling 432 fits\n"
     ]
    },
    {
     "name": "stderr",
     "output_type": "stream",
     "text": [
      "C:\\Users\\PeterSmrecek\\Documents\\IAU-repository\\IAU-virtual\\lib\\site-packages\\sklearn\\model_selection\\_search.py:922: UserWarning: One or more of the test scores are non-finite: [0.90246914 0.9066358  0.90493827 0.9058642  0.91033951 0.91141975\n",
      " 0.90108025 0.90092593 0.89953704 0.90277778 0.9029321  0.90200617\n",
      " 0.88811728 0.89012346 0.89166667 0.89675926 0.89614198 0.89305556\n",
      " 0.86697531 0.87253086 0.87037037 0.8712963  0.87160494 0.87098765\n",
      " 0.85308642 0.85046296 0.84722222 0.85154321 0.85679012 0.85169753\n",
      " 0.8242284  0.80864198 0.80216049 0.81604938 0.81790123 0.82469136\n",
      "        nan        nan        nan        nan        nan        nan\n",
      "        nan        nan        nan        nan        nan        nan\n",
      "        nan        nan        nan        nan        nan        nan\n",
      "        nan        nan        nan        nan        nan        nan\n",
      "        nan        nan        nan        nan        nan        nan\n",
      "        nan        nan        nan        nan        nan        nan\n",
      " 0.9037037  0.90833333 0.90725309 0.90925926 0.91234568 0.91141975\n",
      " 0.9        0.90277778 0.9037037  0.90447531 0.90679012 0.90524691\n",
      " 0.88996914 0.88811728 0.88873457 0.89444444 0.89614198 0.89351852\n",
      " 0.87561728 0.87746914 0.87777778 0.87700617 0.87453704 0.87268519\n",
      " 0.85432099 0.85046296 0.84753086 0.8529321  0.85324074 0.84984568\n",
      " 0.8345679  0.81203704 0.8087963  0.81882716 0.82067901 0.82299383\n",
      "        nan        nan        nan        nan        nan        nan\n",
      "        nan        nan        nan        nan        nan        nan\n",
      "        nan        nan        nan        nan        nan        nan\n",
      "        nan        nan        nan        nan        nan        nan\n",
      "        nan        nan        nan        nan        nan        nan\n",
      "        nan        nan        nan        nan        nan        nan]\n",
      "  warnings.warn(\n"
     ]
    },
    {
     "data": {
      "text/plain": [
       "GridSearchCV(cv=3, estimator=RandomForestClassifier(random_state=1), n_jobs=-1,\n",
       "             param_grid={'criterion': ['gini', 'entropy'],\n",
       "                         'max_features': ['log2', range(1, 11)],\n",
       "                         'min_samples_leaf': [5, 10, 20, 50, 100, 200],\n",
       "                         'n_estimators': [10, 25, 30, 50, 100, 200]},\n",
       "             verbose=1)"
      ]
     },
     "execution_count": 21,
     "metadata": {},
     "output_type": "execute_result"
    }
   ],
   "source": [
    "gridCV.fit(X_train,y_train)"
   ]
  },
  {
   "cell_type": "code",
   "execution_count": 22,
   "id": "5b65589b",
   "metadata": {},
   "outputs": [
    {
     "name": "stdout",
     "output_type": "stream",
     "text": [
      "Fitting 7 folds for each of 10 candidates, totalling 70 fits\n"
     ]
    },
    {
     "name": "stderr",
     "output_type": "stream",
     "text": [
      "C:\\Users\\PeterSmrecek\\Documents\\IAU-repository\\IAU-virtual\\lib\\site-packages\\sklearn\\model_selection\\_search.py:922: UserWarning: One or more of the test scores are non-finite: [0.91465764        nan        nan 0.90555234        nan 0.9106447\n",
      " 0.89799078        nan        nan        nan]\n",
      "  warnings.warn(\n"
     ]
    },
    {
     "data": {
      "text/plain": [
       "RandomizedSearchCV(cv=7, estimator=RandomForestClassifier(random_state=1),\n",
       "                   n_jobs=-1,\n",
       "                   param_distributions={'criterion': ['gini', 'entropy'],\n",
       "                                        'max_features': ['log2', range(1, 11)],\n",
       "                                        'min_samples_leaf': [5, 10, 20, 50, 100,\n",
       "                                                             200],\n",
       "                                        'n_estimators': [10, 25, 30, 50, 100,\n",
       "                                                         200]},\n",
       "                   verbose=1)"
      ]
     },
     "execution_count": 22,
     "metadata": {},
     "output_type": "execute_result"
    }
   ],
   "source": [
    "randomCV.fit(X_train,y_train)"
   ]
  },
  {
   "cell_type": "code",
   "execution_count": 23,
   "id": "476492dd",
   "metadata": {},
   "outputs": [
    {
     "data": {
      "text/plain": [
       "0.9123456790123456"
      ]
     },
     "execution_count": 23,
     "metadata": {},
     "output_type": "execute_result"
    }
   ],
   "source": [
    "gridCV.best_score_"
   ]
  },
  {
   "cell_type": "code",
   "execution_count": 24,
   "id": "dbcf11c6",
   "metadata": {},
   "outputs": [
    {
     "data": {
      "text/plain": [
       "RandomForestClassifier(criterion='entropy', max_features='log2',\n",
       "                       min_samples_leaf=5, random_state=1)"
      ]
     },
     "execution_count": 24,
     "metadata": {},
     "output_type": "execute_result"
    }
   ],
   "source": [
    "bestGrid = gridCV.best_estimator_\n",
    "bestGrid"
   ]
  },
  {
   "cell_type": "code",
   "execution_count": 25,
   "id": "b1da9881",
   "metadata": {},
   "outputs": [
    {
     "data": {
      "text/plain": [
       "0.9146576381997547"
      ]
     },
     "execution_count": 25,
     "metadata": {},
     "output_type": "execute_result"
    }
   ],
   "source": [
    "randomCV.best_score_"
   ]
  },
  {
   "cell_type": "code",
   "execution_count": 26,
   "id": "ed59f279",
   "metadata": {},
   "outputs": [
    {
     "data": {
      "text/plain": [
       "RandomForestClassifier(max_features='log2', min_samples_leaf=5,\n",
       "                       n_estimators=200, random_state=1)"
      ]
     },
     "execution_count": 26,
     "metadata": {},
     "output_type": "execute_result"
    }
   ],
   "source": [
    "bestRandom = randomCV.best_estimator_\n",
    "bestRandom"
   ]
  },
  {
   "cell_type": "code",
   "execution_count": 27,
   "id": "84a76754",
   "metadata": {},
   "outputs": [],
   "source": [
    "gridPred_train = bestGrid.predict(X_train)"
   ]
  },
  {
   "cell_type": "code",
   "execution_count": 28,
   "id": "5ece286b",
   "metadata": {},
   "outputs": [],
   "source": [
    "gridPred = bestGrid.predict(X_test)"
   ]
  },
  {
   "cell_type": "code",
   "execution_count": 29,
   "id": "ce4cbfe4",
   "metadata": {},
   "outputs": [
    {
     "name": "stdout",
     "output_type": "stream",
     "text": [
      "              precision    recall  f1-score   support\n",
      "\n",
      "         0.0       0.98      0.95      0.96      2294\n",
      "         1.0       0.97      0.99      0.98      4186\n",
      "\n",
      "    accuracy                           0.97      6480\n",
      "   macro avg       0.97      0.97      0.97      6480\n",
      "weighted avg       0.97      0.97      0.97      6480\n",
      "\n"
     ]
    }
   ],
   "source": [
    "print(classification_report(y_train, gridPred_train)) "
   ]
  },
  {
   "cell_type": "code",
   "execution_count": 30,
   "id": "a6cf166f",
   "metadata": {},
   "outputs": [
    {
     "name": "stdout",
     "output_type": "stream",
     "text": [
      "              precision    recall  f1-score   support\n",
      "\n",
      "         0.0       0.89      0.87      0.88      1179\n",
      "         1.0       0.93      0.94      0.93      2013\n",
      "\n",
      "    accuracy                           0.91      3192\n",
      "   macro avg       0.91      0.91      0.91      3192\n",
      "weighted avg       0.91      0.91      0.91      3192\n",
      "\n"
     ]
    }
   ],
   "source": [
    "print(classification_report(y_test, gridPred)) "
   ]
  },
  {
   "cell_type": "code",
   "execution_count": 31,
   "id": "bc0f7eb3",
   "metadata": {},
   "outputs": [],
   "source": [
    "randomPred_train = bestRandom.predict(X_train)"
   ]
  },
  {
   "cell_type": "code",
   "execution_count": 32,
   "id": "2c6b9d5c",
   "metadata": {},
   "outputs": [],
   "source": [
    "randomPred = bestRandom.predict(X_test)"
   ]
  },
  {
   "cell_type": "code",
   "execution_count": 33,
   "id": "feab0af2",
   "metadata": {},
   "outputs": [
    {
     "name": "stdout",
     "output_type": "stream",
     "text": [
      "              precision    recall  f1-score   support\n",
      "\n",
      "         0.0       0.97      0.94      0.96      2294\n",
      "         1.0       0.97      0.99      0.98      4186\n",
      "\n",
      "    accuracy                           0.97      6480\n",
      "   macro avg       0.97      0.96      0.97      6480\n",
      "weighted avg       0.97      0.97      0.97      6480\n",
      "\n"
     ]
    }
   ],
   "source": [
    "print(classification_report(y_train, randomPred_train)) "
   ]
  },
  {
   "cell_type": "code",
   "execution_count": 34,
   "id": "820bdf69",
   "metadata": {},
   "outputs": [
    {
     "name": "stdout",
     "output_type": "stream",
     "text": [
      "              precision    recall  f1-score   support\n",
      "\n",
      "         0.0       0.90      0.85      0.87      1179\n",
      "         1.0       0.91      0.94      0.93      2013\n",
      "\n",
      "    accuracy                           0.91      3192\n",
      "   macro avg       0.91      0.90      0.90      3192\n",
      "weighted avg       0.91      0.91      0.91      3192\n",
      "\n"
     ]
    }
   ],
   "source": [
    "print(classification_report(y_test, randomPred)) "
   ]
  },
  {
   "cell_type": "markdown",
   "id": "7fe56bbe",
   "metadata": {},
   "source": [
    "Obidva spôsoby nemajú overfitting, preto možno pokladať výsledky za akceptovateľné, ktoré vylepšili accuracy."
   ]
  },
  {
   "cell_type": "markdown",
   "id": "9a823523",
   "metadata": {},
   "source": [
    "## 4. Vyhodnotenie vplyvu zvolenej stratégie riešenia na klasifikáciu (5b)\n",
    "Vyhodnotíte Vami zvolené stratégie riešenia projektu z hľadiska classification accuracy: \n",
    "\n",
    "* Stratégie riešenia chýbajúcich hodnôt a outlierov;\n",
    "* Scaling resp. transformer či zlepší accuracy klasifikácie;\n",
    "* Výber atribútov a výber algoritmov;\n",
    "* Hyperparameter tuning resp. ensemble learning.\n",
    "\n",
    "Ktorý spôsob z každého hore-uvedených bodov sa ukázal ako vhodnejší pre daný problém? Vyhodnotenie podložíte dôkazmi."
   ]
  },
  {
   "cell_type": "code",
   "execution_count": null,
   "id": "74a9f8ad",
   "metadata": {},
   "outputs": [],
   "source": []
  },
  {
   "cell_type": "code",
   "execution_count": null,
   "id": "ccaf353f",
   "metadata": {},
   "outputs": [],
   "source": []
  },
  {
   "cell_type": "markdown",
   "id": "89749bad",
   "metadata": {},
   "source": [
    "Správa sa odovzdáva v 12. týždni semestra\n",
    "* Na cvičení, dvojica svojmu cvičiacemu odprezentuje vykonanú prácu v Jupyter Notebooku.\n",
    "* Správu elektronicky odovzdá jeden člen z dvojice do systému AIS do nedele 12.12.2021 23:59."
   ]
  }
 ],
 "metadata": {
  "kernelspec": {
   "display_name": "Python 3 (ipykernel)",
   "language": "python",
   "name": "python3"
  },
  "language_info": {
   "codemirror_mode": {
    "name": "ipython",
    "version": 3
   },
   "file_extension": ".py",
   "mimetype": "text/x-python",
   "name": "python",
   "nbconvert_exporter": "python",
   "pygments_lexer": "ipython3",
   "version": "3.9.7"
  }
 },
 "nbformat": 4,
 "nbformat_minor": 5
}
